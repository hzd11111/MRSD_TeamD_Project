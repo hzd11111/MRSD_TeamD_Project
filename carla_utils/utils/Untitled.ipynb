{
 "cells": [
  {
   "cell_type": "code",
   "execution_count": null,
   "metadata": {},
   "outputs": [],
   "source": [
    "from actors import Vehicle, Pedestrian\n",
    "from typing import Optional, List\n",
    "import random\n"
   ]
  },
  {
   "cell_type": "code",
   "execution_count": null,
   "metadata": {},
   "outputs": [],
   "source": []
  },
  {
   "cell_type": "code",
   "execution_count": null,
   "metadata": {},
   "outputs": [],
   "source": [
    "import carla"
   ]
  },
  {
   "cell_type": "code",
   "execution_count": null,
   "metadata": {},
   "outputs": [],
   "source": [
    "def get_client() -> carla.libcarla.Client:\n",
    "    \"\"\"\n",
    "    Get a CARLA client object. The client object enables interaction with the CARLA server.\n",
    "    \"\"\"\n",
    "    client = carla.Client(\"localhost\", 2000)\n",
    "    client.set_timeout(10.0)\n",
    "    print(\"Connection to CARLA server established!\")\n",
    "    return client\n"
   ]
  },
  {
   "cell_type": "code",
   "execution_count": null,
   "metadata": {},
   "outputs": [],
   "source": [
    "# Get client to interact with CARLA server\n",
    "client = get_client()\n",
    "\n",
    "# Get current CARLA world\n",
    "world = client.get_world()"
   ]
  },
  {
   "cell_type": "code",
   "execution_count": null,
   "metadata": {},
   "outputs": [],
   "source": [
    "def spawn_vehicle(\n",
    "    world: carla.libcarla.World,\n",
    "    vehicle_type: str = \"model3\",\n",
    "    spawn_point: Optional[carla.libcarla.Transform] = None,\n",
    ") -> carla.libcarla.Vehicle:\n",
    "    \"\"\"\n",
    "    Spawns a vehicle at a given spawn point. Default car model is 'model3'.\n",
    "    If no spawn point is provided, randomly selects the spawn point from the set of pre-assigned spawn points in the map.\n",
    "    \"\"\"\n",
    "\n",
    "    if spawn_point is None:\n",
    "        spawn_point = random.choice(world.get_map().get_spawn_points())\n",
    "    vehicle_blueprint = world.get_blueprint_library().filter(vehicle_type)[0]\n",
    "    vehicle = world.spawn_actor(vehicle_blueprint, spawn_point)\n",
    "    return vehicle\n"
   ]
  },
  {
   "cell_type": "code",
   "execution_count": null,
   "metadata": {},
   "outputs": [],
   "source": [
    "all_waypoints = world.get_map().generate_waypoints(1)\n",
    "def filter_waypoints(waypoints, road_id, lane_id = None):\n",
    "    \n",
    "    filtered_waypoints = []\n",
    "    for wp in waypoints:\n",
    "        \n",
    "        if lane_id == None and wp.road_id == road_id:\n",
    "            filtered_waypoints.append(wp) \n",
    "        elif wp.road_id == road_id and wp.lane_id==lane_id:\n",
    "            filtered_waypoints.append(wp) \n",
    "\n",
    "    return filtered_waypoints\n",
    "\n",
    "\n",
    "def spawn_vehicle(\n",
    "    world: carla.libcarla.World,\n",
    "    vehicle_type: str = \"model3\",\n",
    "    spawn_point: Optional[carla.libcarla.Transform] = None,\n",
    ") -> carla.libcarla.Vehicle:\n",
    "    \"\"\"\n",
    "    Spawns a vehicle at a given spawn point. Default car model is 'model3'.\n",
    "    If no spawn point is provided, randomly selects the spawn point from the set of pre-assigned spawn points in the map.\n",
    "    \"\"\"\n",
    "\n",
    "    if spawn_point is None:\n",
    "        spawn_point = random.choice(world.get_map().get_spawn_points())\n",
    "    vehicle_blueprint = world.get_blueprint_library().filter(vehicle_type)[0]\n",
    "    vehicle = world.spawn_actor(vehicle_blueprint, spawn_point)\n",
    "    return vehicle\n",
    "\n",
    "\n",
    "def draw_waypoints(\n",
    "    world: carla.libcarla.World,\n",
    "    waypoints: List[carla.libcarla.Waypoint],\n",
    "    life_time: float = 30.0,  # Seconds\n",
    ") -> None:\n",
    "    \"\"\"\n",
    "    Draws a list of waypoints in the given CARLA world.\n",
    "    \"\"\"\n",
    "    for waypoint in waypoints:\n",
    "        world.debug.draw_string(\n",
    "            waypoint.transform.location,\n",
    "            \"O\",\n",
    "            draw_shadow=False,\n",
    "            color=carla.Color(r=0, g=255, b=0),\n",
    "            life_time=life_time,\n",
    "            persistent_lines=True,\n",
    "        )\n"
   ]
  },
  {
   "cell_type": "code",
   "execution_count": null,
   "metadata": {},
   "outputs": [],
   "source": [
    "wps = filter_waypoints(all_waypoints, road_id=12)\n",
    "\n"
   ]
  },
  {
   "cell_type": "code",
   "execution_count": null,
   "metadata": {},
   "outputs": [],
   "source": [
    "vehicle_blueprint = world.get_blueprint_library().filter('walker.pedestrian.*')[10]\n",
    "ped1 = world.spawn_actor(vehicle_blueprint, wps[15].transform)\n",
    "ped2 = world.spawn_actor(vehicle_blueprint, wps[10].transform)\n",
    "ped3 = world.spawn_actor(vehicle_blueprint, wps[5].transform)"
   ]
  },
  {
   "cell_type": "code",
   "execution_count": null,
   "metadata": {},
   "outputs": [],
   "source": []
  },
  {
   "cell_type": "code",
   "execution_count": null,
   "metadata": {},
   "outputs": [],
   "source": [
    "wp1 = np.random.choice(wps, 10)\n",
    "# draw_waypoints(world, wp1)"
   ]
  },
  {
   "cell_type": "code",
   "execution_count": null,
   "metadata": {},
   "outputs": [],
   "source": [
    "world.get_blueprint_library().filter('model3*')"
   ]
  },
  {
   "cell_type": "code",
   "execution_count": null,
   "metadata": {},
   "outputs": [],
   "source": [
    "actors = []\n",
    "for i,wp in enumerate(wp1):\n",
    "    \n",
    "    x = wp.transform.location.x\n",
    "    y = wp.transform.location.y\n",
    "    z = wp.transform.location.z + 0.5\n",
    "    yaw = wp.transform.rotation.yaw\n",
    "    transform = carla.Transform(carla.Location(x=x,y=y,z=z), carla.Rotation(yaw=yaw))\n",
    "\n",
    "    actors.append(spawn_vehicle(world, 'model3', transform))\n",
    "    "
   ]
  },
  {
   "cell_type": "code",
   "execution_count": null,
   "metadata": {},
   "outputs": [],
   "source": []
  },
  {
   "cell_type": "code",
   "execution_count": null,
   "metadata": {},
   "outputs": [],
   "source": [
    "for actors in world.get_actors().filter('*'):\n",
    "    actors.destroy()"
   ]
  },
  {
   "cell_type": "code",
   "execution_count": null,
   "metadata": {},
   "outputs": [],
   "source": [
    "wp1[0].transform.location.y, actors[0].get_location().y"
   ]
  },
  {
   "cell_type": "code",
   "execution_count": null,
   "metadata": {},
   "outputs": [],
   "source": [
    "draw_waypoints(world, [wp1[0]])"
   ]
  },
  {
   "cell_type": "code",
   "execution_count": null,
   "metadata": {},
   "outputs": [],
   "source": [
    "our_vehicle = Vehicle(world, actors[0].id)"
   ]
  },
  {
   "cell_type": "code",
   "execution_count": null,
   "metadata": {},
   "outputs": [],
   "source": []
  },
  {
   "cell_type": "code",
   "execution_count": null,
   "metadata": {},
   "outputs": [],
   "source": [
    "closest_vehicles, idxs = Vehicle.getClosest([Vehicle(world, actor.id) for actor in actors[1:]], our_vehicle, 5)"
   ]
  },
  {
   "cell_type": "code",
   "execution_count": null,
   "metadata": {},
   "outputs": [],
   "source": [
    "closest_pedestrians, idxs = Pedestrian.getClosestPedestrian([Pedestrian(world, ped.id) for ped in [ped1, ped2, ped3]], our_vehicle, 1)"
   ]
  },
  {
   "cell_type": "code",
   "execution_count": null,
   "metadata": {},
   "outputs": [],
   "source": [
    "our_vehicle = Vehicle(world, actors[0].id)"
   ]
  },
  {
   "cell_type": "code",
   "execution_count": null,
   "metadata": {},
   "outputs": [],
   "source": [
    "vehicle_location = carla.Location(x=our_vehicle.location[\"x\"], y=our_vehicle.location[\"y\"], z=our_vehicle.location[\"z\"])\n",
    "nearest_waypoint = world.get_map().get_waypoint(\n",
    "    vehicle_location, project_to_road=True\n",
    ")\n",
    "draw_waypoints(world, [nearest_waypoint])"
   ]
  },
  {
   "cell_type": "code",
   "execution_count": null,
   "metadata": {},
   "outputs": [],
   "source": [
    "nearest_waypoint."
   ]
  },
  {
   "cell_type": "code",
   "execution_count": null,
   "metadata": {},
   "outputs": [],
   "source": [
    "for vehicle in closest_vehicles + [our_vehicle]:\n",
    "    vehicle_location = carla.Location(x=vehicle.location[\"x\"], y=vehicle.location[\"y\"], z=vehicle.location[\"z\"])\n",
    "    nearest_waypoint = world.get_map().get_waypoint(\n",
    "        vehicle_location, project_to_road=True\n",
    "    )\n",
    "    draw_waypoints(world, [nearest_waypoint])"
   ]
  },
  {
   "cell_type": "code",
   "execution_count": null,
   "metadata": {},
   "outputs": [],
   "source": [
    "draw_waypoints(world, [nearest_waypoint])"
   ]
  }
 ],
 "metadata": {
  "kernelspec": {
   "display_name": "Python 3",
   "language": "python",
   "name": "python3"
  },
  "language_info": {
   "codemirror_mode": {
    "name": "ipython",
    "version": 3
   },
   "file_extension": ".py",
   "mimetype": "text/x-python",
   "name": "python",
   "nbconvert_exporter": "python",
   "pygments_lexer": "ipython3",
   "version": "3.5.2"
  },
  "varInspector": {
   "cols": {
    "lenName": 16,
    "lenType": 16,
    "lenVar": 40
   },
   "kernels_config": {
    "python": {
     "delete_cmd_postfix": "",
     "delete_cmd_prefix": "del ",
     "library": "var_list.py",
     "varRefreshCmd": "print(var_dic_list())"
    },
    "r": {
     "delete_cmd_postfix": ") ",
     "delete_cmd_prefix": "rm(",
     "library": "var_list.r",
     "varRefreshCmd": "cat(var_dic_list()) "
    }
   },
   "types_to_exclude": [
    "module",
    "function",
    "builtin_function_or_method",
    "instance",
    "_Feature"
   ],
   "window_display": false
  }
 },
 "nbformat": 4,
 "nbformat_minor": 4
}
