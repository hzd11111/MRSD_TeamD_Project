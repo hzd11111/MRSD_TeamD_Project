{
 "cells": [
  {
   "cell_type": "code",
   "execution_count": 1,
   "metadata": {},
   "outputs": [],
   "source": [
    "import carla\n",
    "import time\n",
    "from intersection_scenario_manager import IntersectionScenario\n",
    "import numpy as np\n",
    "import sys\n",
    "sys.path.append(\"cartesian_to_frenet/\")\n",
    "from topology_extraction import get_opendrive_tree, get_junction_topology, get_junction_roads_topology\n",
    "sys.path.append(\"../../global_route_planner/\")\n",
    "from global_planner import get_client, draw_waypoints, spawn_vehicle"
   ]
  },
  {
   "cell_type": "code",
   "execution_count": 2,
   "metadata": {},
   "outputs": [],
   "source": [
    "client = carla.Client(\"localhost\", 2000)\n",
    "client.set_timeout(10.0)"
   ]
  },
  {
   "cell_type": "code",
   "execution_count": 14,
   "metadata": {},
   "outputs": [
    {
     "name": "stdout",
     "output_type": "stream",
     "text": [
      "Connection to CARLA server established!\n"
     ]
    }
   ],
   "source": [
    "# Get client to interact with CARLA server\n",
    "client = get_client()\n",
    "\n",
    "# Get current CARLA world\n",
    "world = client.get_world()\n",
    "\n",
    "all_waypoints = world.get_map().generate_waypoints(1)\n",
    "def draw(road_id, lane_id=None, color=[0,255,0]):\n",
    "    for wp in all_waypoints:\n",
    "        \n",
    "        if lane_id == None and wp.road_id == road_id:\n",
    "            draw_waypoints(world, [wp], 10, color) \n",
    "#             print(wp.lane_id)\n",
    "        elif wp.road_id == road_id and wp.lane_id==lane_id:\n",
    "            draw_waypoints(world, [wp], 10, color) \n",
    "            \n",
    "tree = get_opendrive_tree(world)\n",
    "junction_topology = get_junction_topology(tree)\n",
    "road_topology = get_junction_roads_topology(tree)"
   ]
  },
  {
   "cell_type": "code",
   "execution_count": 4,
   "metadata": {
    "scrolled": false
   },
   "outputs": [
    {
     "name": "stdout",
     "output_type": "stream",
     "text": [
      "Intersection Manager Initialized...\n"
     ]
    }
   ],
   "source": [
    "SM = IntersectionScenario(client)"
   ]
  },
  {
   "cell_type": "markdown",
   "metadata": {},
   "source": [
    "dict_keys([224, 965, 421, 1175, 905, 1162, 139, 1260, 685, 334, 751, 1148, 1050, 53, 599, 1070, 943, 509, 924, 829, 245])"
   ]
  },
  {
   "cell_type": "code",
   "execution_count": 5,
   "metadata": {},
   "outputs": [],
   "source": [
    "junctionId = 53\n",
    "\n",
    "# for idx in range(len(junction_topology[junctionId])):\n",
    "#     intersection_road_id, intersection_lane_id = junction_topology[junctionId][idx][1]\n",
    "\n",
    "#     road_1_id, road_2_id, lane_connections = road_topology[intersection_road_id]\n",
    "#     print(road_1_id, road_2_id, intersection_road_id, lane_connections)"
   ]
  },
  {
   "cell_type": "code",
   "execution_count": 27,
   "metadata": {
    "scrolled": true
   },
   "outputs": [
    {
     "name": "stdout",
     "output_type": "stream",
     "text": [
      "generating scenario at junction id:  53\n",
      "Response Error while applying batch!\n",
      "Control handed to system....\n"
     ]
    }
   ],
   "source": [
    "a,b,c,d,e,f = SM.reset(num_vehicles=10, warm_start_duration=20, junction_id=junctionId)"
   ]
  },
  {
   "cell_type": "code",
   "execution_count": 53,
   "metadata": {
    "scrolled": true
   },
   "outputs": [],
   "source": [
    "draw_waypoints(world, f[:5]+f[51:], life_time=10)"
   ]
  },
  {
   "cell_type": "code",
   "execution_count": 36,
   "metadata": {},
   "outputs": [],
   "source": [
    "def waypoint_to_pose2D(waypoint):\n",
    "\n",
    "    x = waypoint.transform.location.x\n",
    "    y = waypoint.transform.location.y\n",
    "    theta = waypoint.transform.rotation.yaw * np.pi / 180\n",
    "\n",
    "    return Pose2D(x=x, y=y, theta=theta)"
   ]
  },
  {
   "cell_type": "code",
   "execution_count": 20,
   "metadata": {},
   "outputs": [
    {
     "data": {
      "text/plain": [
       "[<carla.libcarla.Waypoint at 0x7f8a60604e48>,\n",
       " <carla.libcarla.Waypoint at 0x7f8a60604fa8>,\n",
       " <carla.libcarla.Waypoint at 0x7f8a60605138>,\n",
       " <carla.libcarla.Waypoint at 0x7f8a60605298>,\n",
       " <carla.libcarla.Waypoint at 0x7f8a606053f8>,\n",
       " <carla.libcarla.Waypoint at 0x7f8a60605558>,\n",
       " <carla.libcarla.Waypoint at 0x7f8a606056b8>,\n",
       " <carla.libcarla.Waypoint at 0x7f8a60605818>,\n",
       " <carla.libcarla.Waypoint at 0x7f8a60605978>,\n",
       " <carla.libcarla.Waypoint at 0x7f8a60605ad8>,\n",
       " <carla.libcarla.Waypoint at 0x7f8a60605c38>,\n",
       " <carla.libcarla.Waypoint at 0x7f8a60605d98>,\n",
       " <carla.libcarla.Waypoint at 0x7f8a60605ef8>,\n",
       " <carla.libcarla.Waypoint at 0x7f8a60606088>,\n",
       " <carla.libcarla.Waypoint at 0x7f8a606061e8>,\n",
       " <carla.libcarla.Waypoint at 0x7f8a60606348>,\n",
       " <carla.libcarla.Waypoint at 0x7f8a606064a8>,\n",
       " <carla.libcarla.Waypoint at 0x7f8a60606608>,\n",
       " <carla.libcarla.Waypoint at 0x7f8a60606768>,\n",
       " <carla.libcarla.Waypoint at 0x7f8a606068c8>,\n",
       " <carla.libcarla.Waypoint at 0x7f8a60606a28>,\n",
       " <carla.libcarla.Waypoint at 0x7f8a60606b88>,\n",
       " <carla.libcarla.Waypoint at 0x7f8a60606ce8>,\n",
       " <carla.libcarla.Waypoint at 0x7f8a60606e48>,\n",
       " <carla.libcarla.Waypoint at 0x7f8a60606fa8>,\n",
       " <carla.libcarla.Waypoint at 0x7f8a60607138>,\n",
       " <carla.libcarla.Waypoint at 0x7f8a60607298>,\n",
       " <carla.libcarla.Waypoint at 0x7f8a606073f8>,\n",
       " <carla.libcarla.Waypoint at 0x7f8a60607558>,\n",
       " <carla.libcarla.Waypoint at 0x7f8a606076b8>,\n",
       " <carla.libcarla.Waypoint at 0x7f8a60607818>,\n",
       " <carla.libcarla.Waypoint at 0x7f8a60607978>,\n",
       " <carla.libcarla.Waypoint at 0x7f8a60607ad8>,\n",
       " <carla.libcarla.Waypoint at 0x7f8a60607c38>,\n",
       " <carla.libcarla.Waypoint at 0x7f8a60607d98>,\n",
       " <carla.libcarla.Waypoint at 0x7f8a60607ef8>,\n",
       " <carla.libcarla.Waypoint at 0x7f8a60608088>,\n",
       " <carla.libcarla.Waypoint at 0x7f8a606081e8>,\n",
       " <carla.libcarla.Waypoint at 0x7f8a60608348>,\n",
       " <carla.libcarla.Waypoint at 0x7f8a606084a8>,\n",
       " <carla.libcarla.Waypoint at 0x7f8a60608608>,\n",
       " <carla.libcarla.Waypoint at 0x7f8a60608768>,\n",
       " <carla.libcarla.Waypoint at 0x7f8a606088c8>,\n",
       " <carla.libcarla.Waypoint at 0x7f8a60608a28>,\n",
       " <carla.libcarla.Waypoint at 0x7f8a60608b88>,\n",
       " <carla.libcarla.Waypoint at 0x7f8a60608ce8>,\n",
       " <carla.libcarla.Waypoint at 0x7f8a60608e48>,\n",
       " <carla.libcarla.Waypoint at 0x7f8a60608fa8>,\n",
       " <carla.libcarla.Waypoint at 0x7f8a60609138>,\n",
       " <carla.libcarla.Waypoint at 0x7f8a60609298>,\n",
       " <carla.libcarla.Waypoint at 0x7f8a606093f8>,\n",
       " <carla.libcarla.Waypoint at 0x7f8a605e9d98>,\n",
       " <carla.libcarla.Waypoint at 0x7f8a605e9df0>,\n",
       " <carla.libcarla.Waypoint at 0x7f8a605e9e48>,\n",
       " <carla.libcarla.Waypoint at 0x7f8a605e9ea0>,\n",
       " <carla.libcarla.Waypoint at 0x7f8a605e9ef8>,\n",
       " <carla.libcarla.Waypoint at 0x7f8a605e9f50>,\n",
       " <carla.libcarla.Waypoint at 0x7f8a605e9fa8>,\n",
       " <carla.libcarla.Waypoint at 0x7f8a605ea030>,\n",
       " <carla.libcarla.Waypoint at 0x7f8a605ea088>,\n",
       " <carla.libcarla.Waypoint at 0x7f8a605ea0e0>,\n",
       " <carla.libcarla.Waypoint at 0x7f8a605ea138>,\n",
       " <carla.libcarla.Waypoint at 0x7f8a605ea190>,\n",
       " <carla.libcarla.Waypoint at 0x7f8a605ea1e8>,\n",
       " <carla.libcarla.Waypoint at 0x7f8a605ea240>,\n",
       " <carla.libcarla.Waypoint at 0x7f8a605ea298>,\n",
       " <carla.libcarla.Waypoint at 0x7f8a605ea2f0>,\n",
       " <carla.libcarla.Waypoint at 0x7f8a605ea348>,\n",
       " <carla.libcarla.Waypoint at 0x7f8a605ea3a0>,\n",
       " <carla.libcarla.Waypoint at 0x7f8a605ea3f8>,\n",
       " <carla.libcarla.Waypoint at 0x7f8a605ea450>,\n",
       " <carla.libcarla.Waypoint at 0x7f8a605ea4a8>,\n",
       " <carla.libcarla.Waypoint at 0x7f8a605ea500>,\n",
       " <carla.libcarla.Waypoint at 0x7f8a605ea558>,\n",
       " <carla.libcarla.Waypoint at 0x7f8a6063f818>,\n",
       " <carla.libcarla.Waypoint at 0x7f8a6063f978>,\n",
       " <carla.libcarla.Waypoint at 0x7f8a6063fad8>,\n",
       " <carla.libcarla.Waypoint at 0x7f8a6063fc38>,\n",
       " <carla.libcarla.Waypoint at 0x7f8a6063fd98>,\n",
       " <carla.libcarla.Waypoint at 0x7f8a6063fef8>,\n",
       " <carla.libcarla.Waypoint at 0x7f8a60640088>,\n",
       " <carla.libcarla.Waypoint at 0x7f8a606401e8>,\n",
       " <carla.libcarla.Waypoint at 0x7f8a60640348>,\n",
       " <carla.libcarla.Waypoint at 0x7f8a606404a8>,\n",
       " <carla.libcarla.Waypoint at 0x7f8a60640608>,\n",
       " <carla.libcarla.Waypoint at 0x7f8a60640768>,\n",
       " <carla.libcarla.Waypoint at 0x7f8a606408c8>,\n",
       " <carla.libcarla.Waypoint at 0x7f8a60640a28>,\n",
       " <carla.libcarla.Waypoint at 0x7f8a60640b88>,\n",
       " <carla.libcarla.Waypoint at 0x7f8a60640ce8>,\n",
       " <carla.libcarla.Waypoint at 0x7f8a60640e48>,\n",
       " <carla.libcarla.Waypoint at 0x7f8a60640fa8>,\n",
       " <carla.libcarla.Waypoint at 0x7f8a60641138>,\n",
       " <carla.libcarla.Waypoint at 0x7f8a60641298>,\n",
       " <carla.libcarla.Waypoint at 0x7f8a606413f8>,\n",
       " <carla.libcarla.Waypoint at 0x7f8a60641558>,\n",
       " <carla.libcarla.Waypoint at 0x7f8a606416b8>,\n",
       " <carla.libcarla.Waypoint at 0x7f8a60641818>,\n",
       " <carla.libcarla.Waypoint at 0x7f8a60641978>,\n",
       " <carla.libcarla.Waypoint at 0x7f8a60641ad8>,\n",
       " <carla.libcarla.Waypoint at 0x7f8a60641c38>,\n",
       " <carla.libcarla.Waypoint at 0x7f8a60641d98>,\n",
       " <carla.libcarla.Waypoint at 0x7f8a60641ef8>,\n",
       " <carla.libcarla.Waypoint at 0x7f8a60642088>,\n",
       " <carla.libcarla.Waypoint at 0x7f8a606421e8>,\n",
       " <carla.libcarla.Waypoint at 0x7f8a60642348>,\n",
       " <carla.libcarla.Waypoint at 0x7f8a606424a8>,\n",
       " <carla.libcarla.Waypoint at 0x7f8a60642608>,\n",
       " <carla.libcarla.Waypoint at 0x7f8a60642768>,\n",
       " <carla.libcarla.Waypoint at 0x7f8a606428c8>]"
      ]
     },
     "execution_count": 20,
     "metadata": {},
     "output_type": "execute_result"
    }
   ],
   "source": [
    "f"
   ]
  },
  {
   "cell_type": "code",
   "execution_count": 21,
   "metadata": {},
   "outputs": [
    {
     "ename": "NameError",
     "evalue": "name 'Pose2D' is not defined",
     "output_type": "error",
     "traceback": [
      "\u001b[0;31m---------------------------------------------------------------------------\u001b[0m",
      "\u001b[0;31mNameError\u001b[0m                                 Traceback (most recent call last)",
      "\u001b[0;32m<ipython-input-21-bc632c5e4094>\u001b[0m in \u001b[0;36m<module>\u001b[0;34m\u001b[0m\n\u001b[1;32m      1\u001b[0m global_path = [\n\u001b[0;32m----> 2\u001b[0;31m     \u001b[0mwaypoint_to_pose2D\u001b[0m\u001b[0;34m(\u001b[0m\u001b[0mwp\u001b[0m\u001b[0;34m)\u001b[0m \u001b[0;32mfor\u001b[0m \u001b[0mwp\u001b[0m \u001b[0;32min\u001b[0m \u001b[0mf\u001b[0m\u001b[0;34m\u001b[0m\u001b[0m\n\u001b[0m\u001b[1;32m      3\u001b[0m ]\n\u001b[1;32m      4\u001b[0m \u001b[0mglobal_path\u001b[0m \u001b[0;34m=\u001b[0m \u001b[0;34m[\u001b[0m\u001b[0mGlobalPathPoint\u001b[0m\u001b[0;34m(\u001b[0m\u001b[0mglobal_pose\u001b[0m\u001b[0;34m=\u001b[0m\u001b[0mpose\u001b[0m\u001b[0;34m)\u001b[0m \u001b[0;32mfor\u001b[0m \u001b[0mpose\u001b[0m \u001b[0;32min\u001b[0m \u001b[0mglobal_path\u001b[0m\u001b[0;34m]\u001b[0m\u001b[0;34m\u001b[0m\u001b[0m\n\u001b[1;32m      5\u001b[0m \u001b[0mglobal_path\u001b[0m \u001b[0;34m=\u001b[0m \u001b[0mGlobalPath\u001b[0m\u001b[0;34m(\u001b[0m\u001b[0mpath_points\u001b[0m\u001b[0;34m=\u001b[0m\u001b[0mglobal_path\u001b[0m\u001b[0;34m)\u001b[0m\u001b[0;34m\u001b[0m\u001b[0m\n",
      "\u001b[0;32m<ipython-input-21-bc632c5e4094>\u001b[0m in \u001b[0;36m<listcomp>\u001b[0;34m(.0)\u001b[0m\n\u001b[1;32m      1\u001b[0m global_path = [\n\u001b[0;32m----> 2\u001b[0;31m     \u001b[0mwaypoint_to_pose2D\u001b[0m\u001b[0;34m(\u001b[0m\u001b[0mwp\u001b[0m\u001b[0;34m)\u001b[0m \u001b[0;32mfor\u001b[0m \u001b[0mwp\u001b[0m \u001b[0;32min\u001b[0m \u001b[0mf\u001b[0m\u001b[0;34m\u001b[0m\u001b[0m\n\u001b[0m\u001b[1;32m      3\u001b[0m ]\n\u001b[1;32m      4\u001b[0m \u001b[0mglobal_path\u001b[0m \u001b[0;34m=\u001b[0m \u001b[0;34m[\u001b[0m\u001b[0mGlobalPathPoint\u001b[0m\u001b[0;34m(\u001b[0m\u001b[0mglobal_pose\u001b[0m\u001b[0;34m=\u001b[0m\u001b[0mpose\u001b[0m\u001b[0;34m)\u001b[0m \u001b[0;32mfor\u001b[0m \u001b[0mpose\u001b[0m \u001b[0;32min\u001b[0m \u001b[0mglobal_path\u001b[0m\u001b[0;34m]\u001b[0m\u001b[0;34m\u001b[0m\u001b[0m\n\u001b[1;32m      5\u001b[0m \u001b[0mglobal_path\u001b[0m \u001b[0;34m=\u001b[0m \u001b[0mGlobalPath\u001b[0m\u001b[0;34m(\u001b[0m\u001b[0mpath_points\u001b[0m\u001b[0;34m=\u001b[0m\u001b[0mglobal_path\u001b[0m\u001b[0;34m)\u001b[0m\u001b[0;34m\u001b[0m\u001b[0m\n",
      "\u001b[0;32m<ipython-input-19-845db95ac121>\u001b[0m in \u001b[0;36mwaypoint_to_pose2D\u001b[0;34m(waypoint)\u001b[0m\n\u001b[1;32m      5\u001b[0m     \u001b[0mtheta\u001b[0m \u001b[0;34m=\u001b[0m \u001b[0mwaypoint\u001b[0m\u001b[0;34m.\u001b[0m\u001b[0mtransform\u001b[0m\u001b[0;34m.\u001b[0m\u001b[0mrotation\u001b[0m\u001b[0;34m.\u001b[0m\u001b[0myaw\u001b[0m \u001b[0;34m*\u001b[0m \u001b[0mnp\u001b[0m\u001b[0;34m.\u001b[0m\u001b[0mpi\u001b[0m \u001b[0;34m/\u001b[0m \u001b[0;36m180\u001b[0m\u001b[0;34m\u001b[0m\u001b[0m\n\u001b[1;32m      6\u001b[0m \u001b[0;34m\u001b[0m\u001b[0m\n\u001b[0;32m----> 7\u001b[0;31m     \u001b[0;32mreturn\u001b[0m \u001b[0mPose2D\u001b[0m\u001b[0;34m(\u001b[0m\u001b[0mx\u001b[0m\u001b[0;34m=\u001b[0m\u001b[0mx\u001b[0m\u001b[0;34m,\u001b[0m \u001b[0my\u001b[0m\u001b[0;34m=\u001b[0m\u001b[0my\u001b[0m\u001b[0;34m,\u001b[0m \u001b[0mtheta\u001b[0m\u001b[0;34m=\u001b[0m\u001b[0mtheta\u001b[0m\u001b[0;34m)\u001b[0m\u001b[0;34m\u001b[0m\u001b[0m\n\u001b[0m",
      "\u001b[0;31mNameError\u001b[0m: name 'Pose2D' is not defined"
     ]
    }
   ],
   "source": [
    "global_path = [\n",
    "    waypoint_to_pose2D(wp) for wp in f\n",
    "]\n",
    "global_path = [GlobalPathPoint(global_pose=pose) for pose in global_path]\n",
    "global_path = GlobalPath(path_points=global_path)"
   ]
  },
  {
   "cell_type": "code",
   "execution_count": 19,
   "metadata": {},
   "outputs": [],
   "source": [
    "draw(41,1)\n",
    "draw(22,-1)\n",
    "draw(151,-1)"
   ]
  },
  {
   "cell_type": "code",
   "execution_count": 15,
   "metadata": {},
   "outputs": [],
   "source": [
    "intersecting_left, intersecting_right, parallel_same_dir, parallel_opposite_dir = d\n",
    "# parallel_same_dir.append(e)"
   ]
  },
  {
   "cell_type": "code",
   "execution_count": 33,
   "metadata": {},
   "outputs": [],
   "source": [
    "for key in c:\n",
    "    draw(key[0], key[1])"
   ]
  },
  {
   "cell_type": "code",
   "execution_count": 35,
   "metadata": {},
   "outputs": [],
   "source": [
    "ego_nearest_waypoint = client.get_world().get_map().get_waypoint(\n",
    "    a.get_location(), project_to_road=True\n",
    ")\n",
    "client.get_world().debug.draw_string(\n",
    "    ego_nearest_waypoint.transform.location,\n",
    "    \"O\",\n",
    "    draw_shadow=False,\n",
    "    color=carla.Color(r=255, g=0, b=0),\n",
    "    life_time=100,\n",
    ")"
   ]
  },
  {
   "cell_type": "code",
   "execution_count": 22,
   "metadata": {},
   "outputs": [],
   "source": [
    "for elem in parallel_opposite_dir:\n",
    "    if(len(elem) == 2):\n",
    "        draw(elem[0], elem[1])\n",
    "    else:\n",
    "        draw(elem[0][0],elem[0][1])\n",
    "        draw(elem[1][0],elem[1][1])\n",
    "        draw(elem[2][0],elem[2][1])"
   ]
  },
  {
   "cell_type": "code",
   "execution_count": 23,
   "metadata": {},
   "outputs": [
    {
     "data": {
      "text/plain": [
       "carla.libcarla.TrafficLightState.Green"
      ]
     },
     "execution_count": 23,
     "metadata": {},
     "output_type": "execute_result"
    }
   ],
   "source": [
    "a.get_traffic_light_state()"
   ]
  },
  {
   "cell_type": "code",
   "execution_count": 13,
   "metadata": {},
   "outputs": [],
   "source": [
    "# full_parallel_opposite_dir = []\n",
    "\n",
    "# for key in parallel_opposite_dir:\n",
    "    \n",
    "#     if(key not in c):\n",
    "#         continue\n",
    "        \n",
    "#     for elem in c[key]:\n",
    "#         if (elem[0], elem[1]) in parallel_opposite_dir:\n",
    "#             full_parallel_opposite_dir.append([key, (elem[2], elem[3][0]), (elem[0], elem[1])])\n",
    "            \n",
    "# if len(full_parallel_opposite_dir) == 0:\n",
    "#     full_parallel_opposite_dir = parallel_opposite_dir\n",
    "\n",
    "            \n",
    "# full_parallel_same_dir = []\n",
    "\n",
    "# for key in parallel_same_dir:\n",
    "    \n",
    "#     if(key not in c):\n",
    "#         continue\n",
    "        \n",
    "#     for elem in c[key]:\n",
    "#         if (elem[0], elem[1]) in parallel_same_dir:\n",
    "#             full_parallel_same_dir.append([key, (elem[2], elem[3][0]), (elem[0], elem[1])])\n",
    "\n",
    "# if len(full_parallel_same_dir) == 0:\n",
    "#     full_parallel_same_dir = parallel_same_dir\n",
    "            \n",
    "        \n",
    "# full_intersecting_right = []\n",
    "\n",
    "# for key in intersecting_right:\n",
    "    \n",
    "#     if(key not in c):\n",
    "#         continue\n",
    "        \n",
    "#     for elem in c[key]:\n",
    "#         if (elem[0], elem[1]) in intersecting_right:\n",
    "#             full_intersecting_right.append([key, (elem[2], elem[3][0]), (elem[0], elem[1])])\n",
    "    \n",
    "# if len(full_intersecting_right) == 0:\n",
    "#     full_intersecting_right = intersecting_right\n",
    "    \n",
    "    \n",
    "# full_intersecting_left = []\n",
    "\n",
    "# for key in intersecting_left:\n",
    "    \n",
    "#     if(key not in c):\n",
    "#         continue\n",
    "        \n",
    "#     for elem in c[key]:\n",
    "#         if (elem[0], elem[1]) in intersecting_left:\n",
    "#             full_intersecting_left.append([key, (elem[2], elem[3][0]), (elem[0], elem[1])])\n",
    "    \n",
    "# if len(full_intersecting_left) == 0:\n",
    "#     full_intersecting_left = intersecting_left\n",
    "    \n",
    "\n",
    "        \n",
    "        \n",
    "    \n",
    "    "
   ]
  },
  {
   "cell_type": "code",
   "execution_count": 100,
   "metadata": {},
   "outputs": [],
   "source": [
    "for elem in full_intersecting_left:\n",
    "    if(len(elem) == 2):\n",
    "        draw(elem[0], elem[1])\n",
    "    else:\n",
    "        draw(elem[0][0],elem[0][1])\n",
    "        draw(elem[1][0],elem[1][1])\n",
    "        draw(elem[2][0],elem[2][1])"
   ]
  },
  {
   "cell_type": "code",
   "execution_count": 101,
   "metadata": {},
   "outputs": [],
   "source": []
  },
  {
   "cell_type": "code",
   "execution_count": null,
   "metadata": {},
   "outputs": [],
   "source": []
  },
  {
   "cell_type": "code",
   "execution_count": 45,
   "metadata": {},
   "outputs": [
    {
     "name": "stdout",
     "output_type": "stream",
     "text": [
      "(52, -2)\n",
      "(52, -1)\n",
      "(51, -2)\n"
     ]
    }
   ],
   "source": [
    "for key in parallel_same_dir:\n",
    "    draw(key[0], key[1])"
   ]
  },
  {
   "cell_type": "code",
   "execution_count": 25,
   "metadata": {},
   "outputs": [],
   "source": [
    "a.destroy()\n",
    "for actor in b:\n",
    "    actor.destroy()"
   ]
  },
  {
   "cell_type": "code",
   "execution_count": null,
   "metadata": {},
   "outputs": [],
   "source": []
  }
 ],
 "metadata": {
  "kernelspec": {
   "display_name": "Python 3",
   "language": "python",
   "name": "python3"
  },
  "language_info": {
   "codemirror_mode": {
    "name": "ipython",
    "version": 3
   },
   "file_extension": ".py",
   "mimetype": "text/x-python",
   "name": "python",
   "nbconvert_exporter": "python",
   "pygments_lexer": "ipython3",
   "version": "3.5.2"
  },
  "varInspector": {
   "cols": {
    "lenName": 16,
    "lenType": 16,
    "lenVar": 40
   },
   "kernels_config": {
    "python": {
     "delete_cmd_postfix": "",
     "delete_cmd_prefix": "del ",
     "library": "var_list.py",
     "varRefreshCmd": "print(var_dic_list())"
    },
    "r": {
     "delete_cmd_postfix": ") ",
     "delete_cmd_prefix": "rm(",
     "library": "var_list.r",
     "varRefreshCmd": "cat(var_dic_list()) "
    }
   },
   "types_to_exclude": [
    "module",
    "function",
    "builtin_function_or_method",
    "instance",
    "_Feature"
   ],
   "window_display": false
  }
 },
 "nbformat": 4,
 "nbformat_minor": 4
}
