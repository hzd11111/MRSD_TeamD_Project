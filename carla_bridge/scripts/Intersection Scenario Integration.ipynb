{
 "cells": [
  {
   "cell_type": "code",
   "execution_count": 17,
   "metadata": {},
   "outputs": [],
   "source": [
    "import carla\n",
    "import time\n",
    "from intersection_scenario_manager import IntersectionScenario\n",
    "import numpy as np\n",
    "import sys\n",
    "sys.path.append(\"cartesian_to_frenet/\")\n",
    "from topology_extraction import get_opendrive_tree, get_junction_topology, get_junction_roads_topology\n",
    "sys.path.append(\"../../global_route_planner/\")\n",
    "from global_planner import get_client, draw_waypoints, spawn_vehicle"
   ]
  },
  {
   "cell_type": "code",
   "execution_count": null,
   "metadata": {},
   "outputs": [],
   "source": []
  },
  {
   "cell_type": "code",
   "execution_count": 18,
   "metadata": {},
   "outputs": [
    {
     "name": "stdout",
     "output_type": "stream",
     "text": [
      "Connection to CARLA server established!\n"
     ]
    }
   ],
   "source": [
    "# Get client to interact with CARLA server\n",
    "client = get_client()\n",
    "\n",
    "# Get current CARLA world\n",
    "world = client.get_world()\n",
    "\n",
    "all_waypoints = world.get_map().generate_waypoints(1)\n",
    "def draw(road_id, lane_id=None, color=[0,255,0]):\n",
    "    for wp in all_waypoints:\n",
    "        \n",
    "        if lane_id == None and wp.road_id == road_id:\n",
    "            draw_waypoints(world, [wp], 10, color) \n",
    "#             print(wp.lane_id)\n",
    "        elif wp.road_id == road_id and wp.lane_id==lane_id:\n",
    "            draw_waypoints(world, [wp], 10, color) \n",
    "            \n",
    "tree = get_opendrive_tree(world)\n",
    "junction_topology = get_junction_topology(tree)\n",
    "road_topology = get_junction_roads_topology(tree)"
   ]
  },
  {
   "cell_type": "code",
   "execution_count": 19,
   "metadata": {
    "scrolled": false
   },
   "outputs": [
    {
     "name": "stdout",
     "output_type": "stream",
     "text": [
      "Intersection Manager Initialized...\n"
     ]
    }
   ],
   "source": [
    "SM = IntersectionScenario(client)"
   ]
  },
  {
   "cell_type": "markdown",
   "metadata": {},
   "source": [
    "dict_keys([224, 965, 421, 1175, 905, 1162, 139, 1260, 685, 334, 751, 1148, 1050, 53, 599, 1070, 943, 509, 924, 829, 245])"
   ]
  },
  {
   "cell_type": "code",
   "execution_count": 20,
   "metadata": {},
   "outputs": [],
   "source": [
    "junctionId = 53"
   ]
  },
  {
   "cell_type": "code",
   "execution_count": 21,
   "metadata": {
    "scrolled": true
   },
   "outputs": [
    {
     "name": "stdout",
     "output_type": "stream",
     "text": [
      "generating scenario at junction id:  53\n",
      "Control handed to system....\n"
     ]
    }
   ],
   "source": [
    "ego_vehicle, my_vehicles, incoming_road_lane_id_to_outgoing_lane_id_dict, intersection_topology, ego_key, global_path_wps = SM.reset(num_vehicles=10, warm_start_duration=20, junction_id=junctionId)"
   ]
  },
  {
   "cell_type": "code",
   "execution_count": 22,
   "metadata": {
    "scrolled": true
   },
   "outputs": [
    {
     "data": {
      "text/plain": [
       "{(5, 2): [(4, 2, 62, (2,)), (7, 2, 100, (-1, -2))],\n",
       " (5, 1): [(8, -1, 104, (-1,)), (4, 1, 62, (1,))],\n",
       " (4, -1): [(5, -1, 63, (-1,)), (7, 1, 80, (-1,))],\n",
       " (4, -2): [(5, -2, 63, (-2,)), (8, -2, 92, (-1, -2))],\n",
       " (7, -2): [(4, 2, 84, (2, 1)), (8, -2, 126, (-2,))],\n",
       " (8, 1): [(7, 1, 125, (1,)), (4, 1, 88, (1,))],\n",
       " (7, -1): [(5, -1, 96, (1,)), (8, -1, 126, (-1,))],\n",
       " (8, 2): [(7, 2, 125, (2,)), (5, -2, 108, (2, 1))]}"
      ]
     },
     "execution_count": 22,
     "metadata": {},
     "output_type": "execute_result"
    }
   ],
   "source": [
    "incoming_road_lane_id_to_outgoing_lane_id_dict"
   ]
  },
  {
   "cell_type": "code",
   "execution_count": 23,
   "metadata": {},
   "outputs": [],
   "source": [
    "intersecting_left, intersecting_right, parallel_same_dir, parallel_opposite_dir = intersection_topology\n"
   ]
  },
  {
   "cell_type": "code",
   "execution_count": 24,
   "metadata": {},
   "outputs": [
    {
     "data": {
      "text/plain": [
       "[[(7, -2), (126, -2), (8, -2)], [(7, -1), (126, -1), (8, -1)]]"
      ]
     },
     "execution_count": 24,
     "metadata": {},
     "output_type": "execute_result"
    }
   ],
   "source": [
    "intersecting_left"
   ]
  },
  {
   "cell_type": "code",
   "execution_count": 25,
   "metadata": {},
   "outputs": [],
   "source": [
    "for element in intersecting_right:\n",
    "    for item in element:\n",
    "        draw(item[0], item[1])"
   ]
  },
  {
   "cell_type": "code",
   "execution_count": 1,
   "metadata": {},
   "outputs": [],
   "source": [
    "# if road_id, lane_id belongs to parallel_same_dir please pass in same_dir = True, vice versa\n",
    "# usage application:\n",
    "#     for key in list(incoming_road_lane_id_to_outgoing_lane_id_dict.keys()):\n",
    "#         get_direction_information(key[0], key[1], ...)\n",
    "        \n",
    "def get_direction_information(road_id, lane_id, ego_info, in_out_dict, same_dir, intersecting_left, intersecting_right, parallel_same_dir, parallel_opposite_dir):\n",
    "    draw(road_id, lane_id)\n",
    "    right_turning_lane = False\n",
    "    left_turning_lane = False\n",
    "    right_most_turning_lane = False\n",
    "    left_to_the_current = False\n",
    "    right_next_to_the_current = False\n",
    "    lanes_to_right = intersecting_right if same_dir else intersecting_left\n",
    "    lanes_to_left = intersecting_left if same_dir else intersecting_right\n",
    "\n",
    "    for connection in in_out_dict[(road_id, lane_id)]:\n",
    "        print((connection[0], connection[1]))\n",
    "        for right_lanes in lanes_to_right:\n",
    "            if (connection[0], connection[1]) in right_lanes:\n",
    "                right_turning_lane = True \n",
    "\n",
    "        for left_lanes in lanes_to_left:\n",
    "            if (connection[0], connection[1]) in left_lanes:\n",
    "                left_turning_lane = True\n",
    "    \n",
    "    # determine if the lane is right_most\n",
    "    lane_group = parallel_same_dir if same_dir else parallel_opposite_dir\n",
    "    maximum_id_magnitude = 0\n",
    "    for lane in lane_group:\n",
    "        maximum_id_magnitude = max(abs(lane[0][1]), maximum_id_magnitude)\n",
    "    right_most_turning_lane = maximum_id_magnitude == abs(lane_id)\n",
    "    \n",
    "    ego_lane = ego_info[1]\n",
    "    ego_road = [parallel_same_dir[0][0][0], parallel_same_dir[0][1][0], parallel_same_dir[0][2][0]]\n",
    "    if (road_id in ego_road): \n",
    "        if not same_dir: \n",
    "            left_to_the_current = True # which could means right_to_the_current = False\n",
    "            #since this function should only be applied on (road_id, lane_id) in in_out_dict.keys()\n",
    "            # update all the fields in connecting lanes if needed\n",
    "            # update_field_in_group(road_id, lane_id, parallel_opposite_dir, left_to_the_current, True)\n",
    "            if (abs(ego_lane) == 1 and lane_id * ego_lane == 1):\n",
    "                right_next_to_the_current = True \n",
    "                # update_field_in_group(road_id, lane_id, parallel_opposite_dir, right_next_to_the_current, True)\n",
    "\n",
    "        else:\n",
    "            if abs(lane_id) < abs(ego_lane):\n",
    "                left_to_the_current = True #on the same road but with opposite direction\n",
    "                # update_field_in_group(road_id, lane_id, parallel_opposite_dir, left_to_the_current, True)\n",
    "            if (abs(ego_lane - lane_id) == 1):\n",
    "                right_next_to_the_current = True\n",
    "                # update_field_in_group(road_id, lane_id, parallel_opposite_dir, right_next_to_the_current, True)\n",
    "\n",
    "            \n",
    "    \n",
    "    assert(right_turning_lane != left_turning_lane)\n",
    "    print(\"right_turning_lane: \", right_turning_lane)\n",
    "    print(\"left_turning_lane: \", left_turning_lane)\n",
    "    print(\"left_to_the_ego_for_all_the_current_lanes: \", left_to_the_current)\n",
    "    print(\"right_next_to_the_ego_for_all_the_current_lanes: \", right_next_to_the_current)"
   ]
  },
  {
   "cell_type": "code",
   "execution_count": 2,
   "metadata": {},
   "outputs": [
    {
     "ename": "NameError",
     "evalue": "name 'client' is not defined",
     "output_type": "error",
     "traceback": [
      "\u001b[0;31m---------------------------------------------------------------------------\u001b[0m",
      "\u001b[0;31mNameError\u001b[0m                                 Traceback (most recent call last)",
      "\u001b[0;32m<ipython-input-2-e418c637a73d>\u001b[0m in \u001b[0;36m<module>\u001b[0;34m\u001b[0m\n\u001b[0;32m----> 1\u001b[0;31m ego_nearest_waypoint = client.get_world().get_map().get_waypoint(\n\u001b[0m\u001b[1;32m      2\u001b[0m     \u001b[0mego_vehicle\u001b[0m\u001b[0;34m.\u001b[0m\u001b[0mget_location\u001b[0m\u001b[0;34m(\u001b[0m\u001b[0;34m)\u001b[0m\u001b[0;34m,\u001b[0m \u001b[0mproject_to_road\u001b[0m\u001b[0;34m=\u001b[0m\u001b[0;32mTrue\u001b[0m\u001b[0;34m\u001b[0m\u001b[0;34m\u001b[0m\u001b[0m\n\u001b[1;32m      3\u001b[0m )\n\u001b[1;32m      4\u001b[0m client.get_world().debug.draw_string(\n\u001b[1;32m      5\u001b[0m     \u001b[0mego_nearest_waypoint\u001b[0m\u001b[0;34m.\u001b[0m\u001b[0mtransform\u001b[0m\u001b[0;34m.\u001b[0m\u001b[0mlocation\u001b[0m\u001b[0;34m,\u001b[0m\u001b[0;34m\u001b[0m\u001b[0;34m\u001b[0m\u001b[0m\n",
      "\u001b[0;31mNameError\u001b[0m: name 'client' is not defined"
     ]
    }
   ],
   "source": [
    "ego_nearest_waypoint = client.get_world().get_map().get_waypoint(\n",
    "    ego_vehicle.get_location(), project_to_road=True\n",
    ")\n",
    "client.get_world().debug.draw_string(\n",
    "    ego_nearest_waypoint.transform.location,\n",
    "    \"O\",\n",
    "    draw_shadow=False,\n",
    "    color=carla.Color(r=255, g=0, b=0),\n",
    "    life_time=100,\n",
    ")"
   ]
  },
  {
   "cell_type": "code",
   "execution_count": null,
   "metadata": {},
   "outputs": [],
   "source": [
    "ego_vehicle.destroy()\n",
    "for actor in my_vehicles:\n",
    "    actor.destroy()"
   ]
  },
  {
   "cell_type": "code",
   "execution_count": null,
   "metadata": {},
   "outputs": [],
   "source": []
  }
 ],
 "metadata": {
  "kernelspec": {
   "display_name": "Python 3",
   "language": "python",
   "name": "python3"
  },
  "language_info": {
   "codemirror_mode": {
    "name": "ipython",
    "version": 3
   },
   "file_extension": ".py",
   "mimetype": "text/x-python",
   "name": "python",
   "nbconvert_exporter": "python",
   "pygments_lexer": "ipython3",
   "version": "3.8.3"
  },
  "varInspector": {
   "cols": {
    "lenName": 16,
    "lenType": 16,
    "lenVar": 40
   },
   "kernels_config": {
    "python": {
     "delete_cmd_postfix": "",
     "delete_cmd_prefix": "del ",
     "library": "var_list.py",
     "varRefreshCmd": "print(var_dic_list())"
    },
    "r": {
     "delete_cmd_postfix": ") ",
     "delete_cmd_prefix": "rm(",
     "library": "var_list.r",
     "varRefreshCmd": "cat(var_dic_list()) "
    }
   },
   "types_to_exclude": [
    "module",
    "function",
    "builtin_function_or_method",
    "instance",
    "_Feature"
   ],
   "window_display": false
  }
 },
 "nbformat": 4,
 "nbformat_minor": 4
}
