{
 "cells": [
  {
   "cell_type": "code",
   "execution_count": 1,
   "metadata": {},
   "outputs": [],
   "source": [
    "import carla\n",
    "import time\n",
    "import sys\n",
    "\n",
    "sys.path.append(\"../../carla_utils/utils\")\n",
    "sys.path.append(\"../../grasp_path_planner/scripts\")\n",
    "\n",
    "from p2p_scenario_manager import P2PScenario\n",
    "from intersection_scenario_manager import IntersectionScenario\n",
    "from lane_following_scenario_manager import LaneFollowingScenario\n",
    "import numpy as np\n",
    "sys.path.append(\"cartesian_to_frenet/\")\n",
    "from topology_extraction import get_opendrive_tree, get_junction_topology, get_junction_roads_topology\n",
    "sys.path.append(\"../../global_route_planner/\")\n",
    "from global_planner import get_client, draw_waypoints, spawn_vehicle\n",
    "\n",
    "import shapely\n",
    "from shapely.geometry import Point, LineString, MultiLineString\n",
    "from carla_handler import CarlaHandler"
   ]
  },
  {
   "cell_type": "code",
   "execution_count": null,
   "metadata": {},
   "outputs": [],
   "source": [
    "carla."
   ]
  },
  {
   "cell_type": "code",
   "execution_count": 2,
   "metadata": {},
   "outputs": [
    {
     "name": "stdout",
     "output_type": "stream",
     "text": [
      "Connection to CARLA server established!\n",
      "Handler Initialized!\n",
      "\n"
     ]
    }
   ],
   "source": [
    "# Get client to interact with CARLA server\n",
    "client = get_client()\n",
    "\n",
    "# Get current CARLA world\n",
    "world = client.get_world()\n",
    "\n",
    "# handler\n",
    "carlaHandler = CarlaHandler(client)\n",
    "all_waypoints = world.get_map().generate_waypoints(1)\n",
    "def draw(road_id, lane_id=None, color=[0,255,0]):\n",
    "    for wp in all_waypoints:\n",
    "        \n",
    "        if lane_id == None and wp.road_id == road_id:\n",
    "            draw_waypoints(world, [wp], 3, color) \n",
    "#             print(wp.lane_id)\n",
    "        elif wp.road_id == road_id and wp.lane_id==lane_id:\n",
    "            draw_waypoints(world, [wp], 3, color) \n",
    "            \n",
    "def filter_waypoints(waypoints, road_id, lane_id = None):\n",
    "    \n",
    "    filtered_waypoints = []\n",
    "    for wp in waypoints:\n",
    "        \n",
    "        if lane_id == None and wp.road_id == road_id:\n",
    "            filtered_waypoints.append(wp) \n",
    "        elif wp.road_id == road_id and wp.lane_id==lane_id:\n",
    "            filtered_waypoints.append(wp) \n",
    "\n",
    "    return filtered_waypoints\n",
    "            \n",
    "tree = get_opendrive_tree(world)\n",
    "junction_topology = get_junction_topology(tree)\n",
    "road_topology = get_junction_roads_topology(tree)\n"
   ]
  },
  {
   "cell_type": "code",
   "execution_count": 3,
   "metadata": {},
   "outputs": [],
   "source": [
    "draw(8,2)\n",
    "draw(5,-2)\n"
   ]
  },
  {
   "cell_type": "code",
   "execution_count": 4,
   "metadata": {},
   "outputs": [
    {
     "name": "stdout",
     "output_type": "stream",
     "text": [
      "Intersection Manager Initialized...\n"
     ]
    }
   ],
   "source": [
    "SM = P2PScenario(client)"
   ]
  },
  {
   "cell_type": "code",
   "execution_count": 5,
   "metadata": {
    "scrolled": true
   },
   "outputs": [],
   "source": [
    "# SM = LaneFollowingScenario(client, carlaHandler)"
   ]
  },
  {
   "cell_type": "code",
   "execution_count": 6,
   "metadata": {},
   "outputs": [
    {
     "name": "stdout",
     "output_type": "stream",
     "text": [
      "Control handed to system....\n"
     ]
    }
   ],
   "source": [
    "ego_vehicle, my_vehicles, global_path_wps, route = SM.reset()"
   ]
  },
  {
   "cell_type": "code",
   "execution_count": 6,
   "metadata": {},
   "outputs": [
    {
     "ename": "NameError",
     "evalue": "name 'ego_vehicle' is not defined",
     "output_type": "error",
     "traceback": [
      "\u001b[0;31m------------------------------------------------------\u001b[0m",
      "\u001b[0;31mNameError\u001b[0m            Traceback (most recent call last)",
      "\u001b[0;32m<ipython-input-6-b20edfba0562>\u001b[0m in \u001b[0;36m<module>\u001b[0;34m\u001b[0m\n\u001b[0;32m----> 1\u001b[0;31m \u001b[0mego_vehicle\u001b[0m\u001b[0;34m.\u001b[0m\u001b[0mdestroy\u001b[0m\u001b[0;34m(\u001b[0m\u001b[0;34m)\u001b[0m\u001b[0;34m\u001b[0m\u001b[0m\n\u001b[0m\u001b[1;32m      2\u001b[0m \u001b[0;32mfor\u001b[0m \u001b[0mactor\u001b[0m \u001b[0;32min\u001b[0m \u001b[0mmy_vehicles\u001b[0m\u001b[0;34m:\u001b[0m\u001b[0;34m\u001b[0m\u001b[0m\n\u001b[1;32m      3\u001b[0m     \u001b[0mactor\u001b[0m\u001b[0;34m.\u001b[0m\u001b[0mdestroy\u001b[0m\u001b[0;34m(\u001b[0m\u001b[0;34m)\u001b[0m\u001b[0;34m\u001b[0m\u001b[0m\n",
      "\u001b[0;31mNameError\u001b[0m: name 'ego_vehicle' is not defined"
     ]
    }
   ],
   "source": [
    "ego_vehicle.destroy()\n",
    "for actor in my_vehicles:\n",
    "    actor.destroy()"
   ]
  },
  {
   "cell_type": "code",
   "execution_count": 6,
   "metadata": {},
   "outputs": [
    {
     "data": {
      "text/plain": [
       "[<carla.libcarla.Waypoint at 0x7f07ece5d2f0>,\n",
       " <carla.libcarla.Waypoint at 0x7f07ece5d348>,\n",
       " <carla.libcarla.Waypoint at 0x7f07ece5d3a0>,\n",
       " <carla.libcarla.Waypoint at 0x7f07ece5d3f8>,\n",
       " <carla.libcarla.Waypoint at 0x7f07ece5d450>,\n",
       " <carla.libcarla.Waypoint at 0x7f07ece5d4a8>,\n",
       " <carla.libcarla.Waypoint at 0x7f07ece5d500>,\n",
       " <carla.libcarla.Waypoint at 0x7f07ece5d558>,\n",
       " <carla.libcarla.Waypoint at 0x7f07ece5d5b0>,\n",
       " <carla.libcarla.Waypoint at 0x7f07ece5d608>,\n",
       " <carla.libcarla.Waypoint at 0x7f07ece5d660>,\n",
       " <carla.libcarla.Waypoint at 0x7f07ece5d6b8>,\n",
       " <carla.libcarla.Waypoint at 0x7f07ece5d710>,\n",
       " <carla.libcarla.Waypoint at 0x7f07ece5d768>,\n",
       " <carla.libcarla.Waypoint at 0x7f07ece5d7c0>,\n",
       " <carla.libcarla.Waypoint at 0x7f07ece5d818>,\n",
       " <carla.libcarla.Waypoint at 0x7f07ece5d870>,\n",
       " <carla.libcarla.Waypoint at 0x7f07ece5d8c8>,\n",
       " <carla.libcarla.Waypoint at 0x7f07ece5d920>,\n",
       " <carla.libcarla.Waypoint at 0x7f07ece5d978>,\n",
       " <carla.libcarla.Waypoint at 0x7f07ece5d9d0>,\n",
       " <carla.libcarla.Waypoint at 0x7f07ece5da28>,\n",
       " <carla.libcarla.Waypoint at 0x7f07ece5da80>,\n",
       " <carla.libcarla.Waypoint at 0x7f07ece5dad8>,\n",
       " <carla.libcarla.Waypoint at 0x7f07ece5db30>,\n",
       " <carla.libcarla.Waypoint at 0x7f07ece5db88>,\n",
       " <carla.libcarla.Waypoint at 0x7f07ece5dbe0>,\n",
       " <carla.libcarla.Waypoint at 0x7f07ece5dc38>,\n",
       " <carla.libcarla.Waypoint at 0x7f07ece5dc90>,\n",
       " <carla.libcarla.Waypoint at 0x7f07ece5dce8>,\n",
       " <carla.libcarla.Waypoint at 0x7f07ece5dd40>,\n",
       " <carla.libcarla.Waypoint at 0x7f07ece5dd98>,\n",
       " <carla.libcarla.Waypoint at 0x7f07ece5ddf0>,\n",
       " <carla.libcarla.Waypoint at 0x7f07ece5de48>,\n",
       " <carla.libcarla.Waypoint at 0x7f07ece5dea0>,\n",
       " <carla.libcarla.Waypoint at 0x7f07ece5def8>,\n",
       " <carla.libcarla.Waypoint at 0x7f07ece5df50>,\n",
       " <carla.libcarla.Waypoint at 0x7f07ece5dfa8>,\n",
       " <carla.libcarla.Waypoint at 0x7f07ece5e030>,\n",
       " <carla.libcarla.Waypoint at 0x7f07ece5e088>,\n",
       " <carla.libcarla.Waypoint at 0x7f07ece5e0e0>,\n",
       " <carla.libcarla.Waypoint at 0x7f07ece5e138>,\n",
       " <carla.libcarla.Waypoint at 0x7f07ece5e190>,\n",
       " <carla.libcarla.Waypoint at 0x7f07ece5e1e8>,\n",
       " <carla.libcarla.Waypoint at 0x7f07ece5e240>,\n",
       " <carla.libcarla.Waypoint at 0x7f07ece5e298>,\n",
       " <carla.libcarla.Waypoint at 0x7f07ece5e2f0>,\n",
       " <carla.libcarla.Waypoint at 0x7f07ece5e348>,\n",
       " <carla.libcarla.Waypoint at 0x7f07ece5e3a0>,\n",
       " <carla.libcarla.Waypoint at 0x7f07ece5e3f8>,\n",
       " <carla.libcarla.Waypoint at 0x7f07ece5e450>]"
      ]
     },
     "execution_count": 6,
     "metadata": {},
     "output_type": "execute_result"
    }
   ],
   "source": [
    "global_path_wps"
   ]
  },
  {
   "cell_type": "markdown",
   "metadata": {},
   "source": [
    "dict_keys([224, 965, 421, 1175, 905, 1162, 139, 1260, 685, 334, 751, 1148, 1050, 53, 599, 1070, 943, 509, 924, 829, 245])"
   ]
  },
  {
   "cell_type": "code",
   "execution_count": 5,
   "metadata": {},
   "outputs": [],
   "source": [
    "junctionId = 53"
   ]
  },
  {
   "cell_type": "code",
   "execution_count": 6,
   "metadata": {
    "scrolled": true
   },
   "outputs": [
    {
     "name": "stdout",
     "output_type": "stream",
     "text": [
      "generating scenario at junction id:  53\n",
      "Response Error while applying batch!\n",
      "Control handed to system....\n"
     ]
    }
   ],
   "source": [
    "ego_vehicle, my_vehicles, incoming_road_lane_id_to_outgoing_lane_id_dict, intersection_topology, ego_key, global_path_wps, road_lane_to_orientation = SM.reset(num_vehicles=10, warm_start_duration=5, junction_id=junctionId)"
   ]
  },
  {
   "cell_type": "code",
   "execution_count": 13,
   "metadata": {},
   "outputs": [],
   "source": [
    "draw_waypoints(world, global_path_wps[:50], life_time=3)"
   ]
  },
  {
   "cell_type": "code",
   "execution_count": 22,
   "metadata": {
    "scrolled": true
   },
   "outputs": [
    {
     "data": {
      "text/plain": [
       "{(5, 2): [(4, 2, 62, (2,)), (7, 2, 100, (-1, -2))],\n",
       " (5, 1): [(8, -1, 104, (-1,)), (4, 1, 62, (1,))],\n",
       " (4, -1): [(5, -1, 63, (-1,)), (7, 1, 80, (-1,))],\n",
       " (4, -2): [(5, -2, 63, (-2,)), (8, -2, 92, (-1, -2))],\n",
       " (7, -2): [(4, 2, 84, (2, 1)), (8, -2, 126, (-2,))],\n",
       " (8, 1): [(7, 1, 125, (1,)), (4, 1, 88, (1,))],\n",
       " (7, -1): [(5, -1, 96, (1,)), (8, -1, 126, (-1,))],\n",
       " (8, 2): [(7, 2, 125, (2,)), (5, -2, 108, (2, 1))]}"
      ]
     },
     "execution_count": 22,
     "metadata": {},
     "output_type": "execute_result"
    }
   ],
   "source": [
    "intersecting_left, intersecting_right, parallel_same_dir, parallel_opposite_dir = intersection_topology\n",
    "ego_lane, parallel_same_dir = separate_ego_lane_and_other_parallel_lanes(parallel_same_dir, ego_key)"
   ]
  },
  {
   "cell_type": "code",
   "execution_count": 23,
   "metadata": {},
   "outputs": [],
   "source": [
    "wps = get_lane_waypoints(all_waypoints, intersecting_right[1], road_lane_to_orientation)\n",
    "ls = convert_to_shapely_linestring(wps)\n",
    "\n",
    "wps1 = get_lane_waypoints(all_waypoints, ego_lane[0], road_lane_to_orientation)\n",
    "ls2 = convert_to_shapely_linestring(wps1) "
   ]
  },
  {
   "cell_type": "code",
   "execution_count": 24,
   "metadata": {},
   "outputs": [
    {
     "data": {
      "text/plain": [
       "[[(7, -2), (126, -2), (8, -2)], [(7, -1), (126, -1), (8, -1)]]"
      ]
     },
     "execution_count": 24,
     "metadata": {},
     "output_type": "execute_result"
    }
   ],
   "source": []
  },
  {
   "cell_type": "code",
   "execution_count": 25,
   "metadata": {},
   "outputs": [],
   "source": [
    "for element in parallel_same_dir:\n",
    "    for item in element:\n",
    "        draw(item[0], item[1])"
   ]
  },
  {
   "cell_type": "code",
   "execution_count": 1,
   "metadata": {},
   "outputs": [],
   "source": [
    "# if road_id, lane_id belongs to parallel_same_dir please pass in same_dir = True, vice versa\n",
    "# usage application:\n",
    "#     for key in list(incoming_road_lane_id_to_outgoing_lane_id_dict.keys()):\n",
    "#         get_direction_information(key[0], key[1], ...)\n",
    "        \n",
    "def get_direction_information(road_id, lane_id, ego_info, in_out_dict, same_dir, intersecting_left, intersecting_right, parallel_same_dir, parallel_opposite_dir):\n",
    "    draw(road_id, lane_id)\n",
    "    right_turning_lane = False\n",
    "    left_turning_lane = False\n",
    "    right_most_turning_lane = False\n",
    "    left_to_the_current = False\n",
    "    right_next_to_the_current = False\n",
    "    lanes_to_right = intersecting_right if same_dir else intersecting_left\n",
    "    lanes_to_left = intersecting_left if same_dir else intersecting_right\n",
    "\n",
    "    for connection in in_out_dict[(road_id, lane_id)]:\n",
    "        print((connection[0], connection[1]))\n",
    "        for right_lanes in lanes_to_right:\n",
    "            if (connection[0], connection[1]) in right_lanes:\n",
    "                right_turning_lane = True \n",
    "\n",
    "        for left_lanes in lanes_to_left:\n",
    "            if (connection[0], connection[1]) in left_lanes:\n",
    "                left_turning_lane = True\n",
    "    \n",
    "    # determine if the lane is right_most\n",
    "    lane_group = parallel_same_dir if same_dir else parallel_opposite_dir\n",
    "    maximum_id_magnitude = 0\n",
    "    for lane in lane_group:\n",
    "        maximum_id_magnitude = max(abs(lane[0][1]), maximum_id_magnitude)\n",
    "    right_most_turning_lane = maximum_id_magnitude == abs(lane_id)\n",
    "    \n",
    "    ego_lane = ego_info[1]\n",
    "    ego_road = [parallel_same_dir[0][0][0], parallel_same_dir[0][1][0], parallel_same_dir[0][2][0]]\n",
    "    if (road_id in ego_road): \n",
    "        if not same_dir: \n",
    "            left_to_the_current = True # which could means right_to_the_current = False\n",
    "            #since this function should only be applied on (road_id, lane_id) in in_out_dict.keys()\n",
    "            # update all the fields in connecting lanes if needed\n",
    "            # update_field_in_group(road_id, lane_id, parallel_opposite_dir, left_to_the_current, True)\n",
    "            if (abs(ego_lane) == 1 and lane_id * ego_lane == 1):\n",
    "                right_next_to_the_current = True \n",
    "                # update_field_in_group(road_id, lane_id, parallel_opposite_dir, right_next_to_the_current, True)\n",
    "\n",
    "        else:\n",
    "            if abs(lane_id) < abs(ego_lane):\n",
    "                left_to_the_current = True #on the same road but with opposite direction\n",
    "                # update_field_in_group(road_id, lane_id, parallel_opposite_dir, left_to_the_current, True)\n",
    "            if (abs(ego_lane - lane_id) == 1):\n",
    "                right_next_to_the_current = True\n",
    "                # update_field_in_group(road_id, lane_id, parallel_opposite_dir, right_next_to_the_current, True)\n",
    "\n",
    "            \n",
    "    \n",
    "    assert(right_turning_lane != left_turning_lane)\n",
    "    print(\"right_turning_lane: \", right_turning_lane)\n",
    "    print(\"left_turning_lane: \", left_turning_lane)\n",
    "    print(\"left_to_the_ego_for_all_the_current_lanes: \", left_to_the_current)\n",
    "    print(\"right_next_to_the_ego_for_all_the_current_lanes: \", right_next_to_the_current)"
   ]
  },
  {
   "cell_type": "code",
   "execution_count": 7,
   "metadata": {},
   "outputs": [],
   "source": [
    "ego_nearest_waypoint = client.get_world().get_map().get_waypoint(\n",
    "    ego_vehicle.get_location(), project_to_road=True\n",
    ")\n",
    "client.get_world().debug.draw_string(\n",
    "    ego_nearest_waypoint.transform.location,\n",
    "    \"O\",\n",
    "    draw_shadow=False,\n",
    "    color=carla.Color(r=255, g=0, b=0),\n",
    "    life_time=100,\n",
    ")"
   ]
  },
  {
   "cell_type": "code",
   "execution_count": 7,
   "metadata": {},
   "outputs": [],
   "source": [
    "ego_vehicle.destroy()\n",
    "for actor in my_vehicles:\n",
    "    actor.destroy()"
   ]
  },
  {
   "cell_type": "code",
   "execution_count": 10,
   "metadata": {},
   "outputs": [],
   "source": [
    "def get_lane_waypoints(all_waypoints, road_lane_collection, road_lane_to_orientation):\n",
    "    \n",
    "    incoming_road = road_lane_collection[0][0]\n",
    "    incoming_lane = road_lane_collection[0][1]\n",
    "    \n",
    "    connecting_road = road_lane_collection[1][0]\n",
    "    connecting_lane = road_lane_collection[1][1]\n",
    "    \n",
    "    outgoing_road = road_lane_collection[2][0]\n",
    "    outgoing_lane = road_lane_collection[2][1]\n",
    "    \n",
    "    incoming_waypoints = filter_waypoints(all_waypoints, incoming_road, incoming_lane)\n",
    "    connecting_waypoints = filter_waypoints(all_waypoints, connecting_road, connecting_lane)\n",
    "    outgoing_waypoints = filter_waypoints(all_waypoints, outgoing_road, outgoing_lane)\n",
    "    \n",
    "    if(road_lane_to_orientation[(incoming_road, incoming_lane)][-1] == 0): # 0 : Starting from near junction\n",
    "        incoming_waypoints = incoming_waypoints[::-1]\n",
    "        \n",
    "    if(road_lane_to_orientation[(outgoing_road, outgoing_lane)][-1] == 1): # 1 : Ending at junction\n",
    "        outgoing_waypoints = outgoing_waypoints[::-1]\n",
    "\n",
    "\n",
    "    first_connecting_waypoint = connecting_waypoints[0]\n",
    "    last_connecting_waypoint = connecting_waypoints[-1]\n",
    "    \n",
    "    last_incoming_waypoint = incoming_waypoints[-1]\n",
    "    \n",
    "    dist1 = first_connecting_waypoint.transform.location.distance(last_incoming_waypoint.transform.location)\n",
    "    dist2 = last_connecting_waypoint.transform.location.distance(last_incoming_waypoint.transform.location)\n",
    "\n",
    "    if(dist1 > dist2):\n",
    "        connecting_waypoints = connecting_waypoints[::-1]\n",
    "        \n",
    "    \n",
    "    return incoming_waypoints + connecting_waypoints[1:-1] + outgoing_waypoints\n",
    "    \n",
    "\n",
    "\n",
    "    \n",
    "def convert_to_shapely_linestring(waypoints):\n",
    "    \n",
    "    list_of_coordinates = [Point(waypoint.transform.location.x, waypoint.transform.location.y) for waypoint in waypoints]\n",
    "    linestring = LineString(list_of_coordinates)\n",
    "    \n",
    "    return linestring\n",
    "\n",
    "\n",
    "def separate_ego_lane_and_other_parallel_lanes(parallel_same_dir, ego_key):\n",
    "    \n",
    "    ego_lane = []\n",
    "    other_lanes = []\n",
    "    \n",
    "    for elem in parallel_same_dir:\n",
    "        flag = 0\n",
    "        for item in elem:\n",
    "            if(item == ego_key):\n",
    "                flag = 1\n",
    "        if(flag == 1):\n",
    "            ego_lane.append(elem)\n",
    "        else:\n",
    "            other_lanes.append(elem)\n",
    "    return ego_lane, other_lanes\n",
    "            \n",
    "    \n",
    "    "
   ]
  },
  {
   "cell_type": "code",
   "execution_count": null,
   "metadata": {},
   "outputs": [],
   "source": []
  }
 ],
 "metadata": {
  "kernelspec": {
   "display_name": "Python 3",
   "language": "python",
   "name": "python3"
  },
  "language_info": {
   "codemirror_mode": {
    "name": "ipython",
    "version": 3
   },
   "file_extension": ".py",
   "mimetype": "text/x-python",
   "name": "python",
   "nbconvert_exporter": "python",
   "pygments_lexer": "ipython3",
   "version": "3.5.2"
  },
  "varInspector": {
   "cols": {
    "lenName": 16,
    "lenType": 16,
    "lenVar": 40
   },
   "kernels_config": {
    "python": {
     "delete_cmd_postfix": "",
     "delete_cmd_prefix": "del ",
     "library": "var_list.py",
     "varRefreshCmd": "print(var_dic_list())"
    },
    "r": {
     "delete_cmd_postfix": ") ",
     "delete_cmd_prefix": "rm(",
     "library": "var_list.r",
     "varRefreshCmd": "cat(var_dic_list()) "
    }
   },
   "types_to_exclude": [
    "module",
    "function",
    "builtin_function_or_method",
    "instance",
    "_Feature"
   ],
   "window_display": false
  }
 },
 "nbformat": 4,
 "nbformat_minor": 4
}
