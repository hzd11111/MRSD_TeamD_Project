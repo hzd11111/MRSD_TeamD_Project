{
 "cells": [
  {
   "cell_type": "code",
   "execution_count": 1,
   "metadata": {},
   "outputs": [],
   "source": [
    "import carla\n",
    "import time\n",
    "from intersection_scenario_manager import IntersectionScenario\n",
    "import numpy as np\n",
    "import sys\n",
    "sys.path.append(\"cartesian_to_frenet/\")\n",
    "from topology_extraction import get_opendrive_tree, get_junction_topology, get_junction_roads_topology\n",
    "sys.path.append(\"../../global_route_planner/\")\n",
    "from global_planner import get_client, draw_waypoints, spawn_vehicle"
   ]
  },
  {
   "cell_type": "code",
   "execution_count": 2,
   "metadata": {},
   "outputs": [],
   "source": [
    "client = carla.Client(\"localhost\", 2000)\n",
    "client.set_timeout(10.0)"
   ]
  },
  {
   "cell_type": "code",
   "execution_count": 3,
   "metadata": {},
   "outputs": [
    {
     "name": "stdout",
     "output_type": "stream",
     "text": [
      "Connection to CARLA server established!\n"
     ]
    }
   ],
   "source": [
    "# Get client to interact with CARLA server\n",
    "client = get_client()\n",
    "\n",
    "# Get current CARLA world\n",
    "world = client.get_world()\n",
    "\n",
    "all_waypoints = world.get_map().generate_waypoints(1)\n",
    "def draw(road_id, lane_id=None, color=[0,255,0]):\n",
    "    for wp in all_waypoints:\n",
    "        \n",
    "        if lane_id == None and wp.road_id == road_id:\n",
    "            draw_waypoints(world, [wp], 5, color) \n",
    "#             print(wp.lane_id)\n",
    "        elif wp.road_id == road_id and wp.lane_id==lane_id:\n",
    "            draw_waypoints(world, [wp], 5, color) \n",
    "            \n",
    "tree = get_opendrive_tree(world)\n",
    "junction_topology = get_junction_topology(tree)\n",
    "road_topology = get_junction_roads_topology(tree)"
   ]
  },
  {
   "cell_type": "code",
   "execution_count": 4,
   "metadata": {
    "scrolled": false
   },
   "outputs": [
    {
     "name": "stdout",
     "output_type": "stream",
     "text": [
      "Intersection Manager Initialized...\n"
     ]
    }
   ],
   "source": [
    "SM = IntersectionScenario(client)"
   ]
  },
  {
   "cell_type": "markdown",
   "metadata": {},
   "source": [
    "dict_keys([224, 965, 421, 1175, 905, 1162, 139, 1260, 685, 334, 751, 1148, 1050, 53, 599, 1070, 943, 509, 924, 829, 245])"
   ]
  },
  {
   "cell_type": "code",
   "execution_count": 5,
   "metadata": {},
   "outputs": [],
   "source": [
    "junctionId = 139\n",
    "\n",
    "# for idx in range(len(junction_topology[junctionId])):\n",
    "#     intersection_road_id, intersection_lane_id = junction_topology[junctionId][idx][1]\n",
    "\n",
    "#     road_1_id, road_2_id, lane_connections = road_topology[intersection_road_id]\n",
    "#     print(road_1_id, road_2_id, intersection_road_id, lane_connections)"
   ]
  },
  {
   "cell_type": "code",
   "execution_count": 13,
   "metadata": {
    "scrolled": true
   },
   "outputs": [
    {
     "name": "stdout",
     "output_type": "stream",
     "text": [
      "generating scenario at junction id:  139\n",
      "Response Error while applying batch!\n",
      "Response Error while applying batch!\n",
      "Control handed to system....\n"
     ]
    }
   ],
   "source": [
    "a,b,c,d,e = SM.reset(num_vehicles=10, warm_start_duration=20, junction_id=junctionId)"
   ]
  },
  {
   "cell_type": "code",
   "execution_count": 14,
   "metadata": {},
   "outputs": [],
   "source": [
    "intersecting_left, intersecting_right, parallel_same_dir, parallel_opposite_dir = d\n",
    "# parallel_same_dir.append(e)"
   ]
  },
  {
   "cell_type": "code",
   "execution_count": 15,
   "metadata": {},
   "outputs": [],
   "source": [
    "ego_nearest_waypoint = client.get_world().get_map().get_waypoint(\n",
    "    a.get_location(), project_to_road=True\n",
    ")\n",
    "client.get_world().debug.draw_string(\n",
    "    ego_nearest_waypoint.transform.location,\n",
    "    \"O\",\n",
    "    draw_shadow=False,\n",
    "    color=carla.Color(r=0, g=255, b=0),\n",
    "    life_time=10,\n",
    ")"
   ]
  },
  {
   "cell_type": "code",
   "execution_count": 16,
   "metadata": {},
   "outputs": [],
   "source": [
    "for elem in intersecting_right:\n",
    "    if(len(elem) == 2):\n",
    "        draw(elem[0], elem[1])\n",
    "    else:\n",
    "        draw(elem[0][0],elem[0][1])\n",
    "        draw(elem[1][0],elem[1][1])\n",
    "        draw(elem[2][0],elem[2][1])"
   ]
  },
  {
   "cell_type": "code",
   "execution_count": 23,
   "metadata": {},
   "outputs": [
    {
     "data": {
      "text/plain": [
       "carla.libcarla.TrafficLightState.Green"
      ]
     },
     "execution_count": 23,
     "metadata": {},
     "output_type": "execute_result"
    }
   ],
   "source": [
    "a.get_traffic_light_state()"
   ]
  },
  {
   "cell_type": "code",
   "execution_count": 13,
   "metadata": {},
   "outputs": [],
   "source": [
    "# full_parallel_opposite_dir = []\n",
    "\n",
    "# for key in parallel_opposite_dir:\n",
    "    \n",
    "#     if(key not in c):\n",
    "#         continue\n",
    "        \n",
    "#     for elem in c[key]:\n",
    "#         if (elem[0], elem[1]) in parallel_opposite_dir:\n",
    "#             full_parallel_opposite_dir.append([key, (elem[2], elem[3][0]), (elem[0], elem[1])])\n",
    "            \n",
    "# if len(full_parallel_opposite_dir) == 0:\n",
    "#     full_parallel_opposite_dir = parallel_opposite_dir\n",
    "\n",
    "            \n",
    "# full_parallel_same_dir = []\n",
    "\n",
    "# for key in parallel_same_dir:\n",
    "    \n",
    "#     if(key not in c):\n",
    "#         continue\n",
    "        \n",
    "#     for elem in c[key]:\n",
    "#         if (elem[0], elem[1]) in parallel_same_dir:\n",
    "#             full_parallel_same_dir.append([key, (elem[2], elem[3][0]), (elem[0], elem[1])])\n",
    "\n",
    "# if len(full_parallel_same_dir) == 0:\n",
    "#     full_parallel_same_dir = parallel_same_dir\n",
    "            \n",
    "        \n",
    "# full_intersecting_right = []\n",
    "\n",
    "# for key in intersecting_right:\n",
    "    \n",
    "#     if(key not in c):\n",
    "#         continue\n",
    "        \n",
    "#     for elem in c[key]:\n",
    "#         if (elem[0], elem[1]) in intersecting_right:\n",
    "#             full_intersecting_right.append([key, (elem[2], elem[3][0]), (elem[0], elem[1])])\n",
    "    \n",
    "# if len(full_intersecting_right) == 0:\n",
    "#     full_intersecting_right = intersecting_right\n",
    "    \n",
    "    \n",
    "# full_intersecting_left = []\n",
    "\n",
    "# for key in intersecting_left:\n",
    "    \n",
    "#     if(key not in c):\n",
    "#         continue\n",
    "        \n",
    "#     for elem in c[key]:\n",
    "#         if (elem[0], elem[1]) in intersecting_left:\n",
    "#             full_intersecting_left.append([key, (elem[2], elem[3][0]), (elem[0], elem[1])])\n",
    "    \n",
    "# if len(full_intersecting_left) == 0:\n",
    "#     full_intersecting_left = intersecting_left\n",
    "    \n",
    "\n",
    "        \n",
    "        \n",
    "    \n",
    "    "
   ]
  },
  {
   "cell_type": "code",
   "execution_count": 100,
   "metadata": {},
   "outputs": [],
   "source": [
    "for elem in full_intersecting_left:\n",
    "    if(len(elem) == 2):\n",
    "        draw(elem[0], elem[1])\n",
    "    else:\n",
    "        draw(elem[0][0],elem[0][1])\n",
    "        draw(elem[1][0],elem[1][1])\n",
    "        draw(elem[2][0],elem[2][1])"
   ]
  },
  {
   "cell_type": "code",
   "execution_count": 101,
   "metadata": {},
   "outputs": [],
   "source": []
  },
  {
   "cell_type": "code",
   "execution_count": null,
   "metadata": {},
   "outputs": [],
   "source": []
  },
  {
   "cell_type": "code",
   "execution_count": 45,
   "metadata": {},
   "outputs": [
    {
     "name": "stdout",
     "output_type": "stream",
     "text": [
      "(52, -2)\n",
      "(52, -1)\n",
      "(51, -2)\n"
     ]
    }
   ],
   "source": [
    "for key in parallel_same_dir:\n",
    "    draw(key[0], key[1])"
   ]
  },
  {
   "cell_type": "code",
   "execution_count": 12,
   "metadata": {},
   "outputs": [],
   "source": [
    "a.destroy()\n",
    "for actor in b:\n",
    "    actor.destroy()"
   ]
  },
  {
   "cell_type": "code",
   "execution_count": null,
   "metadata": {},
   "outputs": [],
   "source": []
  }
 ],
 "metadata": {
  "kernelspec": {
   "display_name": "Python 3",
   "language": "python",
   "name": "python3"
  },
  "language_info": {
   "codemirror_mode": {
    "name": "ipython",
    "version": 3
   },
   "file_extension": ".py",
   "mimetype": "text/x-python",
   "name": "python",
   "nbconvert_exporter": "python",
   "pygments_lexer": "ipython3",
   "version": "3.5.2"
  },
  "varInspector": {
   "cols": {
    "lenName": 16,
    "lenType": 16,
    "lenVar": 40
   },
   "kernels_config": {
    "python": {
     "delete_cmd_postfix": "",
     "delete_cmd_prefix": "del ",
     "library": "var_list.py",
     "varRefreshCmd": "print(var_dic_list())"
    },
    "r": {
     "delete_cmd_postfix": ") ",
     "delete_cmd_prefix": "rm(",
     "library": "var_list.r",
     "varRefreshCmd": "cat(var_dic_list()) "
    }
   },
   "types_to_exclude": [
    "module",
    "function",
    "builtin_function_or_method",
    "instance",
    "_Feature"
   ],
   "window_display": false
  }
 },
 "nbformat": 4,
 "nbformat_minor": 4
}
