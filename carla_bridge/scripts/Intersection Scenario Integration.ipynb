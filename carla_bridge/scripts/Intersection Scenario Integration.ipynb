{
 "cells": [
  {
   "cell_type": "code",
   "execution_count": 1,
   "metadata": {},
   "outputs": [],
   "source": [
    "import carla\n",
    "import time\n",
    "from intersection_scenario_manager import IntersectionScenario\n",
    "\n",
    "import sys\n",
    "sys.path.append(\"cartesian_to_frenet/\")\n",
    "import topology_extraction\n",
    "sys.path.append(\"../../global_route_planner/\")\n",
    "from global_planner import get_client, draw_waypoints, spawn_vehicle"
   ]
  },
  {
   "cell_type": "code",
   "execution_count": 2,
   "metadata": {},
   "outputs": [],
   "source": [
    "client = carla.Client(\"localhost\", 2000)\n",
    "client.set_timeout(10.0)"
   ]
  },
  {
   "cell_type": "code",
   "execution_count": 3,
   "metadata": {},
   "outputs": [
    {
     "name": "stdout",
     "output_type": "stream",
     "text": [
      "Connection to CARLA server established!\n"
     ]
    }
   ],
   "source": [
    "# Get client to interact with CARLA server\n",
    "client = get_client()\n",
    "\n",
    "# Get current CARLA world\n",
    "world = client.get_world()\n",
    "\n",
    "all_waypoints = world.get_map().generate_waypoints(1)\n",
    "def draw(road_id, lane_id=None, color=[0,255,0]):\n",
    "    for wp in all_waypoints:\n",
    "        \n",
    "        if lane_id == None and wp.road_id == road_id:\n",
    "            draw_waypoints(world, [wp], 1, color) \n",
    "#             print(wp.lane_id)\n",
    "        elif wp.road_id == road_id and wp.lane_id==lane_id:\n",
    "            draw_waypoints(world, [wp], 1, color) "
   ]
  },
  {
   "cell_type": "code",
   "execution_count": 4,
   "metadata": {},
   "outputs": [
    {
     "name": "stdout",
     "output_type": "stream",
     "text": [
      "Intersection Manager Initialized...\n"
     ]
    }
   ],
   "source": [
    "SM = IntersectionScenario(client)"
   ]
  },
  {
   "cell_type": "code",
   "execution_count": 10,
   "metadata": {
    "scrolled": true
   },
   "outputs": [
    {
     "name": "stdout",
     "output_type": "stream",
     "text": [
      "generating scenario at junction id:  1050\n",
      "Response Error while applying batch!\n",
      "Response Error while applying batch!\n",
      "Control handed to system....\n"
     ]
    }
   ],
   "source": [
    "a, b, c = SM.reset(num_vehicles=20)\n",
    "# in_set, out_set, in_to_out_dict = SM.reset(num_vehicles=10, junction_id=509)"
   ]
  },
  {
   "cell_type": "code",
   "execution_count": 19,
   "metadata": {},
   "outputs": [
    {
     "data": {
      "text/plain": [
       "{(6, 1): [(33, 1, 780, (-1,)), (15, 1, 765, (-1,))],\n",
       " (6, 2): [(16, -2, 757, (-1,)), (33, 2, 768, (-1, -2))],\n",
       " (15, -2): [(16, -2, 807, (2,)), (6, -2, 758, (2, 1))],\n",
       " (15, -1): [(16, -1, 807, (1,)), (33, 1, 823, (-1,))],\n",
       " (16, 1): [(6, -1, 752, (1,)), (15, 1, 808, (-1,))],\n",
       " (16, 2): [(33, 2, 813, (-2, -1)), (15, 2, 808, (-2,))],\n",
       " (33, -2): [(15, 2, 828, (-1,)), (6, -2, 772, (2, 1))],\n",
       " (33, -1): [(6, -1, 776, (1,)), (16, -1, 820, (1,))]}"
      ]
     },
     "execution_count": 19,
     "metadata": {},
     "output_type": "execute_result"
    }
   ],
   "source": [
    "c"
   ]
  },
  {
   "cell_type": "code",
   "execution_count": 11,
   "metadata": {},
   "outputs": [],
   "source": [
    "# for in_pair in in_to_out_dict:\n",
    "#     for out_pair in in_to_out_dict[in_pair]:\n",
    "#         draw(in_pair[0], in_pair[1])\n",
    "#         draw(out_pair[0], out_pair[1], [255,0,0])\n",
    "#         time.sleep(1.1)\n",
    "draw(16,2)\n",
    "draw(33,2,[255,0,0])\n",
    "draw(813,-1,[255,255,255])"
   ]
  },
  {
   "cell_type": "code",
   "execution_count": 7,
   "metadata": {},
   "outputs": [],
   "source": [
    "ego_nearest_waypoint = client.get_world().get_map().get_waypoint(\n",
    "    a[0].get_location(), project_to_road=True\n",
    ")\n",
    "client.get_world().debug.draw_string(\n",
    "    ego_nearest_waypoint.transform.location,\n",
    "    \"O\",\n",
    "    draw_shadow=False,\n",
    "    color=carla.Color(r=0, g=255, b=0),\n",
    "    life_time=10,\n",
    ")"
   ]
  },
  {
   "cell_type": "code",
   "execution_count": 8,
   "metadata": {},
   "outputs": [],
   "source": [
    "for actor in a:\n",
    "    actor.destroy()"
   ]
  },
  {
   "cell_type": "code",
   "execution_count": 9,
   "metadata": {},
   "outputs": [],
   "source": [
    "for actor in b:\n",
    "    actor.destroy()"
   ]
  },
  {
   "cell_type": "code",
   "execution_count": null,
   "metadata": {},
   "outputs": [],
   "source": []
  }
 ],
 "metadata": {
  "kernelspec": {
   "display_name": "Python 3",
   "language": "python",
   "name": "python3"
  },
  "language_info": {
   "codemirror_mode": {
    "name": "ipython",
    "version": 3
   },
   "file_extension": ".py",
   "mimetype": "text/x-python",
   "name": "python",
   "nbconvert_exporter": "python",
   "pygments_lexer": "ipython3",
   "version": "3.5.2"
  },
  "varInspector": {
   "cols": {
    "lenName": 16,
    "lenType": 16,
    "lenVar": 40
   },
   "kernels_config": {
    "python": {
     "delete_cmd_postfix": "",
     "delete_cmd_prefix": "del ",
     "library": "var_list.py",
     "varRefreshCmd": "print(var_dic_list())"
    },
    "r": {
     "delete_cmd_postfix": ") ",
     "delete_cmd_prefix": "rm(",
     "library": "var_list.r",
     "varRefreshCmd": "cat(var_dic_list()) "
    }
   },
   "types_to_exclude": [
    "module",
    "function",
    "builtin_function_or_method",
    "instance",
    "_Feature"
   ],
   "window_display": false
  }
 },
 "nbformat": 4,
 "nbformat_minor": 4
}
