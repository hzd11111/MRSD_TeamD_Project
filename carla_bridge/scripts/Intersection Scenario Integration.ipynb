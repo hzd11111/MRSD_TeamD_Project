{
 "cells": [
  {
   "cell_type": "code",
   "execution_count": 4,
   "metadata": {},
   "outputs": [],
   "source": [
    "import carla\n",
    "import time\n",
    "from intersection_scenario_manager import IntersectionScenario\n",
    "import numpy as np\n",
    "import sys\n",
    "sys.path.append(\"cartesian_to_frenet/\")\n",
    "from topology_extraction import get_opendrive_tree, get_junction_topology, get_junction_roads_topology\n",
    "sys.path.append(\"../../global_route_planner/\")\n",
    "from global_planner import get_client, draw_waypoints, spawn_vehicle\n",
    "\n",
    "import shapely\n",
    "from shapely.geometry import Point, LineString, MultiLineString"
   ]
  },
  {
   "cell_type": "code",
   "execution_count": null,
   "metadata": {},
   "outputs": [],
   "source": []
  },
  {
   "cell_type": "code",
   "execution_count": 5,
   "metadata": {},
   "outputs": [
    {
     "name": "stdout",
     "output_type": "stream",
     "text": [
      "Connection to CARLA server established!\n"
     ]
    }
   ],
   "source": [
    "# Get client to interact with CARLA server\n",
    "client = get_client()\n",
    "\n",
    "# Get current CARLA world\n",
    "world = client.get_world()\n",
    "\n",
    "all_waypoints = world.get_map().generate_waypoints(1)\n",
    "def draw(road_id, lane_id=None, color=[0,255,0]):\n",
    "    for wp in all_waypoints:\n",
    "        \n",
    "        if lane_id == None and wp.road_id == road_id:\n",
    "            draw_waypoints(world, [wp], 10, color) \n",
    "#             print(wp.lane_id)\n",
    "        elif wp.road_id == road_id and wp.lane_id==lane_id:\n",
    "            draw_waypoints(world, [wp], 10, color) \n",
    "            \n",
    "def filter_waypoints(waypoints, road_id, lane_id = None):\n",
    "    \n",
    "    filtered_waypoints = []\n",
    "    for wp in waypoints:\n",
    "        \n",
    "        if lane_id == None and wp.road_id == road_id:\n",
    "            filtered_waypoints.append(wp) \n",
    "        elif wp.road_id == road_id and wp.lane_id==lane_id:\n",
    "            filtered_waypoints.append(wp) \n",
    "\n",
    "    return filtered_waypoints\n",
    "            \n",
    "tree = get_opendrive_tree(world)\n",
    "junction_topology = get_junction_topology(tree)\n",
    "road_topology = get_junction_roads_topology(tree)\n"
   ]
  },
  {
   "cell_type": "code",
   "execution_count": null,
   "metadata": {},
   "outputs": [],
   "source": []
  },
  {
   "cell_type": "code",
   "execution_count": 6,
   "metadata": {
    "scrolled": false
   },
   "outputs": [
    {
     "name": "stdout",
     "output_type": "stream",
     "text": [
      "Intersection Manager Initialized...\n"
     ]
    }
   ],
   "source": [
    "SM = IntersectionScenario(client)"
   ]
  },
  {
   "cell_type": "markdown",
   "metadata": {},
   "source": [
    "dict_keys([224, 965, 421, 1175, 905, 1162, 139, 1260, 685, 334, 751, 1148, 1050, 53, 599, 1070, 943, 509, 924, 829, 245])"
   ]
  },
  {
   "cell_type": "code",
   "execution_count": 24,
   "metadata": {},
   "outputs": [],
   "source": [
    "junctionId = 53"
   ]
  },
  {
   "cell_type": "code",
   "execution_count": 34,
   "metadata": {
    "scrolled": true
   },
   "outputs": [
    {
     "name": "stdout",
     "output_type": "stream",
     "text": [
      "generating scenario at junction id:  53\n",
      "Control handed to system....\n"
     ]
    }
   ],
   "source": [
    "ego_vehicle, my_vehicles, incoming_road_lane_id_to_outgoing_lane_id_dict, intersection_topology, ego_key, global_path_wps, road_lane_to_orientation = SM.reset(num_vehicles=10, warm_start_duration=5, junction_id=junctionId)"
   ]
  },
  {
   "cell_type": "code",
   "execution_count": null,
   "metadata": {},
   "outputs": [],
   "source": []
  },
  {
   "cell_type": "code",
   "execution_count": 36,
   "metadata": {},
   "outputs": [],
   "source": [
    "intersecting_left, intersecting_right, parallel_same_dir, parallel_opposite_dir = intersection_topology\n",
    "ego_lane, parallel_same_dir = separate_ego_lane_and_other_parallel_lanes(parallel_same_dir, ego_key)"
   ]
  },
  {
   "cell_type": "code",
   "execution_count": 16,
   "metadata": {},
   "outputs": [],
   "source": [
    "wps = get_lane_waypoints(all_waypoints, intersecting_right[1], road_lane_to_orientation)\n",
    "ls = convert_to_shapely_linestring(wps)\n",
    "\n",
    "wps1 = get_lane_waypoints(all_waypoints, ego_lane[0], road_lane_to_orientation)\n",
    "ls2 = convert_to_shapely_linestring(wps1) "
   ]
  },
  {
   "cell_type": "code",
   "execution_count": 17,
   "metadata": {},
   "outputs": [],
   "source": [
    "intersection_point = ls.intersection(ls2)"
   ]
  },
  {
   "cell_type": "code",
   "execution_count": 21,
   "metadata": {},
   "outputs": [],
   "source": [
    "draw_waypoints(world, wps[:10])"
   ]
  },
  {
   "cell_type": "code",
   "execution_count": 38,
   "metadata": {},
   "outputs": [],
   "source": [
    "for element in parallel_same_dir:\n",
    "    for item in element:\n",
    "        draw(item[0], item[1])"
   ]
  },
  {
   "cell_type": "code",
   "execution_count": 35,
   "metadata": {},
   "outputs": [],
   "source": [
    "ego_nearest_waypoint = client.get_world().get_map().get_waypoint(\n",
    "    ego_vehicle.get_location(), project_to_road=True\n",
    ")\n",
    "client.get_world().debug.draw_string(\n",
    "    ego_nearest_waypoint.transform.location,\n",
    "    \"O\",\n",
    "    draw_shadow=False,\n",
    "    color=carla.Color(r=255, g=0, b=0),\n",
    "    life_time=100,\n",
    ")"
   ]
  },
  {
   "cell_type": "code",
   "execution_count": null,
   "metadata": {},
   "outputs": [],
   "source": []
  },
  {
   "cell_type": "code",
   "execution_count": 39,
   "metadata": {},
   "outputs": [],
   "source": [
    "ego_vehicle.destroy()\n",
    "for actor in my_vehicles:\n",
    "    actor.destroy()"
   ]
  },
  {
   "cell_type": "code",
   "execution_count": 10,
   "metadata": {},
   "outputs": [],
   "source": [
    "def get_lane_waypoints(all_waypoints, road_lane_collection, road_lane_to_orientation):\n",
    "    \n",
    "    incoming_road = road_lane_collection[0][0]\n",
    "    incoming_lane = road_lane_collection[0][1]\n",
    "    \n",
    "    connecting_road = road_lane_collection[1][0]\n",
    "    connecting_lane = road_lane_collection[1][1]\n",
    "    \n",
    "    outgoing_road = road_lane_collection[2][0]\n",
    "    outgoing_lane = road_lane_collection[2][1]\n",
    "    \n",
    "    incoming_waypoints = filter_waypoints(all_waypoints, incoming_road, incoming_lane)\n",
    "    connecting_waypoints = filter_waypoints(all_waypoints, connecting_road, connecting_lane)\n",
    "    outgoing_waypoints = filter_waypoints(all_waypoints, outgoing_road, outgoing_lane)\n",
    "    \n",
    "    if(road_lane_to_orientation[(incoming_road, incoming_lane)][-1] == 0): # 0 : Starting from near junction\n",
    "        incoming_waypoints = incoming_waypoints[::-1]\n",
    "        \n",
    "    if(road_lane_to_orientation[(outgoing_road, outgoing_lane)][-1] == 1): # 1 : Ending at junction\n",
    "        outgoing_waypoints = outgoing_waypoints[::-1]\n",
    "\n",
    "\n",
    "    first_connecting_waypoint = connecting_waypoints[0]\n",
    "    last_connecting_waypoint = connecting_waypoints[-1]\n",
    "    \n",
    "    last_incoming_waypoint = incoming_waypoints[-1]\n",
    "    \n",
    "    dist1 = first_connecting_waypoint.transform.location.distance(last_incoming_waypoint.transform.location)\n",
    "    dist2 = last_connecting_waypoint.transform.location.distance(last_incoming_waypoint.transform.location)\n",
    "\n",
    "    if(dist1 > dist2):\n",
    "        connecting_waypoints = connecting_waypoints[::-1]\n",
    "        \n",
    "    \n",
    "    return incoming_waypoints + connecting_waypoints[1:-1] + outgoing_waypoints\n",
    "    \n",
    "\n",
    "\n",
    "    \n",
    "def convert_to_shapely_linestring(waypoints):\n",
    "    \n",
    "    list_of_coordinates = [Point(waypoint.transform.location.x, waypoint.transform.location.y) for waypoint in waypoints]\n",
    "    linestring = LineString(list_of_coordinates)\n",
    "    \n",
    "    return linestring\n",
    "\n",
    "\n",
    "def separate_ego_lane_and_other_parallel_lanes(parallel_same_dir, ego_key):\n",
    "    \n",
    "    ego_lane = []\n",
    "    other_lanes = []\n",
    "    \n",
    "    for elem in parallel_same_dir:\n",
    "        flag = 0\n",
    "        for item in elem:\n",
    "            if(item == ego_key):\n",
    "                flag = 1\n",
    "        if(flag == 1):\n",
    "            ego_lane.append(elem)\n",
    "        else:\n",
    "            other_lanes.append(elem)\n",
    "    return ego_lane, other_lanes\n",
    "            \n",
    "    \n",
    "    "
   ]
  },
  {
   "cell_type": "code",
   "execution_count": null,
   "metadata": {},
   "outputs": [],
   "source": []
  }
 ],
 "metadata": {
  "kernelspec": {
   "display_name": "Python 3",
   "language": "python",
   "name": "python3"
  },
  "language_info": {
   "codemirror_mode": {
    "name": "ipython",
    "version": 3
   },
   "file_extension": ".py",
   "mimetype": "text/x-python",
   "name": "python",
   "nbconvert_exporter": "python",
   "pygments_lexer": "ipython3",
   "version": "3.5.2"
  },
  "varInspector": {
   "cols": {
    "lenName": 16,
    "lenType": 16,
    "lenVar": 40
   },
   "kernels_config": {
    "python": {
     "delete_cmd_postfix": "",
     "delete_cmd_prefix": "del ",
     "library": "var_list.py",
     "varRefreshCmd": "print(var_dic_list())"
    },
    "r": {
     "delete_cmd_postfix": ") ",
     "delete_cmd_prefix": "rm(",
     "library": "var_list.r",
     "varRefreshCmd": "cat(var_dic_list()) "
    }
   },
   "types_to_exclude": [
    "module",
    "function",
    "builtin_function_or_method",
    "instance",
    "_Feature"
   ],
   "window_display": false
  }
 },
 "nbformat": 4,
 "nbformat_minor": 4
}
