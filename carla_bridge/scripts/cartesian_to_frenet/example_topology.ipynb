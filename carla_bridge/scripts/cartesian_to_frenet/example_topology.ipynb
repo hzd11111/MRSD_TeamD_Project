{
 "cells": [
  {
   "cell_type": "code",
   "execution_count": 1,
   "metadata": {},
   "outputs": [],
   "source": [
    "import sys\n",
    "import random\n",
    "from configparser import ConfigParser\n",
    "\n",
    "config = ConfigParser()\n",
    "config.read(\"config.ini\")\n",
    "CARLA_PATH = config.get(\"main\", \"CARLA_PATH\")\n",
    "# Enable import of 'carla'\n",
    "sys.path.append(CARLA_PATH + \"PythonAPI/carla/dist/carla-0.9.9-py3.6-linux-x86_64.egg\")\n",
    "# Enable import of 'agents' and it's submodules\n",
    "sys.path.insert(0, CARLA_PATH + \"PythonAPI/carla/\")\n",
    "# Enable import of utilities from GlobalPathPlanner\n",
    "sys.path.insert(0, \"../../../global_route_planner/\")\n",
    "\n",
    "import carla\n",
    "\n",
    "from agents.navigation.local_planner import LocalPlanner, _compute_connection\n",
    "\n",
    "from global_planner import get_client, spawn_vehicle, draw_waypoints, get_global_planner\n",
    "\n",
    "import numpy as np"
   ]
  },
  {
   "cell_type": "markdown",
   "metadata": {},
   "source": [
    "### Initialize client, CARLA world, and a global route planner"
   ]
  },
  {
   "cell_type": "code",
   "execution_count": 2,
   "metadata": {},
   "outputs": [
    {
     "name": "stdout",
     "output_type": "stream",
     "text": [
      "Connection to CARLA server established!\n"
     ]
    }
   ],
   "source": [
    "# Get client to interact with CARLA server\n",
    "client = get_client()\n",
    "\n",
    "# Get current CARLA world\n",
    "world = client.get_world()\n",
    "\n",
    "# Get global planner\n",
    "grp = get_global_planner(world, 1)  ## Discretization of 1"
   ]
  },
  {
   "cell_type": "code",
   "execution_count": 3,
   "metadata": {},
   "outputs": [],
   "source": [
    "spawn_point = random.choice(world.get_map().get_spawn_points())\n",
    "start_waypoint = world.get_map().get_waypoint(spawn_point.location,project_to_road=True)\n",
    "start_waypoint.transform.location.z += 0.1\n",
    "draw_waypoints(world, [start_waypoint], 20)"
   ]
  },
  {
   "cell_type": "code",
   "execution_count": null,
   "metadata": {},
   "outputs": [],
   "source": []
  },
  {
   "cell_type": "code",
   "execution_count": 4,
   "metadata": {},
   "outputs": [
    {
     "data": {
      "text/plain": [
       "89.78770446777344"
      ]
     },
     "execution_count": 4,
     "metadata": {},
     "output_type": "execute_result"
    }
   ],
   "source": [
    "start_waypoint.transform.rotation.yaw"
   ]
  },
  {
   "cell_type": "markdown",
   "metadata": {},
   "source": [
    "### Create a start point"
   ]
  },
  {
   "cell_type": "code",
   "execution_count": 5,
   "metadata": {},
   "outputs": [],
   "source": [
    "start_x = 54.04038619995117\n",
    "start_y = -192.64503479003906\n",
    "start_z = 3.530714869499207\n",
    "start_yaw = 1.4395599365234375\n",
    "\n",
    "start_location = carla.Location(x=start_x, y=start_y, z=start_z)\n",
    "start_rotation = carla.Rotation(yaw=start_yaw, roll=0, pitch=0)\n",
    "start_point = carla.Transform(location=start_location, rotation=start_rotation)\n",
    "start_waypoint = world.get_map().get_waypoint(start_point.location,project_to_road=True)\n",
    "draw_waypoints(world, [start_waypoint], 20)"
   ]
  },
  {
   "cell_type": "code",
   "execution_count": 6,
   "metadata": {},
   "outputs": [],
   "source": [
    "# vehicle_blueprint = world.get_blueprint_library().filter(\"model3\")[0]\n",
    "actor = spawn_vehicle(world, \"model3\")"
   ]
  },
  {
   "cell_type": "code",
   "execution_count": null,
   "metadata": {},
   "outputs": [],
   "source": [
    "def get_turn_direction(vector_current, vector_next):\n",
    "    \n",
    "    vector_current = np.array([vector_current.x, vector_current.y])\n",
    "    vector_next = np.array([vector_next.x, vector_next.y])\n",
    "\n",
    "    cos_theta = np.dot(vector_current, vector_next) / (np.linalg.norm(vector_current)*np.linalg.norm(vector_next))\n",
    "    angle_rad = np.arccos(cos_theta)\n",
    "    \n",
    "    return np.rad2deg(angle_rad)"
   ]
  },
  {
   "cell_type": "code",
   "execution_count": null,
   "metadata": {},
   "outputs": [],
   "source": []
  },
  {
   "cell_type": "code",
   "execution_count": 12,
   "metadata": {},
   "outputs": [],
   "source": [
    "traffic_light_list = world.get_actors().filter('traffic.traffic_light*')"
   ]
  },
  {
   "cell_type": "code",
   "execution_count": 13,
   "metadata": {},
   "outputs": [],
   "source": [
    "tl1 = traffic_light_list[0]"
   ]
  },
  {
   "cell_type": "code",
   "execution_count": 29,
   "metadata": {},
   "outputs": [],
   "source": [
    "tp = world.get_map().get_waypoint(tl1.get_location(),project_to_road=True)\n",
    "draw_waypoints(world, [tp], 10)"
   ]
  },
  {
   "cell_type": "code",
   "execution_count": 31,
   "metadata": {},
   "outputs": [
    {
     "data": {
      "text/plain": [
       "<carla.libcarla.BoundingBox at 0x7fde424b7c30>"
      ]
     },
     "execution_count": 31,
     "metadata": {},
     "output_type": "execute_result"
    }
   ],
   "source": [
    "tl1.trigger_volume"
   ]
  },
  {
   "cell_type": "code",
   "execution_count": 30,
   "metadata": {},
   "outputs": [],
   "source": [
    "tmp_transform = tl1.get_transform()\n",
    "tmp_bounding_box = tl1.trigger_volume\n",
    "tmp_bounding_box.location += tmp_transform.location\n",
    "world.debug.draw_box(tmp_bounding_box, tmp_transform.rotation, life_time=5, color=carla.Color(r=128, g=0, b=128))"
   ]
  },
  {
   "cell_type": "markdown",
   "metadata": {},
   "source": [
    "### Spawn an actor at the start point"
   ]
  },
  {
   "cell_type": "code",
   "execution_count": 7,
   "metadata": {},
   "outputs": [],
   "source": [
    "# actor = spawn_vehicle(world, \"model3\", start_waypoint.transform)\n",
    "current_waypoint = world.get_map().get_waypoint(actor.get_location(),project_to_road=True)"
   ]
  },
  {
   "cell_type": "code",
   "execution_count": null,
   "metadata": {},
   "outputs": [],
   "source": []
  },
  {
   "cell_type": "code",
   "execution_count": 8,
   "metadata": {},
   "outputs": [],
   "source": [
    "draw_waypoints(world, [current_waypoint])"
   ]
  },
  {
   "cell_type": "code",
   "execution_count": null,
   "metadata": {},
   "outputs": [],
   "source": [
    "points_on_actor_lane = current_waypoint.next_until_lane_end(1)\n",
    "last_point_on_lane = points_on_actor_lane[-1]\n",
    "\n",
    "connections_to_last_point_on_lane = last_point_on_lane.next(1)\n",
    "\n",
    "connecting_roads = []\n",
    "for point in connections_to_last_point_on_lane:\n",
    "    connecting_roads.append(point.next_until_lane_end(1))\n",
    "    "
   ]
  },
  {
   "cell_type": "code",
   "execution_count": null,
   "metadata": {},
   "outputs": [],
   "source": [
    "draw_waypoints(world, [current_waypoint])"
   ]
  },
  {
   "cell_type": "code",
   "execution_count": null,
   "metadata": {},
   "outputs": [],
   "source": [
    "this_jn = connecting_roads[0][0].get_junction()\n",
    "pairs_of_waypoints_on_jn = this_jn.get_waypoints(carla.LaneType.Driving)"
   ]
  },
  {
   "cell_type": "code",
   "execution_count": null,
   "metadata": {},
   "outputs": [],
   "source": [
    "[(p1.road_id, p2.road_id) for (p1,p2) in pairs_of_waypoints_on_jn]"
   ]
  },
  {
   "cell_type": "code",
   "execution_count": null,
   "metadata": {},
   "outputs": [],
   "source": [
    "points_on_actor_lane[0].road_id"
   ]
  },
  {
   "cell_type": "code",
   "execution_count": null,
   "metadata": {},
   "outputs": [],
   "source": []
  },
  {
   "cell_type": "code",
   "execution_count": null,
   "metadata": {},
   "outputs": [],
   "source": [
    "idx = 1\n",
    "draw_waypoints(world, pairs_of_waypoints_on_jn[idx], 10)\n",
    "get_turn_direction(pairs_of_waypoints_on_jn[idx][0].transform.rotation.get_forward_vector(), pairs_of_waypoints_on_jn[idx][1].transform.rotation.get_forward_vector())"
   ]
  },
  {
   "cell_type": "code",
   "execution_count": null,
   "metadata": {},
   "outputs": [],
   "source": [
    "waypoints = [[start_waypoint, None, None]]\n",
    "\n",
    "queue = []\n",
    "queue.append(start_waypoint)\n",
    "while(len(waypoints) != 1000 and len(queue) != 0):\n",
    "    current_waypoint = queue.pop(0)\n",
    "    next_waypoints = list(current_waypoint.next(1))\n",
    "    queue += next_waypoints\n",
    "    for next_waypoint in next_waypoints:\n",
    "        waypoints.append([current_waypoint, next_waypoint, _compute_connection(current_waypoint, next_waypoint)])\n",
    "        \n"
   ]
  },
  {
   "cell_type": "code",
   "execution_count": null,
   "metadata": {},
   "outputs": [],
   "source": [
    "draw_waypoints(world, [waypoint[0] for waypoint in waypoints], life_time=50)"
   ]
  },
  {
   "cell_type": "code",
   "execution_count": null,
   "metadata": {},
   "outputs": [],
   "source": [
    "# draw_waypoints(world, [waypoints[0][0], waypoints[34][0]], life_time=5)"
   ]
  },
  {
   "cell_type": "code",
   "execution_count": null,
   "metadata": {},
   "outputs": [],
   "source": [
    "start_location = waypoints[0][0].transform.location\n",
    "end_location = waypoints[34][0].transform.location"
   ]
  },
  {
   "cell_type": "code",
   "execution_count": null,
   "metadata": {},
   "outputs": [],
   "source": [
    "route = grp.trace_route(start_location, end_location)\n",
    "route = [(item[0], item[1], item[0].road_id) for item in route]"
   ]
  },
  {
   "cell_type": "code",
   "execution_count": null,
   "metadata": {},
   "outputs": [],
   "source": [
    "draw_waypoints(world, [item[0] for item in route], 15)"
   ]
  },
  {
   "cell_type": "code",
   "execution_count": null,
   "metadata": {},
   "outputs": [],
   "source": [
    "route"
   ]
  },
  {
   "cell_type": "code",
   "execution_count": null,
   "metadata": {},
   "outputs": [],
   "source": [
    "d = {}\n",
    "for waypoint_tuple in waypoints[:100]:\n",
    "    \n",
    "    tmp = waypoint_tuple[0]\n",
    "    if(tmp.road_id in d.keys()):\n",
    "        d[tmp.road_id].append(tmp)\n",
    "    else:\n",
    "        d[tmp.road_id] = [tmp]\n",
    "    "
   ]
  },
  {
   "cell_type": "code",
   "execution_count": null,
   "metadata": {},
   "outputs": [],
   "source": [
    "d"
   ]
  },
  {
   "cell_type": "code",
   "execution_count": null,
   "metadata": {
    "scrolled": true
   },
   "outputs": [],
   "source": [
    "gp = grp._graph\n",
    "gp.edges[257,394]"
   ]
  },
  {
   "cell_type": "code",
   "execution_count": null,
   "metadata": {},
   "outputs": [],
   "source": [
    "def draw_grp_graph_edge(edge):\n",
    "    \n",
    "    draw_waypoints(world, [edge['entry_waypoint'], edge['exit_waypoint']])"
   ]
  },
  {
   "cell_type": "code",
   "execution_count": null,
   "metadata": {},
   "outputs": [],
   "source": [
    "draw_grp_graph_edge(gp.edges[257,394])"
   ]
  },
  {
   "cell_type": "code",
   "execution_count": null,
   "metadata": {},
   "outputs": [],
   "source": [
    "        next_edge = self._graph.edges[current_node, next_node]\n"
   ]
  },
  {
   "cell_type": "code",
   "execution_count": null,
   "metadata": {},
   "outputs": [],
   "source": [
    "waypoints_on_junction = []\n",
    "for waypoint in waypoints:\n",
    "    if waypoint[0].get_junction() is not None:\n",
    "        waypoints_on_junction.append(waypoint[0])"
   ]
  },
  {
   "cell_type": "code",
   "execution_count": null,
   "metadata": {},
   "outputs": [],
   "source": [
    "draw_waypoints(world, waypoints_on_junction)"
   ]
  },
  {
   "cell_type": "code",
   "execution_count": null,
   "metadata": {},
   "outputs": [],
   "source": [
    "def view_node(graph, idx):\n",
    "    "
   ]
  },
  {
   "cell_type": "code",
   "execution_count": null,
   "metadata": {},
   "outputs": [],
   "source": [
    "ll."
   ]
  }
 ],
 "metadata": {
  "kernelspec": {
   "display_name": "Python 3",
   "language": "python",
   "name": "python3"
  },
  "language_info": {
   "codemirror_mode": {
    "name": "ipython",
    "version": 3
   },
   "file_extension": ".py",
   "mimetype": "text/x-python",
   "name": "python",
   "nbconvert_exporter": "python",
   "pygments_lexer": "ipython3",
   "version": "3.5.2"
  }
 },
 "nbformat": 4,
 "nbformat_minor": 4
}
