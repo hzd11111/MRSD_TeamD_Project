{
 "cells": [
  {
   "cell_type": "code",
   "execution_count": 1,
   "metadata": {},
   "outputs": [],
   "source": [
    "import sys\n",
    "import random\n",
    "from configparser import ConfigParser\n",
    "\n",
    "config = ConfigParser()\n",
    "config.read(\"config.ini\")\n",
    "CARLA_PATH = config.get(\"main\", \"CARLA_PATH\")\n",
    "# Enable import of 'carla'\n",
    "sys.path.append(CARLA_PATH + \"PythonAPI/carla/dist/carla-0.9.9-py3.6-linux-x86_64.egg\")\n",
    "# Enable import of 'agents' and it's submodules\n",
    "sys.path.insert(0, CARLA_PATH + \"PythonAPI/carla/\")\n",
    "# Enable import of utilities from GlobalPathPlanner\n",
    "sys.path.insert(0, \"../../../global_route_planner/\")\n",
    "\n",
    "import carla\n",
    "from agents.navigation.behavior_agent import BehaviorAgent\n",
    "from agents.navigation.local_planner import LocalPlanner, _compute_connection\n",
    "from global_planner import get_client, spawn_vehicle, draw_waypoints, get_global_planner\n",
    "import numpy as np \n",
    "from shapely.geometry import MultiLineString\n",
    "\n",
    "from cartesian_to_frenet import get_frenet_from_cartesian, get_path_linestring"
   ]
  },
  {
   "cell_type": "code",
   "execution_count": 2,
   "metadata": {},
   "outputs": [],
   "source": [
    "##### (-88.2855453491211, 67.1432876586914, 0.8242672681808472, 91.43128967285156)"
   ]
  },
  {
   "cell_type": "code",
   "execution_count": 3,
   "metadata": {},
   "outputs": [],
   "source": [
    "def get_turn_direction(vector_current, vector_next):\n",
    "    \n",
    "    vector_current = np.array([vector_current.x, vector_current.y])\n",
    "    vector_next = np.array([vector_next.x, vector_next.y])\n",
    "\n",
    "    cos_theta = np.dot(vector_current, vector_next) / (np.linalg.norm(vector_current)*np.linalg.norm(vector_next) + 1e-5)\n",
    "#     angle_rad = np.arccos(cos_theta)\n",
    "    \n",
    "    cross_product = np.cross(vector_current, vector_next)\n",
    "    \n",
    "    sin_theta = cross_product / (np.linalg.norm(vector_current)*np.linalg.norm(vector_next) + 1e-5)\n",
    "#     direction = np.sign(cross_product)\n",
    "    \n",
    "    angle_rad = np.arcsin(sin_theta)\n",
    "    \n",
    "    return np.rad2deg(angle_rad)\n",
    "\n",
    "\n",
    "def filter_close_waypoints_on_junction(pairs_of_waypoints_on_jn, thresh = 5):\n",
    "    \n",
    "    output_list = []\n",
    "    \n",
    "    for pair in pairs_of_waypoints_on_jn:\n",
    "        \n",
    "        location1 = pair[0].transform.location\n",
    "        location2 = pair[1].transform.location\n",
    "        \n",
    "        location1 = np.array([location1.x, location1.y])\n",
    "        location2 = np.array([location2.x, location2.y])\n",
    "        \n",
    "        if np.linalg.norm(location1-location2) > thresh:\n",
    "            output_list.append(pair)\n",
    "            \n",
    "    return output_list\n",
    "\n",
    "    \n",
    "    "
   ]
  },
  {
   "cell_type": "code",
   "execution_count": null,
   "metadata": {},
   "outputs": [],
   "source": []
  },
  {
   "cell_type": "markdown",
   "metadata": {},
   "source": [
    "### Initialize client, CARLA world, and a global route planner"
   ]
  },
  {
   "cell_type": "code",
   "execution_count": 4,
   "metadata": {},
   "outputs": [
    {
     "name": "stdout",
     "output_type": "stream",
     "text": [
      "Connection to CARLA server established!\n"
     ]
    }
   ],
   "source": [
    "# Get client to interact with CARLA server\n",
    "client = get_client()\n",
    "\n",
    "# Get current CARLA world\n",
    "world = client.get_world()\n",
    "\n",
    "# Get global planner\n",
    "grp = get_global_planner(world, 1)  ## Discretization of 1"
   ]
  },
  {
   "cell_type": "markdown",
   "metadata": {},
   "source": [
    "### Find Traffic Lights"
   ]
  },
  {
   "cell_type": "code",
   "execution_count": 5,
   "metadata": {},
   "outputs": [],
   "source": [
    "traffic_light_list = world.get_actors().filter('traffic.traffic_light*')"
   ]
  },
  {
   "cell_type": "markdown",
   "metadata": {},
   "source": [
    "### Spawn a vehicle"
   ]
  },
  {
   "cell_type": "code",
   "execution_count": 36,
   "metadata": {},
   "outputs": [],
   "source": [
    "actor.destroy()\n",
    "actor = spawn_vehicle(world, \"model3\")\n",
    "actor_waypoint = world.get_map().get_waypoint(actor.get_location(),project_to_road=True)\n",
    "draw_waypoints(world, [actor_waypoint], 10)"
   ]
  },
  {
   "cell_type": "markdown",
   "metadata": {},
   "source": [
    "### Attach a behavior agent to the vehicle"
   ]
  },
  {
   "cell_type": "code",
   "execution_count": 37,
   "metadata": {},
   "outputs": [],
   "source": [
    "agent = BehaviorAgent(actor)"
   ]
  },
  {
   "cell_type": "markdown",
   "metadata": {},
   "source": [
    "### Finding the point on ego lane at the next junction"
   ]
  },
  {
   "cell_type": "code",
   "execution_count": 38,
   "metadata": {},
   "outputs": [],
   "source": [
    "points_on_actor_lane = actor_waypoint.next_until_lane_end(1)\n",
    "last_point_on_lane = points_on_actor_lane[-1]\n",
    "\n",
    "connections_to_last_point_on_lane = last_point_on_lane.next(1)\n",
    "\n",
    "connecting_roads = []\n",
    "for point in connections_to_last_point_on_lane:\n",
    "    connecting_roads.append(point.next_until_lane_end(1))\n",
    "\n"
   ]
  },
  {
   "cell_type": "markdown",
   "metadata": {},
   "source": [
    "### Get the junction object"
   ]
  },
  {
   "cell_type": "code",
   "execution_count": 39,
   "metadata": {},
   "outputs": [
    {
     "name": "stdout",
     "output_type": "stream",
     "text": [
      "Length of the list of pairs: 14\n"
     ]
    }
   ],
   "source": [
    "junction = connections_to_last_point_on_lane[0].get_junction()\n",
    "pairs_of_waypoints_on_jn = junction.get_waypoints(carla.LaneType.Driving)\n",
    "pairs_of_waypoints_on_jn = [(pair[0].previous(1)[0],pair[1].next(1)[0]) for pair in pairs_of_waypoints_on_jn]\n",
    "filtered_pairs_of_waypoints_on_jn = filter_close_waypoints_on_junction(pairs_of_waypoints_on_jn)\n",
    "print(\"Length of the list of pairs:\", len(filtered_pairs_of_waypoints_on_jn))"
   ]
  },
  {
   "cell_type": "code",
   "execution_count": 52,
   "metadata": {
    "scrolled": true
   },
   "outputs": [
    {
     "name": "stdout",
     "output_type": "stream",
     "text": [
      "24 78\n",
      "Angle difference: 88.88563608814091\n",
      "78 24\n",
      "Angle difference: -88.88563441335036\n",
      "25 78\n",
      "Angle difference: -88.88563619197454\n",
      "78 4\n",
      "Angle difference: 0.056044333842212024\n",
      "4 24\n",
      "Angle difference: 88.83103779790476\n",
      "24 4\n",
      "Angle difference: -88.83101946949523\n",
      "25 4\n",
      "Angle difference: 88.83101957359301\n",
      "4 25\n",
      "Angle difference: -88.83103769940884\n",
      "78 4\n",
      "Angle difference: 0.056044333842212024\n",
      "4 78\n",
      "Angle difference: -0.056027475543410095\n",
      "4 78\n",
      "Angle difference: -0.05602747956948066\n",
      "24 25\n",
      "Angle difference: 0.0\n",
      "25 24\n",
      "Angle difference: 0.0\n",
      "78 25\n",
      "Angle difference: 88.88563430951625\n"
     ]
    }
   ],
   "source": [
    "for idx in range(len(filtered_pairs_of_waypoints_on_jn)):\n",
    "# idx = 2\n",
    "    draw_waypoints(world, filtered_pairs_of_waypoints_on_jn[idx], 10)\n",
    "    print(filtered_pairs_of_waypoints_on_jn[idx][0].road_id, filtered_pairs_of_waypoints_on_jn[idx][1].road_id)\n",
    "    print(\"Angle difference:\",get_turn_direction(filtered_pairs_of_waypoints_on_jn[idx][0].transform.rotation.get_forward_vector(), filtered_pairs_of_waypoints_on_jn[idx][1].transform.rotation.get_forward_vector()))\n"
   ]
  },
  {
   "cell_type": "code",
   "execution_count": 31,
   "metadata": {},
   "outputs": [],
   "source": [
    "draw_waypoints(world, filtered_pairs_of_waypoints_on_jn[3][0].previous_until_lane_start(1),10)"
   ]
  },
  {
   "cell_type": "markdown",
   "metadata": {},
   "source": [
    "### Get previous waypoints from all entry junction waypoints, and next from all exit junction waypoints"
   ]
  },
  {
   "cell_type": "code",
   "execution_count": 41,
   "metadata": {},
   "outputs": [],
   "source": [
    "waypoints = []\n",
    "\n",
    "lanes_in_junction = {}\n",
    "\n",
    "for pair in filtered_pairs_of_waypoints_on_jn:\n",
    "    waypoints.append(pair[0].previous(1)[0])\n",
    "    waypoints.append(pair[1].next(1)[0])\n",
    "    \n",
    "    ## Waypoint coming into the junction\n",
    "    road_id = pair[0].road_id\n",
    "    lane_id = pair[0].lane_id\n",
    "    \n",
    "    if (road_id, lane_id) in lanes_in_junction:\n",
    "        lanes_in_junction[(road_id, lane_id)].append((pair[0],0))\n",
    "    else:\n",
    "        lanes_in_junction[(road_id, lane_id)] = [(pair[0],0)]\n",
    "        \n",
    "    ## Waypoint coming out of the junction\n",
    "    \n",
    "    road_id = pair[1].road_id\n",
    "    lane_id = pair[1].lane_id\n",
    "    \n",
    "    if (road_id, lane_id) in lanes_in_junction:\n",
    "        lanes_in_junction[(road_id, lane_id)].append((pair[1],1))\n",
    "    else:\n",
    "        lanes_in_junction[(road_id, lane_id)] = [(pair[1],1)]\n",
    "        \n",
    "    \n",
    "# # waypoints = list(set(waypoints))\n",
    "\n",
    "## Removing intermediate points\n",
    "\n",
    "keys = list(lanes_in_junction.keys())\n",
    "for key in keys:\n",
    "    ins_and_outs = list(set([pair[1] for pair in lanes_in_junction[key]]))\n",
    "    if len(ins_and_outs) == 2:\n",
    "        lanes_in_junction.pop(key, \"None\")\n",
    "        \n",
    "    \n",
    "for key in lanes_in_junction.keys():\n",
    "    lanes_in_junction[key] = lanes_in_junction[key][0]\n"
   ]
  },
  {
   "cell_type": "code",
   "execution_count": 42,
   "metadata": {
    "scrolled": false
   },
   "outputs": [
    {
     "data": {
      "text/plain": [
       "{(4, -2): (<carla.libcarla.Waypoint at 0x7f0200554920>, 0),\n",
       " (4, -1): (<carla.libcarla.Waypoint at 0x7f02005552f0>, 0),\n",
       " (4, 2): (<carla.libcarla.Waypoint at 0x7f0200554c38>, 1),\n",
       " (4, 3): (<carla.libcarla.Waypoint at 0x7f0200554608>, 1),\n",
       " (24, -1): (<carla.libcarla.Waypoint at 0x7f02005b6348>, 0),\n",
       " (24, 1): (<carla.libcarla.Waypoint at 0x7f020054bce8>, 1),\n",
       " (25, -1): (<carla.libcarla.Waypoint at 0x7f0200555348>, 1),\n",
       " (25, 1): (<carla.libcarla.Waypoint at 0x7f020054bf50>, 0),\n",
       " (78, -2): (<carla.libcarla.Waypoint at 0x7f02005545b0>, 0),\n",
       " (78, -1): (<carla.libcarla.Waypoint at 0x7f020054bc90>, 0),\n",
       " (78, 2): (<carla.libcarla.Waypoint at 0x7f020054bfa8>, 1),\n",
       " (78, 3): (<carla.libcarla.Waypoint at 0x7f02005b63a0>, 1)}"
      ]
     },
     "execution_count": 42,
     "metadata": {},
     "output_type": "execute_result"
    }
   ],
   "source": [
    "lanes_in_junction"
   ]
  },
  {
   "cell_type": "code",
   "execution_count": 23,
   "metadata": {},
   "outputs": [],
   "source": [
    "draw_waypoints(world, [lanes_in_junction[key][0] for key in lanes_in_junction.keys()])"
   ]
  },
  {
   "cell_type": "code",
   "execution_count": 157,
   "metadata": {},
   "outputs": [],
   "source": [
    "# road_lane_id_pairs = []\n",
    "# for wp in waypoints:\n",
    "#     road_lane_id_pairs.append((wp.road_id, wp.lane_id))\n",
    "# road_lane_id_pairs = list(set(road_lane_id_pairs))"
   ]
  },
  {
   "cell_type": "code",
   "execution_count": null,
   "metadata": {},
   "outputs": [],
   "source": []
  },
  {
   "cell_type": "code",
   "execution_count": null,
   "metadata": {},
   "outputs": [],
   "source": []
  },
  {
   "cell_type": "code",
   "execution_count": 48,
   "metadata": {},
   "outputs": [],
   "source": [
    "for i in range(1,len(waypoints),2):\n",
    "    draw_waypoints(world,waypoints[i].next_until_lane_end(1)[:40],10)\n",
    "    \n",
    "for i in range(0,len(waypoints),2):\n",
    "    draw_waypoints(world,waypoints[i].previous_until_lane_start(1)[:40],10)"
   ]
  },
  {
   "cell_type": "code",
   "execution_count": null,
   "metadata": {},
   "outputs": [],
   "source": []
  },
  {
   "cell_type": "code",
   "execution_count": null,
   "metadata": {},
   "outputs": [],
   "source": []
  },
  {
   "cell_type": "markdown",
   "metadata": {},
   "source": [
    "### Identifying perpendicular and parallel roads"
   ]
  },
  {
   "cell_type": "code",
   "execution_count": 49,
   "metadata": {},
   "outputs": [],
   "source": [
    "## Get the end waypoint \n",
    "end_wp = last_point_on_lane\n",
    "ego_road_id = end_wp.road_id\n",
    "\n",
    "perpendicular_roads = []\n",
    "parallel_roads = []\n",
    "\n",
    "## Get angle with each waypoint on the junction\n",
    "angle_road_id_pairs = []\n",
    "for i,waypoint_on_junction in enumerate(waypoints):\n",
    "    angle = get_turn_direction(end_wp.transform.rotation.get_forward_vector(), waypoint_on_junction.transform.rotation.get_forward_vector())\n",
    "    road_id = waypoint_on_junction.road_id\n",
    "\n",
    "    if(i%2 == 0):\n",
    "        next_points_on_lane = waypoint_on_junction.previous_until_lane_start(1)[:20]\n",
    "        linestring = get_path_linestring(next_points_on_lane)\n",
    "    else:\n",
    "        next_points_on_lane = waypoint_on_junction.next_until_lane_end(1)[:20]\n",
    "        linestring = get_path_linestring(next_points_on_lane)\n",
    "        \n",
    "    if abs(angle) <= 30:\n",
    "        parallel_roads.append(linestring)\n",
    "    else:\n",
    "        perpendicular_roads.append(linestring)\n",
    "\n",
    "    \n",
    "    \n",
    "        \n",
    "    angle_road_id_pairs.append((angle,road_id))\n",
    "    \n",
    "\n",
    "\n",
    "# for pair in angle_road_id_pairs:\n",
    "#     if pair[0] > 0 and pair [0] > 30:\n",
    "#         perpendicular_roads.append(pair[1])\n",
    "#     elif abs(pair[0]) <= 30:\n",
    "#         parallel_roads.append(pair[1])\n",
    "#     else:\n",
    "#         perpendicular_roads.append(pair[1])\n",
    "\n",
    "# parallel_roads = list(set(parallel_roads))\n",
    "# perpendicular_roads = list(set(perpendicular_roads))"
   ]
  },
  {
   "cell_type": "code",
   "execution_count": 56,
   "metadata": {},
   "outputs": [
    {
     "data": {
      "image/svg+xml": [
       "<svg xmlns=\"http://www.w3.org/2000/svg\" xmlns:xlink=\"http://www.w3.org/1999/xlink\" width=\"100.0\" height=\"100.0\" viewBox=\"-91.254599609375 99.32199951171874 19.96950347900392 70.78330810546875\" preserveAspectRatio=\"xMinYMin meet\"><g transform=\"matrix(1,0,0,-1,0,269.42730712890625)\"><g><polyline fill=\"none\" stroke=\"#66cc99\" stroke-width=\"1.415666162109375\" points=\"-88.63299560546875,147.55178833007812 -88.62928771972656,148.55178833007812 -88.62557983398438,149.55177307128906 -88.62187957763672,150.55177307128906 -88.61817169189453,151.5517578125 -88.61446380615234,152.5517578125 -88.61076354980469,153.55174255371094 -88.6070556640625,154.55174255371094 -88.60334777832031,155.55172729492188 -88.59964752197266,156.55172729492188 -88.59559631347656,157.56871032714844 -88.57640838623047,158.6773681640625 -88.53424072265625,159.78536987304688 -88.46912384033203,160.89227294921875 -88.38107299804688,161.99758911132812 -88.2701187133789,163.100830078125 -88.1363296508789,164.2015380859375 -87.9797592163086,165.29922485351562 -87.80046081542969,166.39344787597656 -87.59851837158203,167.48370361328125\" opacity=\"0.8\" /><polyline fill=\"none\" stroke=\"#66cc99\" stroke-width=\"1.415666162109375\" points=\"-78.1339111328125,147.28594970703125 -78.13020324707031,148.2859344482422 -78.12650299072266,149.2859344482422 -78.12279510498047,150.2859344482422 -78.11908721923828,151.28591918945312 -78.11538696289062,152.28591918945312 -78.11167907714844,153.28590393066406 -78.10797119140625,154.28590393066406 -78.1042709350586,155.285888671875 -78.1005630493164,156.285888671875 -78.09685516357422,157.28587341308594 -78.08555603027344,158.18466186523438 -78.05585479736328,159.0753173828125 -78.00769805908203,159.96517944335938 -77.94110107421875,160.8538360595703 -77.85610961914062,161.74093627929688 -77.75274658203125,162.62606811523438 -77.63105773925781,163.50888061523438 -77.4910888671875,164.3889617919922 -77.33291625976562,165.26597595214844\" opacity=\"0.8\" /><polyline fill=\"none\" stroke=\"#66cc99\" stroke-width=\"1.415666162109375\" points=\"-85.13329315185547,147.4631805419922 -85.12959289550781,148.46316528320312 -85.12588500976562,149.46316528320312 -85.12217712402344,150.46315002441406 -85.11847686767578,151.46315002441406 -85.1147689819336,152.463134765625 -85.1110610961914,153.463134765625 -85.10736083984375,154.46311950683594 -85.10365295410156,155.46311950683594 -85.0999526977539,156.46311950683594 -85.0961685180664,157.4660186767578 -85.0798568725586,158.50216674804688 -85.04206848144531,159.5377197265625 -84.98283386230469,160.57228088378906 -84.90216827392578,161.60540771484375 -84.80010223388672,162.63661193847656 -84.67666625976562,163.66551208496094 -84.53195190429688,164.6916046142578 -84.36598205566406,165.71449279785156 -84.17886352539062,166.73370361328125\" opacity=\"0.8\" /><polyline fill=\"none\" stroke=\"#66cc99\" stroke-width=\"1.415666162109375\" points=\"-74.63421630859375,147.19732666015625 -74.63050842285156,148.19732666015625 -74.62680053710938,149.1973114013672 -74.62310028076172,150.1973114013672 -74.61939239501953,151.1973114013672 -74.61568450927734,152.19729614257812 -74.61198425292969,153.19729614257812 -74.6082763671875,154.19728088378906 -74.60456848144531,155.19728088378906 -74.60086822509766,156.197265625 -74.59716033935547,157.197265625 -74.58785247802734,158.04237365722656 -74.56184387207031,158.86056518554688 -74.5188980102539,159.67803955078125 -74.4590072631836,160.49444580078125 -74.38220977783203,161.30943298339844 -74.28853607177734,162.1226806640625 -74.17803192138672,162.93377685546875 -74.05072784423828,163.742431640625 -73.90670013427734,164.54824829101562\" opacity=\"0.8\" /><polyline fill=\"none\" stroke=\"#66cc99\" stroke-width=\"1.415666162109375\" points=\"-74.03509521484375,120.94353485107422 -74.03782653808594,119.94353485107422 -74.0405502319336,118.94354248046875 -74.04328155517578,117.94354248046875 -74.04600524902344,116.94355010986328 -74.04873657226562,115.94355010986328 -74.05146026611328,114.94355773925781 -74.05419158935547,113.94355773925781 -74.05691528320312,112.94356536865234 -74.05964660644531,111.94356536865234 -74.06237030029297,110.94356536865234 -74.06510162353516,109.94357299804688 -74.06782531738281,108.94357299804688 -74.07054901123047,107.9435806274414 -74.07328033447266,106.9435806274414 -74.07600402832031,105.94358825683594 -74.0787353515625,104.94358825683594 -74.08145904541016,103.94359588623047 -74.08419036865234,102.94359588623047 -74.0869140625,101.943603515625\" opacity=\"0.8\" /><polyline fill=\"none\" stroke=\"#66cc99\" stroke-width=\"1.415666162109375\" points=\"-88.03511810302734,120.95501708984375 -88.037841796875,119.95502471923828 -88.04057312011719,118.95502471923828 -88.04329681396484,117.95502471923828 -88.04602813720703,116.95503234863281 -88.04875183105469,115.95503234863281 -88.05148315429688,114.95503997802734 -88.05420684814453,113.95503997802734 -88.05693817138672,112.95504760742188 -88.05966186523438,111.95504760742188 -88.06239318847656,110.9550552368164 -88.06511688232422,109.9550552368164 -88.0678482055664,108.95506286621094 -88.07057189941406,107.95506286621094 -88.07329559326172,106.95507049560547 -88.0760269165039,105.95507049560547 -88.07875061035156,104.955078125 -88.08148193359375,103.955078125 -88.0842056274414,102.95508575439453 -88.0869369506836,101.95508575439453\" opacity=\"0.8\" /><polyline fill=\"none\" stroke=\"#66cc99\" stroke-width=\"1.415666162109375\" points=\"-77.53511047363281,120.94640350341797 -77.53783416748047,119.9464111328125 -77.54056549072266,118.9464111328125 -77.54328918457031,117.94641876220703 -77.5460205078125,116.94641876220703 -77.54874420166016,115.94642639160156 -77.55147552490234,114.94642639160156 -77.55419921875,113.9464340209961 -77.55692291259766,112.9464340209961 -77.55965423583984,111.9464340209961 -77.5623779296875,110.94644165039062 -77.56510925292969,109.94644165039062 -77.56783294677734,108.94644927978516 -77.57056427001953,107.94644927978516 -77.57328796386719,106.94645690917969 -77.57601928710938,105.94645690917969 -77.57874298095703,104.94646453857422 -77.58147430419922,103.94646453857422 -77.58419799804688,102.94647216796875 -77.58692932128906,101.94647216796875\" opacity=\"0.8\" /><polyline fill=\"none\" stroke=\"#66cc99\" stroke-width=\"1.415666162109375\" points=\"-74.03509521484375,120.94353485107422 -74.03782653808594,119.94353485107422 -74.0405502319336,118.94354248046875 -74.04328155517578,117.94354248046875 -74.04600524902344,116.94355010986328 -74.04873657226562,115.94355010986328 -74.05146026611328,114.94355773925781 -74.05419158935547,113.94355773925781 -74.05691528320312,112.94356536865234 -74.05964660644531,111.94356536865234 -74.06237030029297,110.94356536865234 -74.06510162353516,109.94357299804688 -74.06782531738281,108.94357299804688 -74.07054901123047,107.9435806274414 -74.07328033447266,106.9435806274414 -74.07600402832031,105.94358825683594 -74.0787353515625,104.94358825683594 -74.08145904541016,103.94359588623047 -74.08419036865234,102.94359588623047 -74.0869140625,101.943603515625\" opacity=\"0.8\" /><polyline fill=\"none\" stroke=\"#66cc99\" stroke-width=\"1.415666162109375\" points=\"-84.53511810302734,120.9521484375 -84.537841796875,119.9521484375 -84.54056549072266,118.95215606689453 -84.54329681396484,117.95215606689453 -84.5460205078125,116.95216369628906 -84.54875183105469,115.95216369628906 -84.55147552490234,114.9521713256836 -84.55420684814453,113.9521713256836 -84.55693054199219,112.95217895507812 -84.55966186523438,111.95217895507812 -84.56238555908203,110.95218658447266 -84.56511688232422,109.95218658447266 -84.56784057617188,108.95219421386719 -84.57057189941406,107.95219421386719 -84.57329559326172,106.95220184326172 -84.5760269165039,105.95220184326172 -84.57875061035156,104.95220947265625 -84.58147430419922,103.95220947265625 -84.5842056274414,102.95221710205078 -84.58692932128906,101.95221710205078\" opacity=\"0.8\" /><polyline fill=\"none\" stroke=\"#66cc99\" stroke-width=\"1.415666162109375\" points=\"-78.1339111328125,147.28594970703125 -78.13020324707031,148.2859344482422 -78.12650299072266,149.2859344482422 -78.12279510498047,150.2859344482422 -78.11908721923828,151.28591918945312 -78.11538696289062,152.28591918945312 -78.11167907714844,153.28590393066406 -78.10797119140625,154.28590393066406 -78.1042709350586,155.285888671875 -78.1005630493164,156.285888671875 -78.09685516357422,157.28587341308594 -78.08555603027344,158.18466186523438 -78.05585479736328,159.0753173828125 -78.00769805908203,159.96517944335938 -77.94110107421875,160.8538360595703 -77.85610961914062,161.74093627929688 -77.75274658203125,162.62606811523438 -77.63105773925781,163.50888061523438 -77.4910888671875,164.3889617919922 -77.33291625976562,165.26597595214844\" opacity=\"0.8\" /><polyline fill=\"none\" stroke=\"#66cc99\" stroke-width=\"1.415666162109375\" points=\"-77.53511047363281,120.94640350341797 -77.53783416748047,119.9464111328125 -77.54056549072266,118.9464111328125 -77.54328918457031,117.94641876220703 -77.5460205078125,116.94641876220703 -77.54874420166016,115.94642639160156 -77.55147552490234,114.94642639160156 -77.55419921875,113.9464340209961 -77.55692291259766,112.9464340209961 -77.55965423583984,111.9464340209961 -77.5623779296875,110.94644165039062 -77.56510925292969,109.94644165039062 -77.56783294677734,108.94644927978516 -77.57056427001953,107.94644927978516 -77.57328796386719,106.94645690917969 -77.57601928710938,105.94645690917969 -77.57874298095703,104.94646453857422 -77.58147430419922,103.94646453857422 -77.58419799804688,102.94647216796875 -77.58692932128906,101.94647216796875\" opacity=\"0.8\" /><polyline fill=\"none\" stroke=\"#66cc99\" stroke-width=\"1.415666162109375\" points=\"-84.53511810302734,120.9521484375 -84.537841796875,119.9521484375 -84.54056549072266,118.95215606689453 -84.54329681396484,117.95215606689453 -84.5460205078125,116.95216369628906 -84.54875183105469,115.95216369628906 -84.55147552490234,114.9521713256836 -84.55420684814453,113.9521713256836 -84.55693054199219,112.95217895507812 -84.55966186523438,111.95217895507812 -84.56238555908203,110.95218658447266 -84.56511688232422,109.95218658447266 -84.56784057617188,108.95219421386719 -84.57057189941406,107.95219421386719 -84.57329559326172,106.95220184326172 -84.5760269165039,105.95220184326172 -84.57875061035156,104.95220947265625 -84.58147430419922,103.95220947265625 -84.5842056274414,102.95221710205078 -84.58692932128906,101.95221710205078\" opacity=\"0.8\" /><polyline fill=\"none\" stroke=\"#66cc99\" stroke-width=\"1.415666162109375\" points=\"-85.13329315185547,147.4631805419922 -85.12959289550781,148.46316528320312 -85.12588500976562,149.46316528320312 -85.12217712402344,150.46315002441406 -85.11847686767578,151.46315002441406 -85.1147689819336,152.463134765625 -85.1110610961914,153.463134765625 -85.10736083984375,154.46311950683594 -85.10365295410156,155.46311950683594 -85.0999526977539,156.46311950683594 -85.0961685180664,157.4660186767578 -85.0798568725586,158.50216674804688 -85.04206848144531,159.5377197265625 -84.98283386230469,160.57228088378906 -84.90216827392578,161.60540771484375 -84.80010223388672,162.63661193847656 -84.67666625976562,163.66551208496094 -84.53195190429688,164.6916046142578 -84.36598205566406,165.71449279785156 -84.17886352539062,166.73370361328125\" opacity=\"0.8\" /><polyline fill=\"none\" stroke=\"#66cc99\" stroke-width=\"1.415666162109375\" points=\"-88.03511810302734,120.95501708984375 -88.037841796875,119.95502471923828 -88.04057312011719,118.95502471923828 -88.04329681396484,117.95502471923828 -88.04602813720703,116.95503234863281 -88.04875183105469,115.95503234863281 -88.05148315429688,114.95503997802734 -88.05420684814453,113.95503997802734 -88.05693817138672,112.95504760742188 -88.05966186523438,111.95504760742188 -88.06239318847656,110.9550552368164 -88.06511688232422,109.9550552368164 -88.0678482055664,108.95506286621094 -88.07057189941406,107.95506286621094 -88.07329559326172,106.95507049560547 -88.0760269165039,105.95507049560547 -88.07875061035156,104.955078125 -88.08148193359375,103.955078125 -88.0842056274414,102.95508575439453 -88.0869369506836,101.95508575439453\" opacity=\"0.8\" /><polyline fill=\"none\" stroke=\"#66cc99\" stroke-width=\"1.415666162109375\" points=\"-88.63299560546875,147.55178833007812 -88.62928771972656,148.55178833007812 -88.62557983398438,149.55177307128906 -88.62187957763672,150.55177307128906 -88.61817169189453,151.5517578125 -88.61446380615234,152.5517578125 -88.61076354980469,153.55174255371094 -88.6070556640625,154.55174255371094 -88.60334777832031,155.55172729492188 -88.59964752197266,156.55172729492188 -88.59559631347656,157.56871032714844 -88.57640838623047,158.6773681640625 -88.53424072265625,159.78536987304688 -88.46912384033203,160.89227294921875 -88.38107299804688,161.99758911132812 -88.2701187133789,163.100830078125 -88.1363296508789,164.2015380859375 -87.9797592163086,165.29922485351562 -87.80046081542969,166.39344787597656 -87.59851837158203,167.48370361328125\" opacity=\"0.8\" /><polyline fill=\"none\" stroke=\"#66cc99\" stroke-width=\"1.415666162109375\" points=\"-74.63421630859375,147.19732666015625 -74.63050842285156,148.19732666015625 -74.62680053710938,149.1973114013672 -74.62310028076172,150.1973114013672 -74.61939239501953,151.1973114013672 -74.61568450927734,152.19729614257812 -74.61198425292969,153.19729614257812 -74.6082763671875,154.19728088378906 -74.60456848144531,155.19728088378906 -74.60086822509766,156.197265625 -74.59716033935547,157.197265625 -74.58785247802734,158.04237365722656 -74.56184387207031,158.86056518554688 -74.5188980102539,159.67803955078125 -74.4590072631836,160.49444580078125 -74.38220977783203,161.30943298339844 -74.28853607177734,162.1226806640625 -74.17803192138672,162.93377685546875 -74.05072784423828,163.742431640625 -73.90670013427734,164.54824829101562\" opacity=\"0.8\" /></g></g></svg>"
      ],
      "text/plain": [
       "<shapely.geometry.multilinestring.MultiLineString at 0x7f01aefc4dd8>"
      ]
     },
     "execution_count": 56,
     "metadata": {},
     "output_type": "execute_result"
    }
   ],
   "source": [
    "aa = MultiLineString(perpendicular_roads)\n"
   ]
  },
  {
   "cell_type": "code",
   "execution_count": 72,
   "metadata": {
    "scrolled": false
   },
   "outputs": [],
   "source": [
    "bb = MultiLineString(parallel_roads)"
   ]
  },
  {
   "cell_type": "code",
   "execution_count": 71,
   "metadata": {},
   "outputs": [
    {
     "data": {
      "image/png": "[encoded data removed]",
      "text/plain": [
       "<Figure size 720x444.984 with 1 Axes>"
      ]
     },
     "metadata": {
      "needs_background": "light"
     },
     "output_type": "display_data"
    }
   ],
   "source": [
    "\n",
    "from math import sqrt\n",
    "\n",
    "GM = (sqrt(5)-1.0)/2.0\n",
    "W = 8.0\n",
    "H = W*GM\n",
    "SIZE = (W, H)\n",
    "\n",
    "BLUE = '#6699cc'\n",
    "GRAY = '#999999'\n",
    "DARKGRAY = '#333333'\n",
    "YELLOW = '#ffcc33'\n",
    "GREEN = '#339933'\n",
    "RED = '#ff3333'\n",
    "BLACK = '#000000'\n",
    "\n",
    "COLOR_ISVALID = {\n",
    "    True: BLUE,\n",
    "    False: RED,\n",
    "}\n",
    "\n",
    "def plot_line(ax, ob, color=GRAY, zorder=1, linewidth=3, alpha=1):\n",
    "    x, y = ob.xy\n",
    "    ax.plot(x, y, color=color, linewidth=linewidth, solid_capstyle='round', zorder=zorder, alpha=alpha)\n",
    "    \n",
    "def plot_lines(ax, ob):\n",
    "    color = color_issimple(ob)\n",
    "    for line in ob:\n",
    "        plot_line(ax, line, color=color, alpha=0.7, zorder=2)\n",
    "        \n",
    "def color_issimple(ob, simple=BLUE, complex=YELLOW):\n",
    "    if ob.is_simple:\n",
    "        return simple\n",
    "    else:\n",
    "        return complex\n",
    "\n",
    "fig = plt.figure(1, figsize=SIZE, dpi=90)\n",
    "\n",
    "# 1: disconnected multilinestring\n",
    "ax = fig.add_subplot(121)\n",
    "\n",
    "plot_lines(ax, aa)\n"
   ]
  },
  {
   "cell_type": "code",
   "execution_count": 73,
   "metadata": {},
   "outputs": [
    {
     "data": {
      "image/png": "[encoded data removed]",
      "text/plain": [
       "<Figure size 720x444.984 with 1 Axes>"
      ]
     },
     "metadata": {
      "needs_background": "light"
     },
     "output_type": "display_data"
    }
   ],
   "source": [
    "fig = plt.figure(1, figsize=SIZE, dpi=90)\n",
    "\n",
    "# 1: disconnected multilinestring\n",
    "ax = fig.add_subplot(121)\n",
    "\n",
    "plot_lines(ax, bb)"
   ]
  },
  {
   "cell_type": "code",
   "execution_count": 53,
   "metadata": {},
   "outputs": [
    {
     "data": {
      "text/plain": [
       "[<shapely.geometry.linestring.LineString at 0x7f0200559da0>,\n",
       " <shapely.geometry.linestring.LineString at 0x7f0200559e48>,\n",
       " <shapely.geometry.linestring.LineString at 0x7f0200559e80>,\n",
       " <shapely.geometry.linestring.LineString at 0x7f020055b630>,\n",
       " <shapely.geometry.linestring.LineString at 0x7f020055bbe0>,\n",
       " <shapely.geometry.linestring.LineString at 0x7f020055ba90>,\n",
       " <shapely.geometry.linestring.LineString at 0x7f020054a0b8>,\n",
       " <shapely.geometry.linestring.LineString at 0x7f020054a240>,\n",
       " <shapely.geometry.linestring.LineString at 0x7f020054a278>,\n",
       " <shapely.geometry.linestring.LineString at 0x7f020054a2b0>,\n",
       " <shapely.geometry.linestring.LineString at 0x7f020054a2e8>,\n",
       " <shapely.geometry.linestring.LineString at 0x7f020054a358>]"
      ]
     },
     "execution_count": 53,
     "metadata": {},
     "output_type": "execute_result"
    }
   ],
   "source": [
    "parallel_roads"
   ]
  },
  {
   "cell_type": "markdown",
   "metadata": {},
   "source": [
    "### Fitting lines "
   ]
  },
  {
   "cell_type": "code",
   "execution_count": null,
   "metadata": {},
   "outputs": [],
   "source": [
    "\n",
    "for i in range(0,len(waypoints),2):\n",
    "\n",
    "    current_road_waypoints = "
   ]
  }
 ],
 "metadata": {
  "kernelspec": {
   "display_name": "Python 3",
   "language": "python",
   "name": "python3"
  },
  "language_info": {
   "codemirror_mode": {
    "name": "ipython",
    "version": 3
   },
   "file_extension": ".py",
   "mimetype": "text/x-python",
   "name": "python",
   "nbconvert_exporter": "python",
   "pygments_lexer": "ipython3",
   "version": "3.5.2"
  },
  "varInspector": {
   "cols": {
    "lenName": 16,
    "lenType": 16,
    "lenVar": 40
   },
   "kernels_config": {
    "python": {
     "delete_cmd_postfix": "",
     "delete_cmd_prefix": "del ",
     "library": "var_list.py",
     "varRefreshCmd": "print(var_dic_list())"
    },
    "r": {
     "delete_cmd_postfix": ") ",
     "delete_cmd_prefix": "rm(",
     "library": "var_list.r",
     "varRefreshCmd": "cat(var_dic_list()) "
    }
   },
   "types_to_exclude": [
    "module",
    "function",
    "builtin_function_or_method",
    "instance",
    "_Feature"
   ],
   "window_display": false
  }
 },
 "nbformat": 4,
 "nbformat_minor": 4
}
