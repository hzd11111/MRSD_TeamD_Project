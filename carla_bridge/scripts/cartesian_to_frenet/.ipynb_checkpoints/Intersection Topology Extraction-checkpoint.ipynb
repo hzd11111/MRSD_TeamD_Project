{
 "cells": [
  {
   "cell_type": "code",
   "execution_count": 582,
   "metadata": {},
   "outputs": [],
   "source": [
    "import sys\n",
    "import random\n",
    "from configparser import ConfigParser\n",
    "import xml.etree.ElementTree as ET\n",
    "\n",
    "config = ConfigParser()\n",
    "config.read(\"config.ini\")\n",
    "CARLA_PATH = config.get(\"main\", \"CARLA_PATH\")\n",
    "# Enable import of 'carla'\n",
    "sys.path.append(CARLA_PATH + \"PythonAPI/carla/dist/carla-0.9.9-py3.6-linux-x86_64.egg\")\n",
    "# Enable import of 'agents' and it's submodules\n",
    "sys.path.insert(0, CARLA_PATH + \"PythonAPI/carla/\")\n",
    "# Enable import of utilities from GlobalPathPlanner\n",
    "sys.path.insert(0, \"../../../global_route_planner/\")\n",
    "\n",
    "import carla\n",
    "from agents.navigation.behavior_agent import BehaviorAgent\n",
    "from agents.navigation.local_planner import LocalPlanner, _compute_connection\n",
    "from global_planner import get_client, spawn_vehicle, draw_waypoints, get_global_planner\n",
    "import numpy as np \n",
    "from shapely.geometry import MultiLineString\n",
    "\n",
    "from cartesian_to_frenet import get_frenet_from_cartesian, get_path_linestring\n",
    "\n",
    "import pprint\n",
    "\n",
    "import time\n",
    "\n",
    "import copy\n"
   ]
  },
  {
   "cell_type": "code",
   "execution_count": 2,
   "metadata": {},
   "outputs": [],
   "source": [
    "##### (-88.2855453491211, 67.1432876586914, 0.8242672681808472, 91.43128967285156)"
   ]
  },
  {
   "cell_type": "code",
   "execution_count": 3,
   "metadata": {},
   "outputs": [],
   "source": [
    "def get_turn_direction(vector_current, vector_next):\n",
    "    \n",
    "    vector_current = np.array([vector_current.x, vector_current.y])\n",
    "    vector_next = np.array([vector_next.x, vector_next.y])\n",
    "\n",
    "    cos_theta = np.dot(vector_current, vector_next) / (np.linalg.norm(vector_current)*np.linalg.norm(vector_next) + 1e-5)\n",
    "#     angle_rad = np.arccos(cos_theta)\n",
    "    \n",
    "    cross_product = np.cross(vector_current, vector_next)\n",
    "    \n",
    "    sin_theta = cross_product / (np.linalg.norm(vector_current)*np.linalg.norm(vector_next) + 1e-5)\n",
    "#     direction = np.sign(cross_product)\n",
    "    \n",
    "    angle_rad = np.arcsin(sin_theta)\n",
    "    \n",
    "    return np.rad2deg(angle_rad)\n",
    "\n",
    "\n",
    "def filter_close_waypoints_on_junction(pairs_of_waypoints_on_jn, thresh = 5):\n",
    "    \n",
    "    output_list = []\n",
    "    \n",
    "    for pair in pairs_of_waypoints_on_jn:\n",
    "        \n",
    "        location1 = pair[0].transform.location\n",
    "        location2 = pair[1].transform.location\n",
    "        \n",
    "        location1 = np.array([location1.x, location1.y])\n",
    "        location2 = np.array([location2.x, location2.y])\n",
    "        \n",
    "        if np.linalg.norm(location1-location2) > thresh:\n",
    "            output_list.append(pair)\n",
    "            \n",
    "    return output_list\n",
    "\n",
    "    \n",
    "    "
   ]
  },
  {
   "cell_type": "code",
   "execution_count": null,
   "metadata": {},
   "outputs": [],
   "source": []
  },
  {
   "cell_type": "markdown",
   "metadata": {},
   "source": [
    "### Initialize client, CARLA world, and a global route planner"
   ]
  },
  {
   "cell_type": "code",
   "execution_count": 4,
   "metadata": {},
   "outputs": [
    {
     "name": "stdout",
     "output_type": "stream",
     "text": [
      "Connection to CARLA server established!\n"
     ]
    }
   ],
   "source": [
    "# Get client to interact with CARLA server\n",
    "client = get_client()\n",
    "\n",
    "# Get current CARLA world\n",
    "world = client.get_world()\n",
    "\n",
    "# Get global planner\n",
    "grp = get_global_planner(world, 1)  ## Discretization of 1"
   ]
  },
  {
   "cell_type": "markdown",
   "metadata": {},
   "source": [
    "### Find Traffic Lights"
   ]
  },
  {
   "cell_type": "code",
   "execution_count": 5,
   "metadata": {},
   "outputs": [],
   "source": [
    "traffic_light_list = world.get_actors().filter('traffic.traffic_light*')"
   ]
  },
  {
   "cell_type": "markdown",
   "metadata": {},
   "source": [
    "### Spawn a vehicle"
   ]
  },
  {
   "cell_type": "code",
   "execution_count": null,
   "metadata": {},
   "outputs": [],
   "source": [
    "actor.destroy()\n",
    "actor = spawn_vehicle(world, \"model3\")\n",
    "actor_waypoint = world.get_map().get_waypoint(actor.get_location(),project_to_road=True)\n",
    "draw_waypoints(world, [actor_waypoint], 10)"
   ]
  },
  {
   "cell_type": "markdown",
   "metadata": {},
   "source": [
    "### Attach a behavior agent to the vehicle"
   ]
  },
  {
   "cell_type": "code",
   "execution_count": null,
   "metadata": {},
   "outputs": [],
   "source": [
    "agent = BehaviorAgent(actor)"
   ]
  },
  {
   "cell_type": "markdown",
   "metadata": {},
   "source": [
    "### Finding the point on ego lane at the next junction"
   ]
  },
  {
   "cell_type": "code",
   "execution_count": null,
   "metadata": {},
   "outputs": [],
   "source": [
    "points_on_actor_lane = actor_waypoint.next_until_lane_end(1)\n",
    "last_point_on_lane = points_on_actor_lane[-1]\n",
    "\n",
    "connections_to_last_point_on_lane = last_point_on_lane.next(1)\n",
    "\n",
    "connecting_roads = []\n",
    "for point in connections_to_last_point_on_lane:\n",
    "    connecting_roads.append(point.next_until_lane_end(1))\n",
    "\n"
   ]
  },
  {
   "cell_type": "markdown",
   "metadata": {},
   "source": [
    "### Get the junction object"
   ]
  },
  {
   "cell_type": "code",
   "execution_count": null,
   "metadata": {},
   "outputs": [],
   "source": [
    "junction = connections_to_last_point_on_lane[0].get_junction()\n",
    "pairs_of_waypoints_on_jn = junction.get_waypoints(carla.LaneType.Driving)\n",
    "pairs_of_waypoints_on_jn = [(pair[0].previous(1)[0],pair[1].next(1)[0]) for pair in pairs_of_waypoints_on_jn]\n",
    "filtered_pairs_of_waypoints_on_jn = filter_close_waypoints_on_junction(pairs_of_waypoints_on_jn)\n",
    "print(\"Length of the list of pairs:\", len(filtered_pairs_of_waypoints_on_jn))"
   ]
  },
  {
   "cell_type": "code",
   "execution_count": 630,
   "metadata": {},
   "outputs": [],
   "source": [
    "all_waypoints = world.get_map().generate_waypoints(1)\n",
    "def draw(road_id, lane_id=None):\n",
    "    for wp in all_waypoints:\n",
    "        \n",
    "        if lane_id == None and wp.road_id == road_id:\n",
    "            draw_waypoints(world, [wp], 2, [0,255,0]) \n",
    "            print(wp.lane_id)\n",
    "        elif wp.road_id == road_id and wp.lane_id==lane_id:\n",
    "            draw_waypoints(world, [wp], 2, [0,255,0]) \n",
    "            "
   ]
  },
  {
   "cell_type": "code",
   "execution_count": 452,
   "metadata": {},
   "outputs": [],
   "source": [
    "# junction_data = {}\n",
    "# # all_connections_list = []\n",
    "\n",
    "# all_junctions = tree.findall(\"junction\")\n",
    "\n",
    "# for junction in all_junctions:\n",
    "    \n",
    "#     ID = int(junction.get(\"id\"))\n",
    "#     connections = []\n",
    "\n",
    "#     all_connections = junction.findall(\"connection\")\n",
    "    \n",
    "#     for connection in all_connections:\n",
    "#         incomingRoad = int(connection.get(\"incomingRoad\"))\n",
    "#         connectingRoad = int(connection.get(\"connectingRoad\"))\n",
    "#         laneLinks = connection.findall(\"laneLink\")\n",
    "        \n",
    "#         for laneLink in laneLinks:\n",
    "#             from_lane_id = int(laneLink.get(\"from\"))\n",
    "#             to_lane_id = int(laneLink.get(\"to\"))\n",
    "\n",
    "#             connections.append([(incomingRoad, from_lane_id), (connectingRoad, to_lane_id)])\n",
    "        \n",
    "#     junction_data[ID] = connections\n",
    "        \n",
    "        \n",
    "\n",
    "# ## Road data for roads on intersections. This only works for roads on intersections.\n",
    "# road_data = {}\n",
    "\n",
    "# all_roads = tree.findall(\"road\")\n",
    "# for road in all_roads:\n",
    "    \n",
    "#     if(road.get(\"junction\") == \"-1\"):\n",
    "#         continue\n",
    "    \n",
    "#     ID = int(road.get(\"id\"))\n",
    "#     link = road.find(\"link\")\n",
    "#     predecessor_road = link.find(\"predecessor\")\n",
    "#     successor_road = link.find(\"successor\")\n",
    "        \n",
    "#     p_ID = int(predecessor_road.get(\"elementId\"))\n",
    "#     s_ID = int(successor_road.get(\"elementId\"))\n",
    "      \n",
    "#     lane_connections = {}\n",
    "#     lanes = road.findall(\".//lane\")\n",
    "    \n",
    "#     for lane in lanes:\n",
    "#         if(lane.get(\"type\") != \"driving\"):\n",
    "#             continue\n",
    "#         lane_link = lane.find(\"link\")\n",
    "#         if(lane_link is not None):\n",
    "#             lane_connections.append((int(lane_link.find(\"predecessor\").get(\"id\")), int(lane_link.find(\"successor\").get(\"id\"))))\n",
    "#         else:\n",
    "#             lane_connections.append((int(lane_link.get(\"id\")), int(lane_link.get(\"id\"))))\n",
    "#     road_data[ID] = (p_ID, s_ID, lane_connections)\n",
    "    \n",
    "    \n",
    "    "
   ]
  },
  {
   "cell_type": "markdown",
   "metadata": {},
   "source": [
    "### Parsing the XODR file"
   ]
  },
  {
   "cell_type": "code",
   "execution_count": 6,
   "metadata": {},
   "outputs": [],
   "source": [
    "xodr = world.get_map().to_opendrive()\n",
    "tree = ET.ElementTree(ET.fromstring(xodr))"
   ]
  },
  {
   "cell_type": "code",
   "execution_count": 623,
   "metadata": {},
   "outputs": [],
   "source": [
    "junction_data = {}\n",
    "# all_connections_list = []\n",
    "\n",
    "all_junctions = tree.findall(\"junction\")\n",
    "\n",
    "for junction in all_junctions:\n",
    "    \n",
    "    ID = int(junction.get(\"id\"))\n",
    "    connections = []\n",
    "\n",
    "    all_connections = junction.findall(\"connection\")\n",
    "    \n",
    "    for connection in all_connections:\n",
    "        incomingRoad = int(connection.get(\"incomingRoad\"))\n",
    "        connectingRoad = int(connection.get(\"connectingRoad\"))\n",
    "        laneLinks = connection.findall(\"laneLink\")\n",
    "        \n",
    "        for laneLink in laneLinks:\n",
    "            from_lane_id = int(laneLink.get(\"from\"))\n",
    "            to_lane_id = int(laneLink.get(\"to\"))\n",
    "\n",
    "            connections.append([(incomingRoad, from_lane_id), (connectingRoad, to_lane_id)])\n",
    "        \n",
    "    junction_data[ID] = connections\n",
    "        \n",
    "        \n",
    "\n",
    "## Road data for roads on intersections. This only works for roads on intersections.\n",
    "road_data = {}\n",
    "\n",
    "all_roads = tree.findall(\"road\")\n",
    "for road in all_roads:\n",
    "    \n",
    "    if(road.get(\"junction\") == \"-1\"):\n",
    "        continue\n",
    "    \n",
    "    ID = int(road.get(\"id\"))\n",
    "    link = road.find(\"link\")\n",
    "    predecessor_road = link.find(\"predecessor\")\n",
    "    successor_road = link.find(\"successor\")\n",
    "        \n",
    "    p_ID = int(predecessor_road.get(\"elementId\"))\n",
    "    s_ID = int(successor_road.get(\"elementId\"))\n",
    "      \n",
    "    lane_connections = {}\n",
    "    lanes = road.findall(\".//lane\")\n",
    "    \n",
    "    tmp = []\n",
    "    direct_connections = []\n",
    "\n",
    "    for lane in lanes:\n",
    "        if(lane.get(\"type\") != \"driving\"):\n",
    "            continue\n",
    "            \n",
    "        lane_ID = int(lane.get(\"id\"))\n",
    "        lane_link = lane.find(\"link\")\n",
    "\n",
    "        if(lane_link is not None):\n",
    "            pred_lane_ID = int(lane_link.find(\"predecessor\").get(\"id\"))\n",
    "            succ_lane_ID = int(lane_link.find(\"successor\").get(\"id\"))\n",
    "            tmp.append([pred_lane_ID, lane_ID, succ_lane_ID])\n",
    "\n",
    "        else:\n",
    "            direct_connections.append([lane_ID,lane_ID,lane_ID])\n",
    "            \n",
    "    \n",
    "\n",
    "    for item in copy.deepcopy(tmp):\n",
    "        flag = 0\n",
    "        for connection in connections:\n",
    "\n",
    "            if(connection[-1] == item[1] and connection[-2] == item[0]):\n",
    "                flag = 1\n",
    "                connection.append(item[2])\n",
    "        if(flag == 0):\n",
    "            connections.append(item)\n",
    "            \n",
    "    road_data[ID] = (p_ID, s_ID, connections)\n",
    "\n",
    "#             lane_connections[lane_ID].append((pred_lane_ID, succ_lane_ID))\n",
    "#             lane_connections[int(lane_link.get(\"id\"))].append((pred_lane_ID, succ_lane_ID))\n",
    "#         else:\n",
    "#             tmp.append([pred_ID, lane_ID, succ_ID])\n",
    "        \n",
    "    \n",
    "#     for lane in lanes:\n",
    "        \n",
    "#         if(lane.get(\"type\") != \"driving\"):\n",
    "#             continue\n",
    "            \n",
    "#         lane_ID = int(lane.get(\"id\"))\n",
    "#         if(lane_ID not in lane_connections):\n",
    "#             lane_connections[lane_ID] = []\n",
    "        \n",
    "#         lane_link = lane.find(\"link\")\n",
    "#         if(lane_link is not None):\n",
    "#             pred_lane_ID = int(lane_link.find(\"predecessor\").get(\"id\"))\n",
    "#             succ_lane_ID = int(lane_link.find(\"successor\").get(\"id\"))\n",
    "#             lane_connections[lane_ID].append((pred_lane_ID, succ_lane_ID))\n",
    "# #             lane_connections[int(lane_link.get(\"id\"))].append((pred_lane_ID, succ_lane_ID))\n",
    "#         else:\n",
    "#             lane_connections[lane_ID].append((lane_ID, lane_ID))\n",
    "#     road_data[ID] = (p_ID, s_ID, lane_connections)\n",
    "    \n",
    "    \n",
    "    "
   ]
  },
  {
   "cell_type": "code",
   "execution_count": 624,
   "metadata": {},
   "outputs": [
    {
     "data": {
      "text/plain": [
       "dict_keys([257, 515, 490, 775, 584, 524, 268, 334, 813, 594, 663, 793, 731, 604, 222, 545, 740, 422, 678, 106, 363, 172, 685, 751, 563, 94, 695, 760, 825, 786, 831, 298, 702, 575])"
      ]
     },
     "execution_count": 624,
     "metadata": {},
     "output_type": "execute_result"
    }
   ],
   "source": [
    "junction_data.keys()"
   ]
  },
  {
   "cell_type": "code",
   "execution_count": 625,
   "metadata": {},
   "outputs": [],
   "source": [
    "\n",
    "road_1_id, road_2_id, lane_connections = road_data[intersection_road_id]\n"
   ]
  },
  {
   "cell_type": "code",
   "execution_count": 626,
   "metadata": {},
   "outputs": [
    {
     "data": {
      "text/plain": [
       "125"
      ]
     },
     "execution_count": 626,
     "metadata": {},
     "output_type": "execute_result"
    }
   ],
   "source": [
    "len(lane_connections)"
   ]
  },
  {
   "cell_type": "code",
   "execution_count": 595,
   "metadata": {},
   "outputs": [
    {
     "data": {
      "text/plain": [
       "(25, 90, [[-1, -1, -1]])"
      ]
     },
     "execution_count": 595,
     "metadata": {},
     "output_type": "execute_result"
    }
   ],
   "source": [
    "road_data[107]"
   ]
  },
  {
   "cell_type": "code",
   "execution_count": 596,
   "metadata": {},
   "outputs": [],
   "source": [
    "draw(25,-1)\n",
    "draw(90,-1)\n",
    "draw(107,-1)"
   ]
  },
  {
   "cell_type": "code",
   "execution_count": 517,
   "metadata": {},
   "outputs": [],
   "source": []
  },
  {
   "cell_type": "code",
   "execution_count": null,
   "metadata": {},
   "outputs": [],
   "source": []
  },
  {
   "cell_type": "code",
   "execution_count": 629,
   "metadata": {},
   "outputs": [
    {
     "ename": "KeyboardInterrupt",
     "evalue": "",
     "output_type": "error",
     "traceback": [
      "\u001b[0;31m---------------------------------------------------------------------------\u001b[0m",
      "\u001b[0;31mKeyboardInterrupt\u001b[0m                         Traceback (most recent call last)",
      "\u001b[0;32m<ipython-input-629-8389c0869ceb>\u001b[0m in \u001b[0;36m<module>\u001b[0;34m\u001b[0m\n\u001b[1;32m     22\u001b[0m \u001b[0;31m#         print(intersection_connection_lane, intersection_lane_id, road_1_id, road_2_id, intersection_road_id)\u001b[0m\u001b[0;34m\u001b[0m\u001b[0;34m\u001b[0m\u001b[0m\n\u001b[1;32m     23\u001b[0m \u001b[0;34m\u001b[0m\u001b[0m\n\u001b[0;32m---> 24\u001b[0;31m         \u001b[0mtime\u001b[0m\u001b[0;34m.\u001b[0m\u001b[0msleep\u001b[0m\u001b[0;34m(\u001b[0m\u001b[0;36m3\u001b[0m\u001b[0;34m)\u001b[0m\u001b[0;34m\u001b[0m\u001b[0m\n\u001b[0m\u001b[1;32m     25\u001b[0m \u001b[0;34m\u001b[0m\u001b[0m\n",
      "\u001b[0;31mKeyboardInterrupt\u001b[0m: "
     ]
    }
   ],
   "source": [
    "junction_id = 106\n",
    "for idx in range(len(junction_data[junction_id])):\n",
    "    intersection_road_id, intersection_lane_id = junction_data[junction_id][idx][1]\n",
    "\n",
    "    road_1_id, road_2_id, lane_connections = road_data[intersection_road_id]\n",
    "\n",
    "    for intersection_connection_lanes in lane_connections:\n",
    "                \n",
    "        lane_1_id = intersection_connection_lanes[0]\n",
    "        lane_2_id = intersection_connection_lanes[-1]\n",
    "\n",
    "        draw(road_1_id,lane_1_id)\n",
    "        draw(road_2_id,lane_2_id)\n",
    "        \n",
    "        used_lane_IDs = []\n",
    "        for i in range(1,len(intersection_connection_lanes)-1):\n",
    "            if intersection_connection_lanes[i] in used_lane_IDs:\n",
    "                continue\n",
    "            used_lane_IDs.append(intersection_connection_lanes[i])\n",
    "            draw(intersection_road_id, intersection_connection_lanes[i])\n",
    "        \n",
    "#         print(intersection_connection_lane, intersection_lane_id, road_1_id, road_2_id, intersection_road_id)\n",
    "\n",
    "        time.sleep(3)\n",
    "\n"
   ]
  },
  {
   "cell_type": "code",
   "execution_count": null,
   "metadata": {},
   "outputs": [],
   "source": []
  },
  {
   "cell_type": "code",
   "execution_count": 485,
   "metadata": {},
   "outputs": [
    {
     "data": {
      "text/plain": [
       "dict_keys([257, 515, 490, 775, 584, 524, 268, 334, 813, 594, 663, 793, 731, 604, 222, 545, 740, 422, 678, 106, 363, 172, 685, 751, 563, 94, 695, 760, 825, 786, 831, 298, 702, 575])"
      ]
     },
     "execution_count": 485,
     "metadata": {},
     "output_type": "execute_result"
    }
   ],
   "source": [
    "junction_data.keys()"
   ]
  },
  {
   "cell_type": "code",
   "execution_count": 273,
   "metadata": {},
   "outputs": [],
   "source": [
    "# all_waypoints = world.get_map().generate_waypoints(1)\n",
    "\n",
    "# junction_id = 422\n",
    "# for idx in range(len(junction_data[junction_id])):\n",
    "#     for wp in all_waypoints:\n",
    "#         if wp.road_id == junction_data[junction_id][idx][0][0] and wp.lane_id == junction_data[junction_id][idx][0][1]:\n",
    "#             draw_waypoints(world, [wp], 10)\n",
    "\n",
    "#     for wp in all_waypoints:\n",
    "#         if wp.road_id == junction_data[junction_id][idx][1][0] and wp.lane_id == junction_data[junction_id][idx][1][1]:\n",
    "#             draw_waypoints(world, [wp], 10, [255,0,0])"
   ]
  },
  {
   "cell_type": "code",
   "execution_count": 392,
   "metadata": {},
   "outputs": [],
   "source": [
    "junction_id = 106\n",
    "info = []\n",
    "for idx in range(len(junction_data[junction_id])):\n",
    "    \n",
    "    road_in_junction_id = junction_data[junction_id][idx][1][0]\n",
    "    for wp in all_waypoints:\n",
    "        if wp.road_id == road_in_junction_id:\n",
    "            draw_waypoints(world, [wp], 10, [0,255,0])\n",
    "            \n",
    "#     road_info = road_data[road_in_junction_id]\n",
    "#     info.append(road_in_junction_id)\n",
    "    \n",
    "#     for wp in all_waypoints:\n",
    "#         if wp.road_id == road_info[0]:\n",
    "#             draw_waypoints(world, [wp], 10, [255,0,0]) \n",
    "#         if wp.road_id == road_info[1]:\n",
    "#             draw_waypoints(world, [wp], 10, [0,0,255]) \n",
    "    "
   ]
  },
  {
   "cell_type": "code",
   "execution_count": 310,
   "metadata": {
    "scrolled": true
   },
   "outputs": [
    {
     "name": "stdout",
     "output_type": "stream",
     "text": [
      "Entry Road: 36 -2 In Junction Road: 95 -1\n"
     ]
    }
   ],
   "source": [
    "# Pick a road in the junction\n",
    "[(entry_road_id, entry_lane_id), (in_junction_road_id, in_junction_lane_id)] = junction_data[94][0]\n",
    "\n",
    "print(\"Entry Road:\", entry_road_id, entry_lane_id, \"In Junction Road:\", in_junction_road_id, in_junction_lane_id)\n",
    "\n",
    "# # Get road connected to entry road\n",
    "# exit_road_id = road_data[in_junction_road_id][0]\n",
    "\n",
    "\n",
    "# for wp in all_waypoints:\n",
    "#     if wp.road_id == in_junction_road_id:\n",
    "#         draw_waypoints(world, [wp], 2, [0,255,0]) \n",
    "#     if wp.road_id == entry_road_id:\n",
    "#         draw_waypoints(world, [wp], 2, [0,0,255]) \n",
    "#     if wp.road_id == exit_road_id:\n",
    "#         draw_waypoints(world, [wp], 2, [255,0,0]) "
   ]
  },
  {
   "cell_type": "code",
   "execution_count": 319,
   "metadata": {},
   "outputs": [],
   "source": [
    "draw(36, -2)\n",
    "draw(95, -1)\n",
    "\n",
    "road_data[95]\n",
    "draw(77, -2)\n"
   ]
  },
  {
   "cell_type": "code",
   "execution_count": 311,
   "metadata": {},
   "outputs": [
    {
     "data": {
      "text/plain": [
       "[[(36, -2), (95, -1)],\n",
       " [(36, -1), (96, -1)],\n",
       " [(76, -1), (97, 1)],\n",
       " [(76, -2), (98, -1)],\n",
       " [(77, 3), (103, 3)],\n",
       " [(77, 2), (103, 2)],\n",
       " [(76, -1), (104, -1)],\n",
       " [(76, -2), (104, -2)]]"
      ]
     },
     "execution_count": 311,
     "metadata": {},
     "output_type": "execute_result"
    }
   ],
   "source": [
    "junction_data[94]"
   ]
  },
  {
   "cell_type": "code",
   "execution_count": 199,
   "metadata": {},
   "outputs": [
    {
     "data": {
      "text/plain": [
       "((172, 106), (25, 90))"
      ]
     },
     "execution_count": 199,
     "metadata": {},
     "output_type": "execute_result"
    }
   ],
   "source": [
    "\n",
    "for wp in all_waypoints:\n",
    "    if wp.road_id == 107:\n",
    "        draw_waypoints(world, [wp], 2, [0,255,0]) \n",
    "        \n",
    "road_data[25], road_data[107] "
   ]
  },
  {
   "cell_type": "code",
   "execution_count": 202,
   "metadata": {},
   "outputs": [],
   "source": [
    "for wp in all_waypoints:\n",
    "    if wp.road_id == 90:\n",
    "        draw_waypoints(world, [wp], 2, [0,255,0]) "
   ]
  },
  {
   "cell_type": "code",
   "execution_count": 93,
   "metadata": {},
   "outputs": [
    {
     "name": "stdout",
     "output_type": "stream",
     "text": [
      "1\n",
      "1\n",
      "1\n",
      "1\n",
      "1\n",
      "1\n",
      "1\n",
      "1\n",
      "1\n",
      "1\n",
      "1\n",
      "1\n",
      "1\n",
      "1\n",
      "1\n",
      "1\n",
      "1\n",
      "1\n",
      "1\n",
      "1\n",
      "1\n",
      "2\n"
     ]
    }
   ],
   "source": [
    "for i in info:\n",
    "    lane_ids = []\n",
    "\n",
    "    for wp in all_waypoints:\n",
    "        if wp.road_id == info[4]:\n",
    "            lane_ids.append(wp.lane_id)\n",
    "            print(wp.lane_id)\n",
    "            draw_waypoints(world, [wp], 10, [0,255,0])\n",
    "    break\n",
    "#     print(list(set(lane_ids)))"
   ]
  },
  {
   "cell_type": "code",
   "execution_count": 94,
   "metadata": {},
   "outputs": [
    {
     "data": {
      "text/plain": [
       "27.0"
      ]
     },
     "execution_count": 94,
     "metadata": {},
     "output_type": "execute_result"
    }
   ],
   "source": [
    "wp."
   ]
  },
  {
   "cell_type": "code",
   "execution_count": null,
   "metadata": {},
   "outputs": [],
   "source": [
    "print(road_data[108])\n",
    "next_road = road_data[108][0]\n",
    "\n",
    "for wp in all_waypoints:\n",
    "    if wp.road_id == next_road:\n",
    "        draw_waypoints(world, [wp], 10)"
   ]
  },
  {
   "cell_type": "code",
   "execution_count": null,
   "metadata": {
    "scrolled": true
   },
   "outputs": [],
   "source": [
    "for idx in range(len(filtered_pairs_of_waypoints_on_jn)):\n",
    "# idx = 2\n",
    "    draw_waypoints(world, filtered_pairs_of_waypoints_on_jn[idx], 10)\n",
    "    print(filtered_pairs_of_waypoints_on_jn[idx][0].road_id, filtered_pairs_of_waypoints_on_jn[idx][1].road_id)\n",
    "    print(\"Angle difference:\",get_turn_direction(filtered_pairs_of_waypoints_on_jn[idx][0].transform.rotation.get_forward_vector(), filtered_pairs_of_waypoints_on_jn[idx][1].transform.rotation.get_forward_vector()))\n"
   ]
  },
  {
   "cell_type": "code",
   "execution_count": null,
   "metadata": {},
   "outputs": [],
   "source": [
    "# draw_waypoints(world, filtered_pairs_of_waypoints_on_jn[3][0].previous_until_lane_start(1),10)"
   ]
  },
  {
   "cell_type": "markdown",
   "metadata": {},
   "source": [
    "### Get previous waypoints from all entry junction waypoints, and next from all exit junction waypoints"
   ]
  },
  {
   "cell_type": "code",
   "execution_count": null,
   "metadata": {},
   "outputs": [],
   "source": [
    "waypoints = []\n",
    "\n",
    "lanes_in_junction = {}\n",
    "\n",
    "for pair in filtered_pairs_of_waypoints_on_jn:\n",
    "    waypoints.append(pair[0].previous(1)[0])\n",
    "    waypoints.append(pair[1].next(1)[0])\n",
    "    \n",
    "    ## Waypoint coming into the junction\n",
    "    road_id = pair[0].road_id\n",
    "    lane_id = pair[0].lane_id\n",
    "    \n",
    "    if (road_id, lane_id) in lanes_in_junction:\n",
    "        lanes_in_junction[(road_id, lane_id)].append((pair[0],0))\n",
    "    else:\n",
    "        lanes_in_junction[(road_id, lane_id)] = [(pair[0],0)]\n",
    "        \n",
    "    ## Waypoint coming out of the junction\n",
    "    \n",
    "    road_id = pair[1].road_id\n",
    "    lane_id = pair[1].lane_id\n",
    "    \n",
    "    if (road_id, lane_id) in lanes_in_junction:\n",
    "        lanes_in_junction[(road_id, lane_id)].append((pair[1],1))\n",
    "    else:\n",
    "        lanes_in_junction[(road_id, lane_id)] = [(pair[1],1)]\n",
    "        \n",
    "    \n",
    "# # waypoints = list(set(waypoints))\n",
    "\n",
    "## Removing intermediate points\n",
    "\n",
    "keys = list(lanes_in_junction.keys())\n",
    "for key in keys:\n",
    "    ins_and_outs = list(set([pair[1] for pair in lanes_in_junction[key]]))\n",
    "    if len(ins_and_outs) == 2:\n",
    "        lanes_in_junction.pop(key, \"None\")\n",
    "        \n",
    "    \n",
    "for key in lanes_in_junction.keys():\n",
    "    lanes_in_junction[key] = lanes_in_junction[key][0]\n"
   ]
  },
  {
   "cell_type": "code",
   "execution_count": null,
   "metadata": {
    "scrolled": false
   },
   "outputs": [],
   "source": [
    "lanes_in_junction"
   ]
  },
  {
   "cell_type": "code",
   "execution_count": null,
   "metadata": {},
   "outputs": [],
   "source": [
    "draw_waypoints(world, [lanes_in_junction[key][0] for key in lanes_in_junction.keys()])"
   ]
  },
  {
   "cell_type": "code",
   "execution_count": null,
   "metadata": {},
   "outputs": [],
   "source": [
    "# road_lane_id_pairs = []\n",
    "# for wp in waypoints:\n",
    "#     road_lane_id_pairs.append((wp.road_id, wp.lane_id))\n",
    "# road_lane_id_pairs = list(set(road_lane_id_pairs))"
   ]
  },
  {
   "cell_type": "code",
   "execution_count": null,
   "metadata": {},
   "outputs": [],
   "source": []
  },
  {
   "cell_type": "code",
   "execution_count": null,
   "metadata": {},
   "outputs": [],
   "source": []
  },
  {
   "cell_type": "code",
   "execution_count": null,
   "metadata": {},
   "outputs": [],
   "source": [
    "for i in range(1,len(waypoints),2):\n",
    "    draw_waypoints(world,waypoints[i].next_until_lane_end(1)[:40],10)\n",
    "    \n",
    "for i in range(0,len(waypoints),2):\n",
    "    draw_waypoints(world,waypoints[i].previous_until_lane_start(1)[:40],10)"
   ]
  },
  {
   "cell_type": "code",
   "execution_count": null,
   "metadata": {},
   "outputs": [],
   "source": []
  },
  {
   "cell_type": "code",
   "execution_count": null,
   "metadata": {},
   "outputs": [],
   "source": []
  },
  {
   "cell_type": "markdown",
   "metadata": {},
   "source": [
    "### Identifying perpendicular and parallel roads"
   ]
  },
  {
   "cell_type": "code",
   "execution_count": null,
   "metadata": {},
   "outputs": [],
   "source": [
    "## Get the end waypoint \n",
    "end_wp = last_point_on_lane\n",
    "ego_road_id = end_wp.road_id\n",
    "\n",
    "perpendicular_roads = []\n",
    "parallel_roads = []\n",
    "\n",
    "## Get angle with each waypoint on the junction\n",
    "angle_road_id_pairs = []\n",
    "for i,waypoint_on_junction in enumerate(waypoints):\n",
    "    angle = get_turn_direction(end_wp.transform.rotation.get_forward_vector(), waypoint_on_junction.transform.rotation.get_forward_vector())\n",
    "    road_id = waypoint_on_junction.road_id\n",
    "\n",
    "    if(i%2 == 0):\n",
    "        next_points_on_lane = waypoint_on_junction.previous_until_lane_start(1)[:20]\n",
    "        linestring = get_path_linestring(next_points_on_lane)\n",
    "    else:\n",
    "        next_points_on_lane = waypoint_on_junction.next_until_lane_end(1)[:20]\n",
    "        linestring = get_path_linestring(next_points_on_lane)\n",
    "        \n",
    "    if abs(angle) <= 30:\n",
    "        parallel_roads.append(linestring)\n",
    "    else:\n",
    "        perpendicular_roads.append(linestring)\n",
    "\n",
    "    \n",
    "    \n",
    "        \n",
    "    angle_road_id_pairs.append((angle,road_id))\n",
    "    \n",
    "\n",
    "\n",
    "# for pair in angle_road_id_pairs:\n",
    "#     if pair[0] > 0 and pair [0] > 30:\n",
    "#         perpendicular_roads.append(pair[1])\n",
    "#     elif abs(pair[0]) <= 30:\n",
    "#         parallel_roads.append(pair[1])\n",
    "#     else:\n",
    "#         perpendicular_roads.append(pair[1])\n",
    "\n",
    "# parallel_roads = list(set(parallel_roads))\n",
    "# perpendicular_roads = list(set(perpendicular_roads))"
   ]
  },
  {
   "cell_type": "code",
   "execution_count": null,
   "metadata": {},
   "outputs": [],
   "source": [
    "aa = MultiLineString(perpendicular_roads)\n",
    "aa"
   ]
  },
  {
   "cell_type": "code",
   "execution_count": null,
   "metadata": {
    "scrolled": false
   },
   "outputs": [],
   "source": [
    "bb = MultiLineString(parallel_roads)\n",
    "bb"
   ]
  },
  {
   "cell_type": "code",
   "execution_count": null,
   "metadata": {},
   "outputs": [],
   "source": [
    "\n",
    "from math import sqrt\n",
    "\n",
    "GM = (sqrt(5)-1.0)/2.0\n",
    "W = 8.0\n",
    "H = W*GM\n",
    "SIZE = (W, H)\n",
    "\n",
    "BLUE = '#6699cc'\n",
    "GRAY = '#999999'\n",
    "DARKGRAY = '#333333'\n",
    "YELLOW = '#ffcc33'\n",
    "GREEN = '#339933'\n",
    "RED = '#ff3333'\n",
    "BLACK = '#000000'\n",
    "\n",
    "COLOR_ISVALID = {\n",
    "    True: BLUE,\n",
    "    False: RED,\n",
    "}\n",
    "\n",
    "def plot_line(ax, ob, color=GRAY, zorder=1, linewidth=3, alpha=1):\n",
    "    x, y = ob.xy\n",
    "    ax.plot(x, y, color=color, linewidth=linewidth, solid_capstyle='round', zorder=zorder, alpha=alpha)\n",
    "    \n",
    "def plot_lines(ax, ob):\n",
    "    color = color_issimple(ob)\n",
    "    for line in ob:\n",
    "        plot_line(ax, line, color=color, alpha=0.7, zorder=2)\n",
    "        \n",
    "def color_issimple(ob, simple=BLUE, complex=YELLOW):\n",
    "    if ob.is_simple:\n",
    "        return simple\n",
    "    else:\n",
    "        return complex\n",
    "\n",
    "fig = plt.figure(1, figsize=SIZE, dpi=90)\n",
    "\n",
    "# 1: disconnected multilinestring\n",
    "ax = fig.add_subplot(121)\n",
    "\n",
    "plot_lines(ax, aa)\n"
   ]
  },
  {
   "cell_type": "code",
   "execution_count": null,
   "metadata": {},
   "outputs": [],
   "source": [
    "fig = plt.figure(1, figsize=SIZE, dpi=90)\n",
    "\n",
    "# 1: disconnected multilinestring\n",
    "ax = fig.add_subplot(121)\n",
    "\n",
    "plot_lines(ax, bb)"
   ]
  },
  {
   "cell_type": "code",
   "execution_count": null,
   "metadata": {},
   "outputs": [],
   "source": [
    "parallel_roads"
   ]
  },
  {
   "cell_type": "markdown",
   "metadata": {},
   "source": [
    "### Fitting lines "
   ]
  },
  {
   "cell_type": "code",
   "execution_count": null,
   "metadata": {},
   "outputs": [],
   "source": [
    "\n",
    "for i in range(0,len(waypoints),2):\n",
    "\n",
    "    current_road_waypoints = "
   ]
  }
 ],
 "metadata": {
  "kernelspec": {
   "display_name": "Python 3",
   "language": "python",
   "name": "python3"
  },
  "language_info": {
   "codemirror_mode": {
    "name": "ipython",
    "version": 3
   },
   "file_extension": ".py",
   "mimetype": "text/x-python",
   "name": "python",
   "nbconvert_exporter": "python",
   "pygments_lexer": "ipython3",
   "version": "3.5.2"
  },
  "varInspector": {
   "cols": {
    "lenName": 16,
    "lenType": 16,
    "lenVar": 40
   },
   "kernels_config": {
    "python": {
     "delete_cmd_postfix": "",
     "delete_cmd_prefix": "del ",
     "library": "var_list.py",
     "varRefreshCmd": "print(var_dic_list())"
    },
    "r": {
     "delete_cmd_postfix": ") ",
     "delete_cmd_prefix": "rm(",
     "library": "var_list.r",
     "varRefreshCmd": "cat(var_dic_list()) "
    }
   },
   "types_to_exclude": [
    "module",
    "function",
    "builtin_function_or_method",
    "instance",
    "_Feature"
   ],
   "window_display": false
  }
 },
 "nbformat": 4,
 "nbformat_minor": 4
}
