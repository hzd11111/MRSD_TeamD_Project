{
 "cells": [
  {
   "cell_type": "code",
   "execution_count": 1,
   "metadata": {},
   "outputs": [],
   "source": [
    "import sys\n",
    "import time\n",
    "import random\n",
    "from configparser import ConfigParser\n",
    "\n",
    "config = ConfigParser()\n",
    "config.read(\"config.ini\")\n",
    "CARLA_PATH = config.get(\"main\", \"CARLA_PATH\")\n",
    "# Enable import of 'carla'\n",
    "sys.path.append(CARLA_PATH + \"PythonAPI/carla/dist/carla-0.9.9-py3.6-linux-x86_64.egg\")\n",
    "\n",
    "import carla\n",
    "\n",
    "from topology_extraction import get_opendrive_tree, get_junction_topology, get_junction_roads_topology\n",
    "from topology_extraction import get_client, draw_waypoints, spawn_vehicle"
   ]
  },
  {
   "cell_type": "markdown",
   "metadata": {},
   "source": [
    "#### Initialize the CARLA Interface"
   ]
  },
  {
   "cell_type": "code",
   "execution_count": 2,
   "metadata": {},
   "outputs": [
    {
     "name": "stdout",
     "output_type": "stream",
     "text": [
      "Connection to CARLA server established!\n"
     ]
    }
   ],
   "source": [
    "# Get client to interact with CARLA server\n",
    "client = get_client()\n",
    "\n",
    "# Get current CARLA world\n",
    "world = client.get_world()"
   ]
  },
  {
   "cell_type": "markdown",
   "metadata": {},
   "source": [
    "#### Get all waypoints + define a custom draw function to visualize points on the CARLA world. "
   ]
  },
  {
   "cell_type": "code",
   "execution_count": 3,
   "metadata": {},
   "outputs": [],
   "source": [
    "all_waypoints = world.get_map().generate_waypoints(1)\n",
    "def draw(road_id, lane_id=None):\n",
    "    for wp in all_waypoints:\n",
    "        \n",
    "        if lane_id == None and wp.road_id == road_id:\n",
    "            draw_waypoints(world, [wp], 1, [0,255,0]) \n",
    "            print(wp.lane_id)\n",
    "        elif wp.road_id == road_id and wp.lane_id==lane_id:\n",
    "            draw_waypoints(world, [wp], 1, [0,255,0]) \n",
    "            \n",
    "def filter_waypoints(waypoints, road_id, lane_id = None):\n",
    "    \n",
    "    filtered_waypoints = []\n",
    "    for wp in waypoints:\n",
    "        \n",
    "        if lane_id == None and wp.road_id == road_id:\n",
    "            filtered_waypoints.append(wp) \n",
    "        elif wp.road_id == road_id and wp.lane_id==lane_id:\n",
    "            filtered_waypoints.append(wp) \n",
    "\n",
    "    return filtered_waypoints\n",
    "\n",
    "def getXYZ(waypoint):\n",
    "    \n",
    "    return [waypoint.transform.location.x, waypoint.transform.location.y, waypoint.transform.location.z]"
   ]
  },
  {
   "cell_type": "markdown",
   "metadata": {},
   "source": [
    "#### Get the junction and road topologies"
   ]
  },
  {
   "cell_type": "code",
   "execution_count": 4,
   "metadata": {},
   "outputs": [],
   "source": [
    "tree = get_opendrive_tree(world)\n",
    "junction_topology = get_junction_topology(tree)\n",
    "road_topology = get_junction_roads_topology(tree)"
   ]
  },
  {
   "cell_type": "code",
   "execution_count": 5,
   "metadata": {},
   "outputs": [
    {
     "data": {
      "text/plain": [
       "dict_keys([224, 965, 421, 1175, 905, 1162, 139, 1260, 685, 334, 751, 1148, 1050, 53, 599, 1070, 943, 509, 924, 829, 245])"
      ]
     },
     "execution_count": 5,
     "metadata": {},
     "output_type": "execute_result"
    }
   ],
   "source": [
    "junction_topology.keys()"
   ]
  },
  {
   "cell_type": "markdown",
   "metadata": {},
   "source": [
    "#### Visualize intersection paths for any junction (Uncomment to Visualize)"
   ]
  },
  {
   "cell_type": "code",
   "execution_count": 6,
   "metadata": {},
   "outputs": [],
   "source": [
    "# junction_id = 172  ## Pick from junction_topology.keys()\n",
    "\n",
    "# for idx in range(len(junction_topology[junction_id])):\n",
    "#     intersection_road_id, intersection_lane_id = junction_topology[junction_id][idx][1]\n",
    "\n",
    "#     road_1_id, road_2_id, lane_connections = road_topology[intersection_road_id]\n",
    "\n",
    "#     for intersection_connection_lanes in lane_connections:\n",
    "                \n",
    "#         lane_1_id = intersection_connection_lanes[0]\n",
    "#         lane_2_id = intersection_connection_lanes[-1]\n",
    "\n",
    "#         draw(road_1_id,lane_1_id)\n",
    "#         draw(road_2_id,lane_2_id)\n",
    "        \n",
    "#         used_lane_IDs = []\n",
    "#         for i in range(1,len(intersection_connection_lanes)-1):\n",
    "#             if intersection_connection_lanes[i] in used_lane_IDs:\n",
    "#                 continue\n",
    "#             used_lane_IDs.append(intersection_connection_lanes[i])\n",
    "#             draw(intersection_road_id, intersection_connection_lanes[i])\n",
    "\n",
    "#         time.sleep(1.1)"
   ]
  },
  {
   "cell_type": "markdown",
   "metadata": {},
   "source": [
    "#### Collect all paths for a junction"
   ]
  },
  {
   "cell_type": "code",
   "execution_count": 7,
   "metadata": {},
   "outputs": [
    {
     "name": "stdout",
     "output_type": "stream",
     "text": [
      "0 end\n",
      "1 end\n",
      "2 start\n",
      "3 start\n",
      "4 start\n",
      "5 end\n",
      "6 end\n",
      "7 start\n",
      "8 end\n",
      "9 start\n",
      "10 start\n",
      "11 end\n",
      "12 end\n",
      "13 end\n",
      "14 start\n",
      "15 start\n"
     ]
    }
   ],
   "source": [
    "junction_id = 53  ## Pick from junction_topology.keys()\n",
    "\n",
    "junction_data = []\n",
    "for idx in range(len(junction_topology[junction_id])):\n",
    "    intersection_road_id, intersection_lane_id = junction_topology[junction_id][idx][1]\n",
    "    contactPoint = junction_topology[junction_id][idx][2]\n",
    "    road_1_id, road_2_id, lane_connections = road_topology[intersection_road_id]\n",
    "\n",
    "    for intersection_connection_lanes in lane_connections:\n",
    "                \n",
    "        lane_1_id = intersection_connection_lanes[0]\n",
    "        lane_2_id = intersection_connection_lanes[-1]\n",
    "\n",
    "        lane_1_waypoints = filter_waypoints(all_waypoints, road_1_id,lane_1_id)\n",
    "        lane_2_waypoints = filter_waypoints(all_waypoints, road_2_id,lane_2_id)\n",
    "        \n",
    "        connection_waypoints = []\n",
    "        used_lane_IDs = []\n",
    "        for i in range(1,len(intersection_connection_lanes)-1):\n",
    "            if intersection_connection_lanes[i] in used_lane_IDs:\n",
    "                continue\n",
    "            used_lane_IDs.append(intersection_connection_lanes[i])\n",
    "            connection_waypoints += filter_waypoints(all_waypoints, intersection_road_id, intersection_connection_lanes[i])\n",
    "    \n",
    "        junction_data.append([lane_1_waypoints, lane_2_waypoints, connection_waypoints])\n"
   ]
  },
  {
   "cell_type": "markdown",
   "metadata": {},
   "source": [
    "#### Select one of the paths"
   ]
  },
  {
   "cell_type": "code",
   "execution_count": 11,
   "metadata": {},
   "outputs": [],
   "source": [
    "idx = 2\n",
    "\n",
    "entry_path = junction_data[idx][0]\n",
    "exit_path = junction_data[idx][1]\n",
    "connection_path = junction_data[idx][2]\n"
   ]
  },
  {
   "cell_type": "markdown",
   "metadata": {},
   "source": [
    "#### Spawn vehicles on the entry and exit paths"
   ]
  },
  {
   "cell_type": "code",
   "execution_count": 12,
   "metadata": {},
   "outputs": [],
   "source": [
    "if 'ego' in locals():\n",
    "    ego.destroy()\n",
    "if 'actor' in locals():\n",
    "    actor.destroy()\n",
    "    \n",
    "ego_spawn_transform = random.choice(entry_path).transform\n",
    "actor_spawn_transform = random.choice(exit_path).transform\n",
    "\n",
    "ego_location = carla.Location(x = ego_spawn_transform.location.x, y=ego_spawn_transform.location.y, z=ego_spawn_transform.location.z + 1)\n",
    "ego_rotation = carla.Rotation(yaw = ego_spawn_transform.rotation.yaw)\n",
    "ego_spawn_transform = carla.Transform(location=ego_location, rotation=ego_rotation)\n",
    "ego = spawn_vehicle(world, \"model3\", spawn_point=ego_spawn_transform)\n",
    "\n",
    "actor_location = carla.Location(x = actor_spawn_transform.location.x, y=actor_spawn_transform.location.y, z=actor_spawn_transform.location.z + 1)\n",
    "actor_rotation = carla.Rotation(yaw = actor_spawn_transform.rotation.yaw)\n",
    "actor_spawn_transform = carla.Transform(location=actor_location, rotation=actor_rotation)\n",
    "actor = spawn_vehicle(world, \"model3\", spawn_point=actor_spawn_transform)\n",
    "\n",
    "draw_waypoints(world, entry_path, 5, color = [0,255,0])\n",
    "draw_waypoints(world, exit_path, 5, color = [255,0,0])\n",
    "draw_waypoints(world, connection_path, 5, color = [0,0,255])\n"
   ]
  },
  {
   "cell_type": "markdown",
   "metadata": {},
   "source": [
    "#### Get intersection point using start and end waypoints of connection path"
   ]
  },
  {
   "cell_type": "code",
   "execution_count": null,
   "metadata": {},
   "outputs": [],
   "source": [
    "x1, y1, z1 = getXYZ(connection_path[0])\n",
    "x2, y2, z2 = getXYZ(connection_path[1])\n",
    "x3, y3, z3 = getXYZ(connection_path[-1])\n",
    "x4, y4, z4 = getXYZ(connection_path[-2])\n",
    "\n",
    "intersection_x = ((x1*y2 - y1*x2)*(x3-x4) - (x1-x2)*(x3*y4 - y3*x4)) / ((x1-x2)*(y3-y4) - (y1-y2)*(x3-x4))\n",
    "intersection_y = ((x1*y2 - y1*x2)*(y3-y4) - (y1-y2)*(x3*y4 - y3*x4)) / ((x1-x2)*(y3-y4) - (y1-y2)*(x3-x4))\n",
    "\n",
    "intersection_location = carla.Location(x=intersection_x, y=intersection_y, z=(z1+z2+z3+z4)/4)\n",
    "\n",
    "world.debug.draw_string(intersection_location, \"0\", draw_shadow=False, color=carla.Color(r=0,g=255,b=0), life_time=10)\n"
   ]
  },
  {
   "cell_type": "code",
   "execution_count": null,
   "metadata": {},
   "outputs": [],
   "source": []
  },
  {
   "cell_type": "code",
   "execution_count": null,
   "metadata": {},
   "outputs": [],
   "source": [
    "\n",
    "draw_waypoints(world, entry_path[-50:], 3, color = [0,255,0])\n",
    "draw_waypoints(world, exit_path[:50], 3, color = [255,0,0])\n",
    "world.debug.draw_string(intersection_location, \"0\", draw_shadow=False, color=carla.Color(r=0,g=50,b=160), life_time=10)\n"
   ]
  },
  {
   "cell_type": "code",
   "execution_count": null,
   "metadata": {},
   "outputs": [],
   "source": []
  }
 ],
 "metadata": {
  "kernelspec": {
   "display_name": "Python 3",
   "language": "python",
   "name": "python3"
  },
  "language_info": {
   "codemirror_mode": {
    "name": "ipython",
    "version": 3
   },
   "file_extension": ".py",
   "mimetype": "text/x-python",
   "name": "python",
   "nbconvert_exporter": "python",
   "pygments_lexer": "ipython3",
   "version": "3.5.2"
  },
  "varInspector": {
   "cols": {
    "lenName": 16,
    "lenType": 16,
    "lenVar": 40
   },
   "kernels_config": {
    "python": {
     "delete_cmd_postfix": "",
     "delete_cmd_prefix": "del ",
     "library": "var_list.py",
     "varRefreshCmd": "print(var_dic_list())"
    },
    "r": {
     "delete_cmd_postfix": ") ",
     "delete_cmd_prefix": "rm(",
     "library": "var_list.r",
     "varRefreshCmd": "cat(var_dic_list()) "
    }
   },
   "types_to_exclude": [
    "module",
    "function",
    "builtin_function_or_method",
    "instance",
    "_Feature"
   ],
   "window_display": false
  }
 },
 "nbformat": 4,
 "nbformat_minor": 4
}
