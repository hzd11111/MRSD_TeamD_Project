{
 "cells": [
  {
   "cell_type": "code",
   "execution_count": null,
   "metadata": {},
   "outputs": [],
   "source": [
    "%matplotlib notebook\n",
    "\n",
    "import sys\n",
    "from typing import List, Tuple\n",
    "from configparser import ConfigParser\n",
    "import random\n",
    "import time\n",
    "\n",
    "config = ConfigParser()\n",
    "config.read(\"config.ini\")\n",
    "CARLA_PATH = config.get(\"main\", \"CARLA_PATH\")\n",
    "\n",
    "# Enable import of 'carla'\n",
    "sys.path.append(CARLA_PATH + \"PythonAPI/carla/dist/carla-0.9.9-py3.6-linux-x86_64.egg\")\n",
    "# Enable import of 'agents' and it's submodules\n",
    "sys.path.insert(0, CARLA_PATH + \"PythonAPI/carla/\")\n",
    "# Enable import of utilities from GlobalPathPlanner\n",
    "sys.path.insert(0, \"../../../global_route_planner/\")\n",
    "\n",
    "import numpy as np\n",
    "import carla\n",
    "from agents.navigation.local_planner import LocalPlanner, _compute_connection\n",
    "from shapely.geometry import LineString, Point\n",
    "from matplotlib import pyplot as plt\n",
    "from IPython import display\n",
    "\n",
    "\n",
    "from global_planner import get_client, spawn_vehicle, draw_waypoints, get_global_planner\n",
    "from cartesian_to_frenet import get_frenet_from_cartesian, get_path_linestring"
   ]
  },
  {
   "cell_type": "markdown",
   "metadata": {},
   "source": [
    "### Get carla interface utils"
   ]
  },
  {
   "cell_type": "code",
   "execution_count": null,
   "metadata": {},
   "outputs": [],
   "source": [
    "# Get client to interact with CARLA server\n",
    "client = get_client()\n",
    "\n",
    "# Get current CARLA world\n",
    "world = client.get_world()"
   ]
  },
  {
   "cell_type": "markdown",
   "metadata": {},
   "source": [
    "## Options to control aspects of this example"
   ]
  },
  {
   "cell_type": "code",
   "execution_count": null,
   "metadata": {
    "scrolled": true
   },
   "outputs": [],
   "source": [
    "opt_dict = {\"target_speed\": 30, \"num_waypoints_in_lane\": 10000}"
   ]
  },
  {
   "cell_type": "markdown",
   "metadata": {},
   "source": [
    "## Get two points on the map, these act as the start and end points of a global route."
   ]
  },
  {
   "cell_type": "code",
   "execution_count": null,
   "metadata": {},
   "outputs": [],
   "source": [
    "start_point = random.choice(world.get_map().get_spawn_points())\n",
    "end_point = random.choice(world.get_map().get_spawn_points())"
   ]
  },
  {
   "cell_type": "markdown",
   "metadata": {},
   "source": [
    "## Get a path between the two points\n"
   ]
  },
  {
   "cell_type": "code",
   "execution_count": null,
   "metadata": {},
   "outputs": [],
   "source": [
    "planner_resolution = opt_dict['target_speed'] * 0.1 / 3.6  # 0.1 seconds horizon\n",
    "grp = get_global_planner(world=world, planner_resolution=planner_resolution)\n",
    "\n",
    "route = grp.trace_route(start_point.location, end_point.location)\n",
    "route_waypoints = [route[i][0] for i in range(len(route))]\n",
    "\n",
    "# Visualize the path in CARLA world\n",
    "draw_waypoints(world, route_waypoints, 200)"
   ]
  },
  {
   "cell_type": "markdown",
   "metadata": {},
   "source": [
    "## Spawn a vehicle at the start point, and attach a local planner to it"
   ]
  },
  {
   "cell_type": "code",
   "execution_count": null,
   "metadata": {},
   "outputs": [],
   "source": [
    "vehicle.destroy()\n",
    "vehicle_query.destroy()\n",
    "vehicle = spawn_vehicle(world=world, spawn_point=start_point)\n",
    "vehicle_query = spawn_vehicle(world=world, spawn_point=end_point)\n",
    "\n",
    "\n",
    "local_planner = LocalPlanner(vehicle, opt_dict=opt_dict)"
   ]
  },
  {
   "cell_type": "markdown",
   "metadata": {},
   "source": [
    "## Set the global path as the desired trajectory of the local planner"
   ]
  },
  {
   "cell_type": "code",
   "execution_count": null,
   "metadata": {},
   "outputs": [],
   "source": [
    "local_planner.set_global_plan(route)\n",
    "\n",
    "# Visualize the path in CARLA world\n",
    "draw_waypoints(world, route_waypoints, 200)"
   ]
  },
  {
   "cell_type": "markdown",
   "metadata": {},
   "source": [
    "## Control "
   ]
  },
  {
   "cell_type": "code",
   "execution_count": null,
   "metadata": {},
   "outputs": [],
   "source": [
    "fig,ax = plt.subplots(1,1)\n",
    "\n",
    "\n",
    "def get_vehicle_state(vehicle):\n",
    "    vehicle_location = vehicle.get_location()\n",
    "    x = vehicle_location.x\n",
    "    y = vehicle_location.y\n",
    "    heading = vehicle.get_transform().rotation.yaw\n",
    "    return x, y, heading\n",
    "\n",
    "\n",
    "while not local_planner.done():\n",
    "\n",
    "    \n",
    "    len_waypoint_buffer = len(local_planner._waypoint_buffer)\n",
    "    lane_waypoints_with_roadoptions = list(local_planner._waypoint_buffer) + list(local_planner._waypoints_queue)[:opt_dict['num_waypoints_in_lane']-len_waypoint_buffer]\n",
    "    lane_waypoints = [item[0] for item in lane_waypoints_with_roadoptions]\n",
    "    \n",
    "    xs = [waypoint.transform.location.x for waypoint in lane_waypoints]\n",
    "    ys = [waypoint.transform.location.y for waypoint in lane_waypoints]\n",
    "\n",
    "    # Get Vehicle State Information\n",
    "    x,y,heading = get_vehicle_state(vehicle)\n",
    "\n",
    "    x_q,y_q,heading_q = get_vehicle_state(vehicle_query)\n",
    "\n",
    "\n",
    "    linestring = get_path_linestring(lane_waypoints)\n",
    "    \n",
    "    s_q, d_q, frenet_heading_q, _ = get_frenet_from_cartesian(linestring, Point(x_q,y_q), heading_q)\n",
    "    s, d, frenet_heading, _ = get_frenet_from_cartesian(linestring, Point(x,y), heading)\n",
    "\n",
    "    print(\"Frenet - Query Vehicle:\", \"s:\", s_q, \"d:\", d_q, \"heading:\", frenet_heading_q)\n",
    "    print(\"Frenet - Ego Vehicle:\", \"s:\",s, \"d:\", d, \"heading:\",frenet_heading) \n",
    "    \n",
    "    control = local_planner.run_step(debug=True)\n",
    "    vehicle.apply_control(control)\n",
    "\n",
    "    \n",
    "    display.clear_output(wait=True)\n",
    "    \n",
    "\n"
   ]
  }
 ],
 "metadata": {
  "kernelspec": {
   "display_name": "Python 3",
   "language": "python",
   "name": "python3"
  },
  "language_info": {
   "codemirror_mode": {
    "name": "ipython",
    "version": 3
   },
   "file_extension": ".py",
   "mimetype": "text/x-python",
   "name": "python",
   "nbconvert_exporter": "python",
   "pygments_lexer": "ipython3",
   "version": "3.5.2"
  },
  "varInspector": {
   "cols": {
    "lenName": 16,
    "lenType": 16,
    "lenVar": 40
   },
   "kernels_config": {
    "python": {
     "delete_cmd_postfix": "",
     "delete_cmd_prefix": "del ",
     "library": "var_list.py",
     "varRefreshCmd": "print(var_dic_list())"
    },
    "r": {
     "delete_cmd_postfix": ") ",
     "delete_cmd_prefix": "rm(",
     "library": "var_list.r",
     "varRefreshCmd": "cat(var_dic_list()) "
    }
   },
   "types_to_exclude": [
    "module",
    "function",
    "builtin_function_or_method",
    "instance",
    "_Feature"
   ],
   "window_display": false
  }
 },
 "nbformat": 4,
 "nbformat_minor": 4
}
