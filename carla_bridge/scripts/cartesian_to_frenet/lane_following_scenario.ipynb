{
 "cells": [
  {
   "cell_type": "code",
   "execution_count": 1,
   "metadata": {},
   "outputs": [],
   "source": [
    "# import sys\n",
    "import time\n",
    "import random\n",
    "from configparser import ConfigParser\n",
    "import subprocess\n",
    "\n",
    "# config = ConfigParser()\n",
    "# CARLA_PATH = config.get(\"main\", \"CARLA_PATH\")\n",
    "# # Enable import of 'carla'\n",
    "# sys.path.append(CARLA_PATH + \"PythonAPI/carla/dist/carla-0.9.9-py3.6-linux-x86_64.egg\")\n",
    "\n",
    "import carla\n",
    "\n",
    "# Get client to interact with CARLA server\n",
    "client = carla.Client('127.0.0.1', 2000)\n",
    "\n",
    "# Get current CARLA world\n",
    "world = client.get_world()\n",
    "Map = world.get_map()"
   ]
  },
  {
   "cell_type": "code",
   "execution_count": 2,
   "metadata": {},
   "outputs": [
    {
     "data": {
      "text/plain": [
       "0"
      ]
     },
     "execution_count": 2,
     "metadata": {},
     "output_type": "execute_result"
    }
   ],
   "source": [
    "# set town and weather\n",
    "subprocess.call(\"python ~/carla/PythonAPI/util/config.py --m Town04 --weather ClearNoon\", shell=True)\n",
    "\n",
    "#TODO: Set camera view"
   ]
  },
  {
   "cell_type": "markdown",
   "metadata": {},
   "source": [
    "-----------STEPS TO CREATE AN AUTOPILOT VEHICLE---------------\n",
    "1. Instantiate a traffic manager, set tm params. \n",
    "2. Get vehicle blueprints\n",
    "3. Get spawn points on the desired lane\n",
    "4. Associate blueprint to vehicles and spawn (SpawnActor)\n",
    "5. Set autopilot on the vehicle and register to TM (SetAutopilot)"
   ]
  },
  {
   "cell_type": "code",
   "execution_count": 3,
   "metadata": {},
   "outputs": [],
   "source": [
    "# Get Traffic Manager instance\n",
    "tm = client.get_trafficmanager(8000)"
   ]
  },
  {
   "cell_type": "code",
   "execution_count": 77,
   "metadata": {},
   "outputs": [],
   "source": [
    "# set the spectator\n",
    "spectator = world.get_spectator()\n",
    "trans = carla.Transform(carla.Location(x=-360.875458, y=-18.428667, z=46.781178), carla.Rotation(pitch=-39.588058, yaw=41.867565, roll=0.000029))\n",
    "spectator.set_transform(trans)"
   ]
  },
  {
   "cell_type": "code",
   "execution_count": 70,
   "metadata": {},
   "outputs": [],
   "source": [
    "# First lane waypoint XYZ\n",
    "town04_highway = {'X':-360, 'Y':30, 'Z':0, \n",
    "                  \"distance_bwn_waypoints\":8,\n",
    "                  \"total_non_ego_vehicles\":3,\n",
    "                  \"max_vehicles_in_front\":2,\n",
    "                  \"target_speed\":15,\n",
    "                 }\n",
    "\n",
    "# Get vehicle blueprints, mustang for non-ego, tesla for ego :D\n",
    "non_ego_vehicle_blueprint = world.get_blueprint_library().filter('vehicle.mustang.mustang')[0]\n",
    "ego_vehicle_blueprint = world.get_blueprint_library().filter('vehicle.tesla.model3')[0]\n",
    "\n",
    "# Get spawn points\n",
    "# Get a list of waypoints 1 m apart on the desired lane\n",
    "config = town04_highway # change to get lane following scenario in another location\n",
    "loc = carla.Location(x=config['X'], y=config['Y'], z=config['Z'])\n",
    "first_waypoint = Map.get_waypoint(loc, project_to_road=True, lane_type=carla.LaneType.Driving)\n",
    "waypoint_list = first_waypoint.next_until_lane_end(config[\"distance_bwn_waypoints\"])\n",
    "spawn_points_list = [x.transform for x in waypoint_list]\n",
    "for point in spawn_points_list: point.location.z += 0.4\n",
    "\n",
    "# non-ego vehicle spawn points\n",
    "non_ego_spawn_points = [(spawn_points_list[i], spawn_points_list[i].get_forward_vector()) \\\n",
    "                         for i in range(1,1+config[\"total_non_ego_vehicles\"])]\n",
    "# non_ego_spawn_points = [spawn_points_list[i] for i in range(1,1+config[\"total_non_ego_vehicles\"])]\n",
    "vectors = [x.get_forward_vector() for x in spawn_points_list[1:5]]\n",
    "ego_spawn_point = (spawn_points_list[0], spawn_points_list[0].get_forward_vector())"
   ]
  },
  {
   "cell_type": "code",
   "execution_count": 71,
   "metadata": {},
   "outputs": [
    {
     "name": "stdout",
     "output_type": "stream",
     "text": [
      "[]\n"
     ]
    }
   ],
   "source": [
    "# destroy all old actors\n",
    "all_actors = world.get_actors().filter(\"vehicle*\")\n",
    "client.apply_batch([carla.command.DestroyActor(x) for x in all_actors])\n",
    "world.tick()\n",
    "print(world.get_actors().filter(\"vehicle*\"))"
   ]
  },
  {
   "cell_type": "code",
   "execution_count": 72,
   "metadata": {},
   "outputs": [],
   "source": [
    "# defining a few commands\n",
    "SpawnActor = carla.command.SpawnActor\n",
    "SetAutopilot = carla.command.SetAutopilot\n",
    "FutureActor = carla.command.FutureActor\n",
    "ApplyVelocity = carla.command.ApplyVelocity\n",
    "\n",
    "#------------SETTING THE WORLD AND TM TO SYNCRONOUS MODE--------------\n",
    "no_rendering_mode=False\n",
    "synchronous_mode=True\n",
    "fixed_delta_seconds=0.03\n",
    "world.apply_settings(carla.WorldSettings(no_rendering_mode=no_rendering_mode,\n",
    "                                         synchronous_mode=synchronous_mode,\n",
    "                                         fixed_delta_seconds=fixed_delta_seconds))\n",
    "tm.set_synchronous_mode(synchronous_mode)\n",
    "tm.set_hybrid_physics_mode(True)\n",
    "world.tick()\n",
    "\n",
    "batch = []\n",
    "for i in range(config[\"total_non_ego_vehicles\"]):\n",
    "    batch.append(SpawnActor(non_ego_vehicle_blueprint, non_ego_spawn_points[i][0])\n",
    "        .then(ApplyVelocity(FutureActor, non_ego_spawn_points[i][1] * config[\"target_speed\"]))\n",
    "        .then(SetAutopilot(FutureActor, True, tm.get_port())))\n",
    "\n",
    "batch.append(SpawnActor(ego_vehicle_blueprint, ego_spawn_point[0])\n",
    "        .then(ApplyVelocity(FutureActor, ego_spawn_point[1] * config[\"target_speed\"]))\n",
    "        .then(SetAutopilot(FutureActor, True, tm.get_port())))"
   ]
  },
  {
   "cell_type": "code",
   "execution_count": 73,
   "metadata": {},
   "outputs": [
    {
     "name": "stdout",
     "output_type": "stream",
     "text": [
      "[Actor(id=330, type=vehicle.mustang.mustang), Actor(id=331, type=vehicle.mustang.mustang), Actor(id=332, type=vehicle.mustang.mustang), Actor(id=333, type=vehicle.tesla.model3)]\n"
     ]
    }
   ],
   "source": [
    "vehicle_list = []\n",
    "for response in client.apply_batch_sync(batch, False):\n",
    "    if response.error:\n",
    "        print(response.error)\n",
    "    else:\n",
    "        vehicle_list.append(response.actor_id)\n",
    "if synchronous_mode:\n",
    "    world.tick()\n",
    "\n",
    "all_actors = world.get_actors().filter(\"vehicle*\")\n",
    "for actor in all_actors:\n",
    "    tm.auto_lane_change(actor, False)\n",
    "    tm.ignore_vehicles_percentage(actor, 60)\n",
    "    actor.set_simulate_physics(False)\n",
    "    \n",
    "tm.set_hybrid_physics_mode(True)\n",
    "print(all_actors)"
   ]
  },
  {
   "cell_type": "code",
   "execution_count": 6,
   "metadata": {},
   "outputs": [
    {
     "name": "stdout",
     "output_type": "stream",
     "text": [
      "5349852\n",
      "23   1.1500000171363354   [0.0, 0.0, 0.0]\n",
      "5359219\n",
      "22   1.1000000163912773   [0.0, 0.0, 0.0]\n",
      "5357766\n",
      "23   1.1500000171363354   [0.0, 0.0, 0.0]\n",
      "5426079\n",
      "22   1.1000000163912773   [0.0, 0.0, 0.0]\n",
      "5450609\n",
      "23   1.1500000171363354   [0.0, 0.0, 0.0]\n",
      "5437710\n",
      "25   1.2500000186264515   [0.0, 0.0, 0.0]\n",
      "5449983\n",
      "22   1.1000000163912773   [0.0, 0.0, 0.0]\n"
     ]
    },
    {
     "ename": "KeyboardInterrupt",
     "evalue": "",
     "output_type": "error",
     "traceback": [
      "\u001b[0;31m---------------------------------------------------------------------------\u001b[0m",
      "\u001b[0;31mKeyboardInterrupt\u001b[0m                         Traceback (most recent call last)",
      "\u001b[0;32m<ipython-input-6-be792c6ce3ad>\u001b[0m in \u001b[0;36m<module>\u001b[0;34m\u001b[0m\n\u001b[1;32m      6\u001b[0m \u001b[0;34m\u001b[0m\u001b[0m\n\u001b[1;32m      7\u001b[0m \u001b[0;32mwhile\u001b[0m \u001b[0;32mTrue\u001b[0m\u001b[0;34m:\u001b[0m\u001b[0;34m\u001b[0m\u001b[0;34m\u001b[0m\u001b[0m\n\u001b[0;32m----> 8\u001b[0;31m     \u001b[0mct\u001b[0m \u001b[0;34m=\u001b[0m \u001b[0mtime\u001b[0m\u001b[0;34m.\u001b[0m\u001b[0mtime\u001b[0m\u001b[0;34m(\u001b[0m\u001b[0;34m)\u001b[0m\u001b[0;34m\u001b[0m\u001b[0;34m\u001b[0m\u001b[0m\n\u001b[0m\u001b[1;32m      9\u001b[0m \u001b[0;31m#     time.sleep(0.02)\u001b[0m\u001b[0;34m\u001b[0m\u001b[0;34m\u001b[0m\u001b[0;34m\u001b[0m\u001b[0m\n\u001b[1;32m     10\u001b[0m     \u001b[0;32mif\u001b[0m \u001b[0mct\u001b[0m \u001b[0;34m-\u001b[0m \u001b[0mst\u001b[0m \u001b[0;34m>\u001b[0m \u001b[0;36m1\u001b[0m\u001b[0;34m:\u001b[0m\u001b[0;34m\u001b[0m\u001b[0;34m\u001b[0m\u001b[0m\n",
      "\u001b[0;31mKeyboardInterrupt\u001b[0m: "
     ]
    }
   ],
   "source": [
    "st = time.time()\n",
    "past_time = world.get_snapshot().timestamp.elapsed_seconds\n",
    "past_frame = world.get_snapshot().timestamp.frame\n",
    "\n",
    "ctr = 0\n",
    "\n",
    "while True:\n",
    "    ct = time.time()\n",
    "#     time.sleep(0.02)\n",
    "    if ct - st > 1:\n",
    "        print(ctr)\n",
    "        ctr = 0\n",
    "        st = ct\n",
    "#         actor_vels = [actor.get_velocity().x for actor in all_actors]\n",
    "        curr_frame = world.get_snapshot().timestamp.frame\n",
    "        curr_time  = world.get_snapshot().timestamp.elapsed_seconds\n",
    "        print( curr_frame - past_frame, ' ', curr_time - past_time, ' ', actor_vels)\n",
    "        past_frame = curr_frame\n",
    "        past_time  = curr_time\n",
    "    ctr+=1\n",
    "#     print('\\r  ',ctr,end='  ')\n",
    "#     world.tick()"
   ]
  },
  {
   "cell_type": "code",
   "execution_count": null,
   "metadata": {},
   "outputs": [],
   "source": [
    "# impulse = 10000\n",
    "# i = 0\n",
    "# for actor_id in vehicle_list:\n",
    "#     impulse_vector = vectors[i]*impulse\n",
    "#     world.get_actor(actor_id).add_impulse(impulse_vector)\n",
    "#     i+=1"
   ]
  },
  {
   "cell_type": "code",
   "execution_count": 217,
   "metadata": {},
   "outputs": [
    {
     "name": "stdout",
     "output_type": "stream",
     "text": [
      "Timestamp(frame=1206725,elapsed_seconds=13822.411183,delta_seconds=0.050000,platform_timestamp=279098.046813)\n"
     ]
    }
   ],
   "source": [
    "print(world.get_snapshot().timestamp)"
   ]
  },
  {
   "cell_type": "code",
   "execution_count": 10,
   "metadata": {},
   "outputs": [
    {
     "data": {
      "text/plain": [
       "7"
      ]
     },
     "execution_count": 10,
     "metadata": {},
     "output_type": "execute_result"
    }
   ],
   "source": [
    "import numpy as np\n",
    "np.random.randint(5,9)"
   ]
  },
  {
   "cell_type": "code",
   "execution_count": 11,
   "metadata": {},
   "outputs": [
    {
     "data": {
      "text/plain": [
       "[1, 3]"
      ]
     },
     "execution_count": 11,
     "metadata": {},
     "output_type": "execute_result"
    }
   ],
   "source": [
    "a = [1,2,3]\n",
    "b = a.pop(1)\n",
    "a"
   ]
  },
  {
   "cell_type": "code",
   "execution_count": 12,
   "metadata": {},
   "outputs": [
    {
     "data": {
      "text/plain": [
       "2"
      ]
     },
     "execution_count": 12,
     "metadata": {},
     "output_type": "execute_result"
    }
   ],
   "source": [
    "b"
   ]
  },
  {
   "cell_type": "code",
   "execution_count": null,
   "metadata": {},
   "outputs": [],
   "source": []
  }
 ],
 "metadata": {
  "kernelspec": {
   "display_name": "Python 3.7.9 64-bit ('graspEnv')",
   "language": "python",
   "name": "python37964bitgraspenv9f522108365c4a009396accf7cd73e46"
  },
  "language_info": {
   "codemirror_mode": {
    "name": "ipython",
    "version": 3
   },
   "file_extension": ".py",
   "mimetype": "text/x-python",
   "name": "python",
   "nbconvert_exporter": "python",
   "pygments_lexer": "ipython3",
   "version": "3.7.9"
  }
 },
 "nbformat": 4,
 "nbformat_minor": 4
}
