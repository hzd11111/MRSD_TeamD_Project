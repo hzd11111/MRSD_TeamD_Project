{
 "cells": [
  {
   "cell_type": "code",
   "execution_count": null,
   "metadata": {},
   "outputs": [],
   "source": [
    "%matplotlib notebook\n",
    "\n",
    "import sys\n",
    "from typing import List, Tuple, Optional\n",
    "from configparser import ConfigParser\n",
    "import random\n",
    "import time\n",
    "\n",
    "sys.path.insert(0, \"../../../global_route_planner/\")\n",
    "\n",
    "import numpy as np\n",
    "import carla\n",
    "from agents.navigation.local_planner import LocalPlanner, _compute_connection\n",
    "from shapely.geometry import LineString, Point\n",
    "from matplotlib import pyplot as plt\n",
    "from IPython import display\n",
    "\n",
    "from shapely.geometry import LineString, Point\n",
    "\n",
    "from global_planner import get_client, spawn_vehicle, draw_waypoints, get_global_planner\n",
    "from cartesian_to_frenet import get_frenet_from_cartesian, get_path_linestring\n",
    "\n",
    "sys.path.insert(0, \"../../../carla_utils/utils/\")\n",
    "\n",
    "\n",
    "from actors import Actor, Vehicle"
   ]
  },
  {
   "cell_type": "code",
   "execution_count": null,
   "metadata": {},
   "outputs": [],
   "source": [
    "def filter_waypoints(waypoints, road_id, lane_id = None):\n",
    "    \n",
    "    filtered_waypoints = []\n",
    "    for wp in waypoints:\n",
    "        \n",
    "        if lane_id == None and wp.road_id == road_id:\n",
    "            filtered_waypoints.append(wp) \n",
    "        elif wp.road_id == road_id and wp.lane_id==lane_id:\n",
    "            filtered_waypoints.append(wp) \n",
    "\n",
    "    return filtered_waypoints\n",
    "\n",
    "\n",
    "def spawn_vehicle(\n",
    "    world: carla.libcarla.World,\n",
    "    vehicle_type: str = \"model3\",\n",
    "    spawn_point: Optional[carla.libcarla.Transform] = None,\n",
    ") -> carla.libcarla.Vehicle:\n",
    "    \"\"\"\n",
    "    Spawns a vehicle at a given spawn point. Default car model is 'model3'.\n",
    "    If no spawn point is provided, randomly selects the spawn point from the set of pre-assigned spawn points in the map.\n",
    "    \"\"\"\n",
    "\n",
    "    if spawn_point is None:\n",
    "        spawn_point = random.choice(world.get_map().get_spawn_points())\n",
    "    vehicle_blueprint = world.get_blueprint_library().filter(vehicle_type)[0]\n",
    "    vehicle = world.spawn_actor(vehicle_blueprint, spawn_point)\n",
    "    return vehicle"
   ]
  },
  {
   "cell_type": "code",
   "execution_count": null,
   "metadata": {},
   "outputs": [],
   "source": [
    "# Get client to interact with CARLA server\n",
    "client = get_client()\n",
    "\n",
    "# Get current CARLA world\n",
    "world = client.get_world()"
   ]
  },
  {
   "cell_type": "code",
   "execution_count": null,
   "metadata": {},
   "outputs": [],
   "source": [
    "all_waypoints = world.get_map().generate_waypoints(1)\n",
    "\n",
    "filtered_waypoints = filter_waypoints(all_waypoints, 37, -2)\n",
    "\n",
    "draw_waypoints(world, filtered_waypoints)"
   ]
  },
  {
   "cell_type": "code",
   "execution_count": null,
   "metadata": {},
   "outputs": [],
   "source": [
    "wps = np.random.choice(filtered_waypoints, 10)\n"
   ]
  },
  {
   "cell_type": "code",
   "execution_count": null,
   "metadata": {},
   "outputs": [],
   "source": [
    "draw_waypoints(world, wps)"
   ]
  },
  {
   "cell_type": "code",
   "execution_count": null,
   "metadata": {},
   "outputs": [],
   "source": [
    "for actors in world.get_actors().filter('vehicle*'):\n",
    "    actors.destroy()"
   ]
  },
  {
   "cell_type": "code",
   "execution_count": null,
   "metadata": {},
   "outputs": [],
   "source": [
    "actors = []\n",
    "for i,wp in enumerate(wps):\n",
    "    \n",
    "    x = wp.transform.location.x\n",
    "    y = wp.transform.location.y\n",
    "    z = wp.transform.location.z + 0.5\n",
    "    yaw = wp.transform.rotation.yaw\n",
    "    transform = carla.Transform(carla.Location(x=x,y=y,z=z), carla.Rotation(yaw=yaw))\n",
    "\n",
    "    actors.append(spawn_vehicle(world, 'model3', transform))\n",
    "    \n",
    "actors = [Vehicle(world, actor.id) for actor in actors]"
   ]
  },
  {
   "cell_type": "code",
   "execution_count": null,
   "metadata": {},
   "outputs": [],
   "source": [
    "draw_waypoints(world, [wps[1]])\n",
    "our_vehicle = actors[1]"
   ]
  },
  {
   "cell_type": "code",
   "execution_count": null,
   "metadata": {},
   "outputs": [],
   "source": [
    "ego_lane_linestring = get_path_linestring(filtered_waypoints)"
   ]
  },
  {
   "cell_type": "code",
   "execution_count": null,
   "metadata": {
    "scrolled": true
   },
   "outputs": [],
   "source": [
    "ego_lane_linestring"
   ]
  },
  {
   "cell_type": "code",
   "execution_count": null,
   "metadata": {},
   "outputs": [],
   "source": []
  },
  {
   "cell_type": "code",
   "execution_count": null,
   "metadata": {},
   "outputs": [],
   "source": []
  }
 ],
 "metadata": {
  "kernelspec": {
   "display_name": "Python 3",
   "language": "python",
   "name": "python3"
  },
  "language_info": {
   "codemirror_mode": {
    "name": "ipython",
    "version": 3
   },
   "file_extension": ".py",
   "mimetype": "text/x-python",
   "name": "python",
   "nbconvert_exporter": "python",
   "pygments_lexer": "ipython3",
   "version": "3.5.2"
  },
  "varInspector": {
   "cols": {
    "lenName": 16,
    "lenType": 16,
    "lenVar": 40
   },
   "kernels_config": {
    "python": {
     "delete_cmd_postfix": "",
     "delete_cmd_prefix": "del ",
     "library": "var_list.py",
     "varRefreshCmd": "print(var_dic_list())"
    },
    "r": {
     "delete_cmd_postfix": ") ",
     "delete_cmd_prefix": "rm(",
     "library": "var_list.r",
     "varRefreshCmd": "cat(var_dic_list()) "
    }
   },
   "types_to_exclude": [
    "module",
    "function",
    "builtin_function_or_method",
    "instance",
    "_Feature"
   ],
   "window_display": false
  }
 },
 "nbformat": 4,
 "nbformat_minor": 4
}
