{
 "cells": [
  {
   "cell_type": "code",
   "execution_count": 1,
   "metadata": {},
   "outputs": [],
   "source": [
    "%matplotlib notebook\n",
    "\n",
    "import sys\n",
    "from typing import List, Tuple, Optional\n",
    "from configparser import ConfigParser\n",
    "import random\n",
    "import time\n",
    "\n",
    "sys.path.insert(0, \"../../../global_route_planner/\")\n",
    "\n",
    "import numpy as np\n",
    "import carla\n",
    "from agents.navigation.local_planner import LocalPlanner, _compute_connection\n",
    "from shapely.geometry import LineString, Point\n",
    "from matplotlib import pyplot as plt\n",
    "from IPython import display\n",
    "\n",
    "from shapely.geometry import LineString, Point\n",
    "\n",
    "from global_planner import get_client, spawn_vehicle, draw_waypoints, get_global_planner\n",
    "from cartesian_to_frenet import get_frenet_from_cartesian, get_path_linestring\n",
    "\n",
    "sys.path.insert(0, \"../../../carla_utils/utils/\")\n",
    "\n",
    "\n",
    "from actors import Actor, Vehicle"
   ]
  },
  {
   "cell_type": "code",
   "execution_count": 2,
   "metadata": {},
   "outputs": [],
   "source": [
    "def filter_waypoints(waypoints, road_id, lane_id = None):\n",
    "    \n",
    "    filtered_waypoints = []\n",
    "    for wp in waypoints:\n",
    "        \n",
    "        if lane_id == None and wp.road_id == road_id:\n",
    "            filtered_waypoints.append(wp) \n",
    "        elif wp.road_id == road_id and wp.lane_id==lane_id:\n",
    "            filtered_waypoints.append(wp) \n",
    "\n",
    "    return filtered_waypoints\n",
    "\n",
    "\n",
    "def spawn_vehicle(\n",
    "    world: carla.libcarla.World,\n",
    "    vehicle_type: str = \"model3\",\n",
    "    spawn_point: Optional[carla.libcarla.Transform] = None,\n",
    ") -> carla.libcarla.Vehicle:\n",
    "    \"\"\"\n",
    "    Spawns a vehicle at a given spawn point. Default car model is 'model3'.\n",
    "    If no spawn point is provided, randomly selects the spawn point from the set of pre-assigned spawn points in the map.\n",
    "    \"\"\"\n",
    "\n",
    "    if spawn_point is None:\n",
    "        spawn_point = random.choice(world.get_map().get_spawn_points())\n",
    "    vehicle_blueprint = world.get_blueprint_library().filter(vehicle_type)[0]\n",
    "    vehicle = world.spawn_actor(vehicle_blueprint, spawn_point)\n",
    "    return vehicle"
   ]
  },
  {
   "cell_type": "code",
   "execution_count": 3,
   "metadata": {},
   "outputs": [
    {
     "name": "stdout",
     "output_type": "stream",
     "text": [
      "Connection to CARLA server established!\n"
     ]
    }
   ],
   "source": [
    "# Get client to interact with CARLA server\n",
    "client = get_client()\n",
    "\n",
    "# Get current CARLA world\n",
    "world = client.get_world()"
   ]
  },
  {
   "cell_type": "code",
   "execution_count": 278,
   "metadata": {},
   "outputs": [],
   "source": [
    "for actors in world.get_actors().filter('vehicle*'):\n",
    "    actors.destroy()"
   ]
  },
  {
   "cell_type": "code",
   "execution_count": 279,
   "metadata": {},
   "outputs": [],
   "source": [
    "all_waypoints = world.get_map().generate_waypoints(1)\n",
    "\n",
    "filtered_waypoints = filter_waypoints(all_waypoints, 37, -2)\n",
    "\n",
    "draw_waypoints(world, filtered_waypoints[300:-300], 2)"
   ]
  },
  {
   "cell_type": "code",
   "execution_count": 280,
   "metadata": {},
   "outputs": [],
   "source": [
    "wps = np.random.choice(filtered_waypoints[300:-300], 6)\n",
    "draw_waypoints(world, wps, 2)"
   ]
  },
  {
   "cell_type": "code",
   "execution_count": 281,
   "metadata": {},
   "outputs": [],
   "source": [
    "actors = []\n",
    "for wp in wps:\n",
    "    \n",
    "    x = wp.transform.location.x\n",
    "    y = wp.transform.location.y\n",
    "    z = wp.transform.location.z + 5\n",
    "    yaw = wp.transform.rotation.yaw\n",
    "    transform = carla.Transform(carla.Location(x=x,y=y,z=z), carla.Rotation(yaw=yaw))\n",
    "\n",
    "    actors.append(spawn_vehicle(world, 'model3', transform))\n",
    "    \n",
    "import time\n",
    "time.sleep(1)\n",
    "    \n",
    "actors = [Vehicle(world, actor.id) for actor in actors]"
   ]
  },
  {
   "cell_type": "code",
   "execution_count": 282,
   "metadata": {},
   "outputs": [
    {
     "data": {
      "text/plain": [
       "[{'x': -243.78048706054688, 'y': 68.41490936279297, 'z': 9.892717361450195},\n",
       " {'x': -244.10540771484375, 'y': 91.41178131103516, 'z': 9.836559295654297},\n",
       " {'x': -243.7767791748047, 'y': -60.42034912109375, 'z': 9.896491050720215},\n",
       " {'x': -243.24850463867188, 'y': -24.424224853515625, 'z': 9.895075798034668},\n",
       " {'x': -243.34292602539062, 'y': 37.4180908203125, 'z': 9.975760459899902},\n",
       " {'x': -244.1912384033203, 'y': -88.41825866699219, 'z': 10.251269340515137}]"
      ]
     },
     "execution_count": 282,
     "metadata": {},
     "output_type": "execute_result"
    }
   ],
   "source": [
    "[actors[i].location for i in range(len(actors))]"
   ]
  },
  {
   "cell_type": "code",
   "execution_count": null,
   "metadata": {},
   "outputs": [],
   "source": []
  },
  {
   "cell_type": "code",
   "execution_count": 283,
   "metadata": {},
   "outputs": [
    {
     "name": "stdout",
     "output_type": "stream",
     "text": [
      "-244.19125366210938 -88.41825866699219\n"
     ]
    },
    {
     "data": {
      "text/plain": [
       "(322.30105885401946,\n",
       " -1.5257131360471183e-05,\n",
       " 0.00014027504447255978,\n",
       " <shapely.geometry.point.Point at 0x7f05e29aa748>)"
      ]
     },
     "execution_count": 283,
     "metadata": {},
     "output_type": "execute_result"
    }
   ],
   "source": [
    "idx = -1\n",
    "draw_waypoints(world, [wps[idx]], 10)\n",
    "\n",
    "\n",
    "print(wps[idx].transform.location.x, wps[idx].transform.location.y)\n",
    "\n",
    "ego_vehicle = actors[idx]\n",
    "ego_lane_linestring = get_path_linestring(filtered_waypoints)\n",
    "ego_vehicle_location_point = Point(ego_vehicle.location['x'], ego_vehicle.location['y'])\n",
    "ego_vehicle_heading = ego_vehicle.location_global.theta\n",
    "ego_vehicle_frenet_coordinates = get_frenet_from_cartesian(ego_lane_linestring, ego_vehicle_location_point, ego_vehicle_heading)\n",
    "ego_vehicle_frenet_coordinates"
   ]
  },
  {
   "cell_type": "code",
   "execution_count": null,
   "metadata": {},
   "outputs": [],
   "source": []
  },
  {
   "cell_type": "code",
   "execution_count": 51,
   "metadata": {
    "scrolled": true
   },
   "outputs": [],
   "source": []
  },
  {
   "cell_type": "code",
   "execution_count": 52,
   "metadata": {},
   "outputs": [
    {
     "data": {
      "text/plain": [
       "(238.58229692105292,\n",
       " -9.69647949388488e-06,\n",
       " 0.00030378135781461424,\n",
       " <shapely.geometry.point.Point at 0x7f05e29f6da0>)"
      ]
     },
     "execution_count": 52,
     "metadata": {},
     "output_type": "execute_result"
    }
   ],
   "source": []
  },
  {
   "cell_type": "code",
   "execution_count": null,
   "metadata": {},
   "outputs": [],
   "source": []
  }
 ],
 "metadata": {
  "kernelspec": {
   "display_name": "Python 3",
   "language": "python",
   "name": "python3"
  },
  "language_info": {
   "codemirror_mode": {
    "name": "ipython",
    "version": 3
   },
   "file_extension": ".py",
   "mimetype": "text/x-python",
   "name": "python",
   "nbconvert_exporter": "python",
   "pygments_lexer": "ipython3",
   "version": "3.5.2"
  },
  "varInspector": {
   "cols": {
    "lenName": 16,
    "lenType": 16,
    "lenVar": 40
   },
   "kernels_config": {
    "python": {
     "delete_cmd_postfix": "",
     "delete_cmd_prefix": "del ",
     "library": "var_list.py",
     "varRefreshCmd": "print(var_dic_list())"
    },
    "r": {
     "delete_cmd_postfix": ") ",
     "delete_cmd_prefix": "rm(",
     "library": "var_list.r",
     "varRefreshCmd": "cat(var_dic_list()) "
    }
   },
   "types_to_exclude": [
    "module",
    "function",
    "builtin_function_or_method",
    "instance",
    "_Feature"
   ],
   "window_display": false
  }
 },
 "nbformat": 4,
 "nbformat_minor": 4
}
