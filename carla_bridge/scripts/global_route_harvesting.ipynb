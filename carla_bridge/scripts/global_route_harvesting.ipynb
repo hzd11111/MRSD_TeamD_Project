{
 "cells": [
  {
   "cell_type": "code",
   "execution_count": 33,
   "metadata": {},
   "outputs": [
    {
     "name": "stdout",
     "output_type": "stream",
     "text": [
      "Connection to CARLA server established!\n"
     ]
    }
   ],
   "source": [
    "import random\n",
    "import sys\n",
    "from typing import Optional, List\n",
    "from configparser import ConfigParser\n",
    "import time\n",
    "import numpy as np\n",
    "\n",
    "import carla\n",
    "import agents\n",
    "from agents.navigation.global_route_planner_dao import GlobalRoutePlannerDAO\n",
    "from agents.navigation.global_route_planner import GlobalRoutePlanner\n",
    "\n",
    "import carla\n",
    "def draw_waypoints(\n",
    "    world: carla.libcarla.World,\n",
    "    waypoints: List[carla.libcarla.Waypoint],\n",
    "    life_time: float = 10.0,  # Seconds\n",
    "    color: List[int] = [0, 255, 0],\n",
    ") -> None:\n",
    "    \"\"\"\n",
    "    Draws a list of waypoints in the given CARLA world.\n",
    "    \"\"\"\n",
    "    if waypoints in [[], None]: return\n",
    "    gamma = 1\n",
    "    for waypoint in waypoints:\n",
    "        color = list((np.array(color)*gamma).astype(np.uint16))\n",
    "        gamma = gamma * 0.95\n",
    "        world.debug.draw_string(\n",
    "            waypoint.transform.location,\n",
    "            \"O\",\n",
    "            draw_shadow=False,\n",
    "            color=carla.Color(r=int(color[0]), g=int(color[1]), b=int(color[2])),\n",
    "            life_time=life_time,\n",
    "            persistent_lines=True,\n",
    "        )\n",
    "\n",
    "def get_client() -> carla.libcarla.Client:\n",
    "    \"\"\"\n",
    "    Get a CARLA client object. The client object enables interaction with the CARLA server.\n",
    "    \"\"\"\n",
    "    client = carla.Client(\"localhost\", 2000)\n",
    "    client.set_timeout(10.0)\n",
    "    print(\"Connection to CARLA server established!\")\n",
    "    return client\n",
    "\n",
    "def get_global_planner(\n",
    "    world: carla.libcarla.World, planner_resolution: float\n",
    ") -> agents.navigation.global_route_planner.GlobalRoutePlanner:\n",
    "    \"\"\"\n",
    "    Get a global route planner object. The planner object can be used to retrieve point to point routes and route topologies.\n",
    "    \"\"\"\n",
    "    world_map = world.get_map()\n",
    "    dao = GlobalRoutePlannerDAO(world_map, planner_resolution)\n",
    "    grp = GlobalRoutePlanner(dao)\n",
    "    grp.setup()\n",
    "    return grp\n",
    "\n",
    "def get_nearest_waypoint_location(ego_vehicle):\n",
    "    location = ego_vehicle.get_location()\n",
    "    nearest_waypoint_location = Map.get_waypoint(location, project_to_road=True).transform.location\n",
    "    print(nearest_waypoint_location)\n",
    "    return nearest_waypoint_location\n",
    "\n",
    "client = get_client()\n",
    "world = client.get_world()\n",
    "grp = get_global_planner(world=world, planner_resolution=2.0)\n",
    "Map = world.get_map()"
   ]
  },
  {
   "cell_type": "code",
   "execution_count": 4,
   "metadata": {},
   "outputs": [],
   "source": [
    "ego_vehicle = world.get_actors().filter(\"vehicle*\")[0]"
   ]
  },
  {
   "cell_type": "code",
   "execution_count": null,
   "metadata": {},
   "outputs": [],
   "source": [
    "start_location = get_nearest_waypoint_location(ego_vehicle)"
   ]
  },
  {
   "cell_type": "code",
   "execution_count": null,
   "metadata": {},
   "outputs": [],
   "source": [
    "end_location = get_nearest_waypoint_location(ego_vehicle)"
   ]
  },
  {
   "cell_type": "code",
   "execution_count": null,
   "metadata": {},
   "outputs": [],
   "source": [
    "# Generate the route using the global route planner object.\n",
    "route = grp.trace_route(start_location, end_location)\n",
    "route_waypoints = [route[i][0] for i in range(len(route))]\n",
    "\n",
    "# Draw the generated waypoints on the CARLA world.\n",
    "draw_waypoints(world, route_waypoints)"
   ]
  },
  {
   "cell_type": "code",
   "execution_count": 34,
   "metadata": {},
   "outputs": [
    {
     "data": {
      "text/plain": [
       "'\\nLF - Lane Follow, RT/LT - Right/Left Turn, LCR/LCL - Lane chane right/left\\nGS - Go straight\\nDescription of routes:Lane Following is involved in all of them\\n0. Left turn at an intersection\\n1. Go straight intersection\\n2. Right turn intersection\\n3. Lane change and right turn\\n4. Left Lane Change\\n5. Lane Fol - Go Str - Lane Fol - Left Turn - Lane Follow\\n6. Lane Ch Right - Lane Fol - Right Turn - Left Change Lane - Left Turn\\n7. (Bug free lanes) LF - GS - LCL - LF - LT - RT - LF - RT\\n8. (Bug free lanes) LCR - LF - RT - LF - GS - LCL - LT - LF\\n'"
      ]
     },
     "execution_count": 34,
     "metadata": {},
     "output_type": "execute_result"
    }
   ],
   "source": [
    "# list of start and end location tuples\n",
    "route_start_locations = [(-47.5,-18.8,0.06) ,(-66.5,-91.5,0), \n",
    "                         (-66.5,-91.5,0), (-131.7,-70.3,0), \n",
    "                         (-125.1,-17.9,0), (-47, 52, 0), (-47.5,-13.8,0),\n",
    "                         (96, 37, 0), (29, -130, 0)\n",
    "                        ]\n",
    "\n",
    "route_end_locations = [(-92.1,-91.5,0), (-167.1,-91.6,0), \n",
    "                       (-120.9,-120.970520,0), (-128.6,-18.8,0),\n",
    "                       (-121.2,-69.9,0), (-95,-91.5,0), (34,-124,0),\n",
    "                       (-72, 140, 0), (-128, -49, -0)\n",
    "                      ]\n",
    "\n",
    "\n",
    "'''\n",
    "LF - Lane Follow, RT/LT - Right/Left Turn, LCR/LCL - Lane chane right/left\n",
    "GS - Go straight\n",
    "Description of routes:Lane Following is involved in all of them\n",
    "0. Left turn at an intersection\n",
    "1. Go straight intersection\n",
    "2. Right turn intersection\n",
    "3. Lane change and right turn\n",
    "4. Left Lane Change\n",
    "5. Lane Fol - Go Str - Lane Fol - Left Turn - Lane Follow\n",
    "6. Lane Ch Right - Lane Fol - Right Turn - Left Change Lane - Left Turn\n",
    "7. (Bug free lanes) LF - GS - LCL - LF - LT - RT - LF - RT\n",
    "8. (Bug free lanes) LCR - LF - RT - LF - GS - LCL - LT - LF\n",
    "'''"
   ]
  },
  {
   "cell_type": "code",
   "execution_count": 35,
   "metadata": {},
   "outputs": [],
   "source": [
    "# to check if the data has been recorded correctly\n",
    "start_location = carla.Location(*route_start_locations[7])\n",
    "end_location =   carla.Location(  *route_end_locations[7])\n",
    "# Generate the route using the global route planner object.\n",
    "route = grp.trace_route(start_location, end_location)\n",
    "route_waypoints = [route[i][0] for i in range(len(route))]\n",
    "# Draw the generated waypoints on the CARLA world.\n",
    "draw_waypoints(world, route_waypoints)"
   ]
  },
  {
   "cell_type": "code",
   "execution_count": 30,
   "metadata": {
    "scrolled": true
   },
   "outputs": [
    {
     "ename": "KeyboardInterrupt",
     "evalue": "",
     "output_type": "error",
     "traceback": [
      "\u001b[0;31m------------------------------------\u001b[0m",
      "\u001b[0;31mKeyboardInterrupt\u001b[0mTraceback (most recent call last)",
      "\u001b[0;32m<ipython-input-30-d6476b54c694>\u001b[0m in \u001b[0;36m<module>\u001b[0;34m\u001b[0m\n\u001b[1;32m     15\u001b[0m         \u001b[0mwaypoints_to_end_of_lane\u001b[0m\u001b[0;34m.\u001b[0m\u001b[0mextend\u001b[0m\u001b[0;34m(\u001b[0m\u001b[0mnext_wp\u001b[0m\u001b[0;34m.\u001b[0m\u001b[0mnext_until_lane_end\u001b[0m\u001b[0;34m(\u001b[0m\u001b[0;36m1\u001b[0m\u001b[0;34m)\u001b[0m\u001b[0;34m)\u001b[0m\u001b[0;34m\u001b[0m\u001b[0;34m\u001b[0m\u001b[0m\n\u001b[1;32m     16\u001b[0m     \u001b[0mdraw_waypoints\u001b[0m\u001b[0;34m(\u001b[0m\u001b[0mworld\u001b[0m\u001b[0;34m,\u001b[0m \u001b[0mwaypoints_to_end_of_lane\u001b[0m\u001b[0;34m,\u001b[0m \u001b[0mlife_time\u001b[0m\u001b[0;34m=\u001b[0m\u001b[0;36m0.5\u001b[0m\u001b[0;34m)\u001b[0m\u001b[0;34m\u001b[0m\u001b[0;34m\u001b[0m\u001b[0m\n\u001b[0;32m---> 17\u001b[0;31m     \u001b[0mtime\u001b[0m\u001b[0;34m.\u001b[0m\u001b[0msleep\u001b[0m\u001b[0;34m(\u001b[0m\u001b[0;36m0.5\u001b[0m\u001b[0;34m)\u001b[0m\u001b[0;34m\u001b[0m\u001b[0;34m\u001b[0m\u001b[0m\n\u001b[0m",
      "\u001b[0;31mKeyboardInterrupt\u001b[0m: "
     ]
    }
   ],
   "source": [
    "buggy_road_list= [5,49,17,47,16,25,18,40,26,29,50,52]\n",
    "all_waypoints = Map.generate_waypoints(distance=1)\n",
    "buggy_waypoints = [x for x in all_waypoints if (x.road_id in buggy_road_list)]\n",
    "\n",
    "while True:\n",
    "    location = ego_vehicle.get_location()\n",
    "    nearest_waypoint = Map.get_waypoint(location, project_to_road=True)\n",
    "\n",
    "    waypoints_to_end_of_lane = nearest_waypoint.next_until_lane_end(1)\n",
    "    wp = waypoints_to_end_of_lane[-1]\n",
    "    next_wp = wp.next(1)[0]\n",
    "\n",
    "    if (nearest_waypoint.road_id in buggy_road_list and \\\n",
    "            next_wp.road_id in buggy_road_list):\n",
    "        waypoints_to_end_of_lane.extend(next_wp.next_until_lane_end(1))\n",
    "    draw_waypoints(world, waypoints_to_end_of_lane, life_time=0.5)\n",
    "    time.sleep(0.5)"
   ]
  },
  {
   "cell_type": "code",
   "execution_count": 5,
   "metadata": {},
   "outputs": [
    {
     "name": "stdout",
     "output_type": "stream",
     "text": [
      "Handler Initialized!\n",
      "\n"
     ]
    }
   ],
   "source": [
    "from carla_handler import CarlaHandler\n",
    "ch = CarlaHandler(client) "
   ]
  },
  {
   "cell_type": "code",
   "execution_count": 32,
   "metadata": {},
   "outputs": [
    {
     "ename": "KeyboardInterrupt",
     "evalue": "",
     "output_type": "error",
     "traceback": [
      "\u001b[0;31m------------------------------------\u001b[0m",
      "\u001b[0;31mKeyboardInterrupt\u001b[0mTraceback (most recent call last)",
      "\u001b[0;32m<ipython-input-32-41c79f1cae5f>\u001b[0m in \u001b[0;36m<module>\u001b[0;34m\u001b[0m\n\u001b[1;32m     21\u001b[0m     \u001b[0mdraw_waypoints\u001b[0m\u001b[0;34m(\u001b[0m\u001b[0mworld\u001b[0m\u001b[0;34m,\u001b[0m \u001b[0mleft_lane_waypoints\u001b[0m\u001b[0;34m,\u001b[0m\u001b[0mlife_time\u001b[0m\u001b[0;34m=\u001b[0m\u001b[0;36m0.5\u001b[0m\u001b[0;34m,\u001b[0m\u001b[0mcolor\u001b[0m \u001b[0;34m=\u001b[0m \u001b[0;34m[\u001b[0m\u001b[0;36m0\u001b[0m\u001b[0;34m,\u001b[0m \u001b[0;36m0\u001b[0m\u001b[0;34m,\u001b[0m \u001b[0;36m255\u001b[0m\u001b[0;34m]\u001b[0m\u001b[0;34m)\u001b[0m\u001b[0;34m\u001b[0m\u001b[0;34m\u001b[0m\u001b[0m\n\u001b[1;32m     22\u001b[0m     \u001b[0mdraw_waypoints\u001b[0m\u001b[0;34m(\u001b[0m\u001b[0mworld\u001b[0m\u001b[0;34m,\u001b[0m \u001b[0mright_lane_waypoints\u001b[0m\u001b[0;34m,\u001b[0m\u001b[0mlife_time\u001b[0m\u001b[0;34m=\u001b[0m\u001b[0;36m0.5\u001b[0m\u001b[0;34m,\u001b[0m\u001b[0mcolor\u001b[0m \u001b[0;34m=\u001b[0m \u001b[0;34m[\u001b[0m\u001b[0;36m255\u001b[0m\u001b[0;34m,\u001b[0m \u001b[0;36m0\u001b[0m\u001b[0;34m,\u001b[0m \u001b[0;36m0\u001b[0m\u001b[0;34m]\u001b[0m\u001b[0;34m)\u001b[0m\u001b[0;34m\u001b[0m\u001b[0;34m\u001b[0m\u001b[0m\n\u001b[0;32m---> 23\u001b[0;31m     \u001b[0mtime\u001b[0m\u001b[0;34m.\u001b[0m\u001b[0msleep\u001b[0m\u001b[0;34m(\u001b[0m\u001b[0;36m0.5\u001b[0m\u001b[0;34m)\u001b[0m\u001b[0;34m\u001b[0m\u001b[0;34m\u001b[0m\u001b[0m\n\u001b[0m",
      "\u001b[0;31mKeyboardInterrupt\u001b[0m: "
     ]
    }
   ],
   "source": [
    "buggy_road_list = [5,49,17,47,16,25,18,40,26,29,50,52]\n",
    "while True:\n",
    "    # greeen\n",
    "    current_lane_waypoints, left_lane_waypoints, right_lane_waypoints = ch.get_current_adjacent_lane_waypoints(ego_vehicle)\n",
    "#     last_wp = current_lane_waypoints[-1]\n",
    "#     nwp = last_wp.next(10)[0]\n",
    "#     if nwp.road_id in buggy_road_list:\n",
    "#         current_lane_waypoints.append(nwp)\n",
    "#         current_lane_waypoints.extend(nwp.next_until_lane_end(10))\n",
    "        \n",
    "#     first_wp = current_lane_waypoints[0]\n",
    "#     pwp = first_wp.previous(10)[0]\n",
    "#     if pwp.road_id in buggy_road_list:\n",
    "#         current_lane_waypoints.insert(0,pwp)\n",
    "#         prev_waypoints = pwp.previous_until_lane_start(10)\n",
    "#         prev_waypoints.extend(current_lane_waypoints)\n",
    "#         current_lane_waypoints = prev_waypoints\n",
    "\n",
    "    draw_waypoints(world, current_lane_waypoints,life_time=0.5,color = [0, 255, 0])\n",
    "    # blue\n",
    "    draw_waypoints(world, left_lane_waypoints,life_time=0.5,color = [0, 0, 255])\n",
    "    draw_waypoints(world, right_lane_waypoints,life_time=0.5,color = [255, 0, 0])\n",
    "    time.sleep(0.5)"
   ]
  },
  {
   "cell_type": "code",
   "execution_count": null,
   "metadata": {},
   "outputs": [],
   "source": [
    "current_lane_waypoints"
   ]
  },
  {
   "cell_type": "code",
   "execution_count": null,
   "metadata": {},
   "outputs": [],
   "source": [
    "prev_waypoints.extend(current_lane_waypoints)"
   ]
  },
  {
   "cell_type": "code",
   "execution_count": null,
   "metadata": {},
   "outputs": [],
   "source": [
    "prev_waypoints"
   ]
  },
  {
   "cell_type": "code",
   "execution_count": null,
   "metadata": {},
   "outputs": [],
   "source": [
    "route_start_locations = [(-47.5,-18.8,0.06) ,(-66.5,-91.5,0), (-66.5,-95,0), (-131.7,-70.3,0), \\\n",
    "                        (-125.1,-17.9,0), (-47, 52, 0), (-47.5,-13.8,0), (96,37,0), (32,-173,0)]\n",
    "route_end_locations = [(-92.1,-91.5,0), (-167.1,-91.6,0), (-120.9,-120.970520,0), (-128.6,-18.8,0), \\\n",
    "                        (-121.2,-69.9,0), (-95,-91.5,0), (34,-124,0), (-120,130,0), (-128,-49,-0)]"
   ]
  }
 ],
 "metadata": {
  "kernelspec": {
   "display_name": "Python 3.7.9 64-bit ('graspEnv')",
   "language": "python",
   "name": "python37964bitgraspenve3ad3364fe934b61bb4035f33eaf68e5"
  },
  "language_info": {
   "codemirror_mode": {
    "name": "ipython",
    "version": 3
   },
   "file_extension": ".py",
   "mimetype": "text/x-python",
   "name": "python",
   "nbconvert_exporter": "python",
   "pygments_lexer": "ipython3",
   "version": "3.7.9"
  }
 },
 "nbformat": 4,
 "nbformat_minor": 4
}
