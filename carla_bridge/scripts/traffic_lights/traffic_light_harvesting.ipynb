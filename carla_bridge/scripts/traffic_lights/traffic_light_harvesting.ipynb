{
 "cells": [
  {
   "cell_type": "code",
   "execution_count": 2,
   "metadata": {},
   "outputs": [],
   "source": [
    "# import sys\n",
    "import time\n",
    "import random\n",
    "import carla\n",
    "import ipdb\n",
    "import pickle"
   ]
  },
  {
   "cell_type": "code",
   "execution_count": 3,
   "metadata": {},
   "outputs": [],
   "source": [
    "traffic_light_dic  = {} "
   ]
  },
  {
   "cell_type": "code",
   "execution_count": 4,
   "metadata": {},
   "outputs": [],
   "source": [
    "# Get client to interact with CARLA server\n",
    "client = carla.Client('127.0.0.1', 2000)\n",
    "\n",
    "# Get current CARLA world\n",
    "world = client.get_world()\n",
    "Map = world.get_map()"
   ]
  },
  {
   "cell_type": "code",
   "execution_count": 39,
   "metadata": {},
   "outputs": [],
   "source": [
    "def draw_waypoint(road_id, lane_id):\n",
    "    waypoint_list = world.get_map().generate_waypoints(3)\n",
    "    for waypoint in waypoint_list:\n",
    "            # get a tl object\n",
    "            rid = waypoint.road_id\n",
    "            lid = waypoint.lane_id\n",
    "            \n",
    "            if rid == road_id and lid == lane_id:\n",
    "                loc = waypoint.transform.location\n",
    "                loc.x += 0.5\n",
    "                world.debug.draw_string(loc, str(rid)+','+str(lid), draw_shadow=True,\n",
    "                                        color=carla.Color(r=255, g=255, b=0), life_time=200)"
   ]
  },
  {
   "cell_type": "code",
   "execution_count": 42,
   "metadata": {},
   "outputs": [],
   "source": [
    "traffic_light_dic  = {}\n",
    "del_list = {}"
   ]
  },
  {
   "cell_type": "code",
   "execution_count": 47,
   "metadata": {
    "scrolled": true
   },
   "outputs": [
    {
     "name": "stdout",
     "output_type": "stream",
     "text": [
      "8 -2 -139.34999084472656 -100.8499984741211 -240.19998931884766 traffic light added  115\n",
      "we have a problem------------------------------------\n",
      "8 1 -140.39999389648438 -78.0999984741211 -192.09999084472656 -218.49999237060547\n",
      "we have a problem------------------------------------\n",
      "23 2 -139.8000030517578 77.8499984741211 -11.199996948242188 -61.95000457763672\n",
      "44 -1 -140.39999389648438 -78.0999984741211 -218.49999237060547 traffic light added  116\n",
      "we have a problem------------------------------------\n",
      "3 1 -201.5500030517578 12.449999809265137 -166.89999103546143 -189.10000324249268\n",
      "we have a problem------------------------------------\n",
      "43 -2 -139.8000030517578 77.8499984741211 -188.94999980926514 -61.95000457763672\n",
      "39 1 40.25 -11.09999942779541 29.15000057220459 traffic light added  117\n",
      "39 2 40.89999771118164 10.5 51.39999771118164 traffic light added  118\n"
     ]
    },
    {
     "ename": "KeyboardInterrupt",
     "evalue": "",
     "output_type": "error",
     "traceback": [
      "\u001b[0;31m---------------------------------------------------------------------------\u001b[0m",
      "\u001b[0;31mKeyboardInterrupt\u001b[0m                         Traceback (most recent call last)",
      "\u001b[0;32m<ipython-input-47-245033d61fc1>\u001b[0m in \u001b[0;36m<module>\u001b[0;34m\u001b[0m\n\u001b[1;32m     21\u001b[0m \u001b[0;34m\u001b[0m\u001b[0m\n\u001b[1;32m     22\u001b[0m             \u001b[0mveh_location\u001b[0m \u001b[0;34m=\u001b[0m \u001b[0mvehicle\u001b[0m\u001b[0;34m.\u001b[0m\u001b[0mget_location\u001b[0m\u001b[0;34m(\u001b[0m\u001b[0;34m)\u001b[0m\u001b[0;34m\u001b[0m\u001b[0;34m\u001b[0m\u001b[0m\n\u001b[0;32m---> 23\u001b[0;31m             \u001b[0mwaypoint\u001b[0m \u001b[0;34m=\u001b[0m \u001b[0mMap\u001b[0m\u001b[0;34m.\u001b[0m\u001b[0mget_waypoint\u001b[0m\u001b[0;34m(\u001b[0m\u001b[0mveh_location\u001b[0m\u001b[0;34m,\u001b[0m \u001b[0mproject_to_road\u001b[0m\u001b[0;34m=\u001b[0m\u001b[0;32mTrue\u001b[0m\u001b[0;34m,\u001b[0m \u001b[0mlane_type\u001b[0m\u001b[0;34m=\u001b[0m\u001b[0mcarla\u001b[0m\u001b[0;34m.\u001b[0m\u001b[0mLaneType\u001b[0m\u001b[0;34m.\u001b[0m\u001b[0mDriving\u001b[0m\u001b[0;34m)\u001b[0m\u001b[0;34m\u001b[0m\u001b[0;34m\u001b[0m\u001b[0m\n\u001b[0m\u001b[1;32m     24\u001b[0m             \u001b[0mroad_id\u001b[0m \u001b[0;34m=\u001b[0m \u001b[0mwaypoint\u001b[0m\u001b[0;34m.\u001b[0m\u001b[0mroad_id\u001b[0m\u001b[0;34m\u001b[0m\u001b[0;34m\u001b[0m\u001b[0m\n\u001b[1;32m     25\u001b[0m             \u001b[0mlane_id\u001b[0m \u001b[0;34m=\u001b[0m \u001b[0mwaypoint\u001b[0m\u001b[0;34m.\u001b[0m\u001b[0mlane_id\u001b[0m\u001b[0;34m\u001b[0m\u001b[0;34m\u001b[0m\u001b[0m\n",
      "\u001b[0;31mKeyboardInterrupt\u001b[0m: "
     ]
    }
   ],
   "source": [
    "all_actors = world.get_actors()\n",
    "all_vehicles = all_actors.filter(\"vehicle*\")\n",
    "all_traffic_lights = all_actors.filter(\"traffic_light*\")\n",
    "\n",
    "\n",
    "while True:\n",
    "    for vehicle in all_vehicles:\n",
    "        # check if vehicle is at a traffic light, only then its traffic lights are valid\n",
    "        # if vehicle.is_at_traffic_light() == True:\n",
    "        tl = vehicle.get_traffic_light()\n",
    "        state = vehicle.get_traffic_light_state()\n",
    "        \n",
    "        if (tl is not None) and (str(state) == 'Red'):\n",
    "            if tl.get_location().distance(vehicle.get_location()) > 50:\n",
    "                continue\n",
    "            \n",
    "            # check if traffic light is accessible\n",
    "            # if traffic light available, get road_id\n",
    "            tl_x_location = tl.get_location().x\n",
    "            tl_y_location = tl.get_location().y\n",
    "\n",
    "            veh_location = vehicle.get_location()\n",
    "            waypoint = Map.get_waypoint(veh_location, project_to_road=True, lane_type=carla.LaneType.Driving)\n",
    "            road_id = waypoint.road_id\n",
    "            lane_id = waypoint.lane_id\n",
    "            section_id = waypoint.section_id\n",
    "\n",
    "            if (road_id, lane_id) in traffic_light_dic and (road_id, lane_id) not in del_list:\n",
    "                if traffic_light_dic[(road_id, lane_id)] != tl_x_location + tl_y_location:\n",
    "                    draw_waypoint(road_id, lane_id)\n",
    "                    print(\"we have a problem------------------------------------\")\n",
    "                    print(road_id, lane_id, tl_x_location, tl_y_location, traffic_light_dic[(road_id, lane_id)], tl_x_location + tl_y_location)\n",
    "                    # deleting the problem creators. CHECK LOGIC.\n",
    "                    del_list[(road_id, lane_id)] = 1\n",
    "            \n",
    "            if road_id < 100:\n",
    "                if (road_id, lane_id) not in traffic_light_dic and (road_id, lane_id) not in del_list:\n",
    "                    traffic_light_dic[(road_id, lane_id)] = tl_x_location + tl_y_location\n",
    "                    print(road_id, lane_id, tl_x_location, tl_y_location, tl_x_location + tl_y_location, \"traffic light added \", len(traffic_light_dic))"
   ]
  },
  {
   "cell_type": "code",
   "execution_count": 48,
   "metadata": {},
   "outputs": [
    {
     "data": {
      "text/plain": [
       "{(23, 1): 1,\n",
       " (39, -1): 1,\n",
       " (39, -2): 1,\n",
       " (8, 1): 1,\n",
       " (23, 2): 1,\n",
       " (3, 1): 1,\n",
       " (43, -2): 1}"
      ]
     },
     "execution_count": 48,
     "metadata": {},
     "output_type": "execute_result"
    }
   ],
   "source": [
    "for (road_id, lane_id) in del_list.keys():\n",
    "    draw_waypoint(road_id, lane_id)\n",
    "del_list"
   ]
  },
  {
   "cell_type": "code",
   "execution_count": 61,
   "metadata": {},
   "outputs": [
    {
     "name": "stdout",
     "output_type": "stream",
     "text": [
      "(26, 2)\n",
      "(26, 1)\n",
      "(39, 1)\n"
     ]
    }
   ],
   "source": [
    "for key, value in traffic_light_dic.items():\n",
    "    if int(value) == 29:\n",
    "        print(key)"
   ]
  },
  {
   "cell_type": "code",
   "execution_count": 63,
   "metadata": {},
   "outputs": [],
   "source": [
    "del traffic_light_dic[(42,-1)]\n",
    "del traffic_light_dic[(23,-1)]\n",
    "del traffic_light_dic[(8,-2)]\n",
    "del traffic_light_dic[(20,-1)]\n",
    "del traffic_light_dic[(39,2)]\n",
    "del traffic_light_dic[(39,1)]"
   ]
  },
  {
   "cell_type": "code",
   "execution_count": 64,
   "metadata": {},
   "outputs": [],
   "source": [
    "import pickle\n",
    "f = open(\"traffic_lights/town05_traffic_light_x_V2.pkl\",\"wb\")\n",
    "pickle.dump(traffic_light_dic, f)\n",
    "f.close()"
   ]
  },
  {
   "cell_type": "code",
   "execution_count": 28,
   "metadata": {},
   "outputs": [],
   "source": [
    "tl_dict = pickle.load(open( \"town05_traffic_light_x.pkl\", \"rb\" ) )"
   ]
  },
  {
   "cell_type": "code",
   "execution_count": 42,
   "metadata": {},
   "outputs": [
    {
     "name": "stdout",
     "output_type": "stream",
     "text": [
      "265 µs ± 792 ns per loop (mean ± std. dev. of 7 runs, 1000 loops each)\n"
     ]
    }
   ],
   "source": [
    "%%timeit\n",
    "dic = {}\n",
    "for tl in all_traffic_lights:\n",
    "    x = tl.get_location().x\n",
    "    for key, value in tl_dict.items():\n",
    "        if x == value:\n",
    "            dic[key] = tl.id"
   ]
  },
  {
   "cell_type": "code",
   "execution_count": null,
   "metadata": {},
   "outputs": [],
   "source": []
  },
  {
   "cell_type": "code",
   "execution_count": 48,
   "metadata": {},
   "outputs": [],
   "source": [
    "loc = tl.get_location()"
   ]
  },
  {
   "cell_type": "code",
   "execution_count": 52,
   "metadata": {},
   "outputs": [
    {
     "data": {
      "text/plain": [
       "0.0"
      ]
     },
     "execution_count": 52,
     "metadata": {},
     "output_type": "execute_result"
    }
   ],
   "source": [
    "loc.distance(loc)"
   ]
  },
  {
   "cell_type": "code",
   "execution_count": 107,
   "metadata": {},
   "outputs": [
    {
     "name": "stdout",
     "output_type": "stream",
     "text": [
      "[<carla.libcarla.Vehicle object at 0x7fc912185450>, <carla.libcarla.Vehicle object at 0x7fc911dde090>, <carla.libcarla.Vehicle object at 0x7fc911dde0f0>, <carla.libcarla.Vehicle object at 0x7fc911dde150>, <carla.libcarla.Vehicle object at 0x7fc911dde390>, <carla.libcarla.Vehicle object at 0x7fc911dde210>, <carla.libcarla.Vehicle object at 0x7fc911dde2d0>, <carla.libcarla.Vehicle object at 0x7fc911dde3f0>, <carla.libcarla.Vehicle object at 0x7fc911dde330>, <carla.libcarla.Vehicle object at 0x7fc911dde450>]\n"
     ]
    }
   ],
   "source": [
    "vehicles_list = list(world.get_actors().filter(\"vehicle*\"))\n",
    "print(vehicles_list)"
   ]
  },
  {
   "cell_type": "code",
   "execution_count": 78,
   "metadata": {},
   "outputs": [],
   "source": [
    "Map = world.get_map()"
   ]
  },
  {
   "cell_type": "code",
   "execution_count": 85,
   "metadata": {},
   "outputs": [],
   "source": [
    "get_road_id = lambda veh : Map.get_waypoint(veh.get_location()).road_id"
   ]
  },
  {
   "cell_type": "code",
   "execution_count": 110,
   "metadata": {},
   "outputs": [
    {
     "name": "stdout",
     "output_type": "stream",
     "text": [
      "-474.14739990234375\n"
     ]
    }
   ],
   "source": [
    "print(vehicles_list[0].get_transform().location.x)"
   ]
  },
  {
   "cell_type": "code",
   "execution_count": 100,
   "metadata": {},
   "outputs": [],
   "source": [
    "a = [3,4,5,6,7,8,9,1,2,0]"
   ]
  },
  {
   "cell_type": "code",
   "execution_count": 103,
   "metadata": {},
   "outputs": [
    {
     "ename": "TypeError",
     "evalue": "'list' object is not callable",
     "output_type": "error",
     "traceback": [
      "\u001b[0;31m---------------------------------------------------------------------------\u001b[0m",
      "\u001b[0;31mTypeError\u001b[0m                                 Traceback (most recent call last)",
      "\u001b[0;32m<ipython-input-103-f3052710fd95>\u001b[0m in \u001b[0;36m<module>\u001b[0;34m\u001b[0m\n\u001b[0;32m----> 1\u001b[0;31m \u001b[0mvehicles_list\u001b[0m\u001b[0;34m.\u001b[0m\u001b[0msort\u001b[0m\u001b[0;34m(\u001b[0m\u001b[0mkey\u001b[0m\u001b[0;34m=\u001b[0m\u001b[0ma\u001b[0m\u001b[0;34m)\u001b[0m\u001b[0;34m\u001b[0m\u001b[0;34m\u001b[0m\u001b[0m\n\u001b[0m\u001b[1;32m      2\u001b[0m \u001b[0mprint\u001b[0m\u001b[0;34m(\u001b[0m\u001b[0;34m[\u001b[0m\u001b[0mx\u001b[0m\u001b[0;34m.\u001b[0m\u001b[0mid\u001b[0m \u001b[0;32mfor\u001b[0m \u001b[0mx\u001b[0m \u001b[0;32min\u001b[0m \u001b[0mvehicles_list\u001b[0m\u001b[0;34m]\u001b[0m\u001b[0;34m)\u001b[0m\u001b[0;34m\u001b[0m\u001b[0;34m\u001b[0m\u001b[0m\n",
      "\u001b[0;31mTypeError\u001b[0m: 'list' object is not callable"
     ]
    }
   ],
   "source": [
    "vehicles_list.sort(key=a)\n",
    "print([x.id for x in vehicles_list])"
   ]
  },
  {
   "cell_type": "code",
   "execution_count": null,
   "metadata": {},
   "outputs": [],
   "source": []
  },
  {
   "cell_type": "code",
   "execution_count": 29,
   "metadata": {},
   "outputs": [
    {
     "name": "stdout",
     "output_type": "stream",
     "text": [
      "46\n"
     ]
    }
   ],
   "source": [
    "# making a dict of traffic_light_x: traffic_light_actor_id\n",
    "tl_actor_id_dict = {}\n",
    "a ={}\n",
    "for tl in all_traffic_lights:\n",
    "    if tl\n",
    "    tl_actor_id_dict[tl.get_location().x] = tl.id\n",
    "    a[tl.id] = tl.get_location().x\n",
    "print(len(tl_actor_id_dict))"
   ]
  },
  {
   "cell_type": "markdown",
   "metadata": {},
   "source": [
    "Facts gathered:\n",
    "1. Each traffic light actor HAS a unique x location\n",
    "2. Each (road_id, lane_id) doesnt have to point to a unique traffic light\n",
    "3. Section ids for all gathered lanes were zero\n",
    "4. "
   ]
  }
 ],
 "metadata": {
  "kernelspec": {
   "display_name": "Python 3.7.9 64-bit ('graspEnv')",
   "language": "python",
   "name": "python37964bitgraspenv9f522108365c4a009396accf7cd73e46"
  },
  "language_info": {
   "codemirror_mode": {
    "name": "ipython",
    "version": 3
   },
   "file_extension": ".py",
   "mimetype": "text/x-python",
   "name": "python",
   "nbconvert_exporter": "python",
   "pygments_lexer": "ipython3",
   "version": "3.7.9"
  }
 },
 "nbformat": 4,
 "nbformat_minor": 4
}
