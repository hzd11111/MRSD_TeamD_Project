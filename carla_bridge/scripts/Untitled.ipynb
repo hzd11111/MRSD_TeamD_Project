{
 "cells": [
  {
   "cell_type": "code",
   "execution_count": 70,
   "metadata": {},
   "outputs": [],
   "source": [
    "import carla\n",
    "import numpy as np\n",
    "client = carla.Client('localhost', 2000)\n",
    "client.set_timeout(2.0)"
   ]
  },
  {
   "cell_type": "code",
   "execution_count": 71,
   "metadata": {},
   "outputs": [],
   "source": [
    "client.set_timeout(30)"
   ]
  },
  {
   "cell_type": "code",
   "execution_count": 72,
   "metadata": {},
   "outputs": [
    {
     "data": {
      "text/plain": [
       "<carla.libcarla.World at 0x7f224c1750f0>"
      ]
     },
     "execution_count": 72,
     "metadata": {},
     "output_type": "execute_result"
    }
   ],
   "source": [
    "client.load_world(\"Town01\")"
   ]
  },
  {
   "cell_type": "code",
   "execution_count": 73,
   "metadata": {},
   "outputs": [],
   "source": [
    "import random, re\n",
    "world_map = client.get_world().get_map()\n",
    "client.get_world().set_weather(find_weather_presets()[2][0])\n",
    "blueprint_library = client.get_world().get_blueprint_library()\n",
    "spawn_pts = world_map.get_spawn_points()\n",
    "spawn_point = random.choice(spawn_pts)"
   ]
  },
  {
   "cell_type": "code",
   "execution_count": 74,
   "metadata": {},
   "outputs": [],
   "source": [
    "vehicle_blueprint = blueprint_library.filter(\"model3\")[0]"
   ]
  },
  {
   "cell_type": "code",
   "execution_count": 75,
   "metadata": {},
   "outputs": [],
   "source": [
    "vehicle = client.get_world().spawn_actor(vehicle_blueprint, spawn_point)"
   ]
  },
  {
   "cell_type": "code",
   "execution_count": 112,
   "metadata": {},
   "outputs": [],
   "source": [
    "transform = vehicle.get_transform()"
   ]
  },
  {
   "cell_type": "code",
   "execution_count": 113,
   "metadata": {},
   "outputs": [
    {
     "data": {
      "text/plain": [
       "matrix([[-5.32630710e-07,  1.00000000e+00, -1.75757499e-05,\n",
       "          9.27982788e+01],\n",
       "        [-9.99997168e-01, -4.90798723e-07,  2.38001099e-03,\n",
       "          1.16544640e+02],\n",
       "        [ 2.38001098e-03,  1.75769678e-05,  9.99997168e-01,\n",
       "         -5.28194429e-03],\n",
       "        [ 0.00000000e+00,  0.00000000e+00,  0.00000000e+00,\n",
       "          1.00000000e+00]])"
      ]
     },
     "execution_count": 113,
     "metadata": {},
     "output_type": "execute_result"
    }
   ],
   "source": [
    "get_matrix(transform)"
   ]
  },
  {
   "cell_type": "code",
   "execution_count": 114,
   "metadata": {},
   "outputs": [
    {
     "data": {
      "text/plain": [
       "array([[ 2.40441084,  1.08475292, -0.76159108,  1.        ],\n",
       "       [-2.40441084,  1.08475292, -0.76159108,  1.        ],\n",
       "       [-2.40441084, -1.08475292, -0.76159108,  1.        ],\n",
       "       [ 2.40441084, -1.08475292, -0.76159108,  1.        ],\n",
       "       [ 2.40441084,  1.08475292,  0.76159108,  1.        ],\n",
       "       [-2.40441084,  1.08475292,  0.76159108,  1.        ],\n",
       "       [-2.40441084, -1.08475292,  0.76159108,  1.        ],\n",
       "       [ 2.40441084, -1.08475292,  0.76159108,  1.        ]])"
      ]
     },
     "execution_count": 114,
     "metadata": {},
     "output_type": "execute_result"
    }
   ],
   "source": [
    "create_bb_points(vehicle)"
   ]
  },
  {
   "cell_type": "code",
   "execution_count": 115,
   "metadata": {},
   "outputs": [
    {
     "data": {
      "text/plain": [
       "matrix([[ 93.88304383, 114.13842243,  -0.76112927,   1.        ],\n",
       "        [ 93.88304639, 118.94723049,  -0.77257432,   1.        ],\n",
       "        [ 91.71354056, 118.94723155,  -0.77261245,   1.        ],\n",
       "        [ 91.713538  , 114.1384235 ,  -0.76116741,   1.        ],\n",
       "        [ 93.88301706, 114.14204762,   0.76204857,   1.        ],\n",
       "        [ 93.88301962, 118.95085568,   0.75060352,   1.        ],\n",
       "        [ 91.71351379, 118.95085674,   0.75056538,   1.        ],\n",
       "        [ 91.71351123, 114.14204869,   0.76201043,   1.        ]])"
      ]
     },
     "execution_count": 115,
     "metadata": {},
     "output_type": "execute_result"
    }
   ],
   "source": [
    "coords = np.matmul(get_matrix(transform), create_bb_points(vehicle).T).T\n",
    "coords"
   ]
  },
  {
   "cell_type": "code",
   "execution_count": 116,
   "metadata": {
    "scrolled": true
   },
   "outputs": [
    {
     "data": {
      "text/plain": [
       "114.13842243063641"
      ]
     },
     "execution_count": 116,
     "metadata": {},
     "output_type": "execute_result"
    }
   ],
   "source": [
    "tmp_location = coords[0][:3]\n",
    "tmp_location[0,1]"
   ]
  },
  {
   "cell_type": "code",
   "execution_count": 117,
   "metadata": {},
   "outputs": [],
   "source": [
    "a = carla.Location()\n",
    "a.x = tmp_location[0,0]\n",
    "a.y = tmp_location[0,1]\n",
    "a.z = tmp_location[0,2]\n",
    "\n",
    "\n",
    "tmp_location = coords[1][:3]\n",
    "\n",
    "b = carla.Location()\n",
    "b.x = tmp_location[0,0]\n",
    "b.y = tmp_location[0,1]\n",
    "b.z = tmp_location[0,2]\n",
    "\n",
    "tmp_location = coords[2][:3]\n",
    "\n",
    "c = carla.Location()\n",
    "c.x = tmp_location[0,0]\n",
    "c.y = tmp_location[0,1]\n",
    "c.z = tmp_location[0,2]\n",
    "\n",
    "tmp_location = coords[3][:3]\n",
    "\n",
    "d = carla.Location()\n",
    "d.x = tmp_location[0,0]\n",
    "d.y = tmp_location[0,1]\n",
    "d.z = tmp_location[0,2]"
   ]
  },
  {
   "cell_type": "code",
   "execution_count": null,
   "metadata": {},
   "outputs": [],
   "source": []
  },
  {
   "cell_type": "code",
   "execution_count": 123,
   "metadata": {},
   "outputs": [],
   "source": [
    "# client.get_world().debug.draw_string(a, '0', draw_shadow=False,\n",
    "#                             color=carla.Color(r=255, g=0, b=0), life_time=5,\n",
    "#                             persistent_lines=False)\n",
    "# client.get_world().debug.draw_string(b, '0', draw_shadow=False,\n",
    "#                             color=carla.Color(r=255, g=0, b=0), life_time=5,\n",
    "#                             persistent_lines=False)\n",
    "# client.get_world().debug.draw_string(c, '0', draw_shadow=False,\n",
    "#                             color=carla.Color(r=255, g=0, b=0), life_time=5,\n",
    "#                             persistent_lines=False)\n",
    "client.get_world().debug.draw_string(d, '0', draw_shadow=False,\n",
    "                            color=carla.Color(r=255, g=0, b=0), life_time=5,\n",
    "                            persistent_lines=False)"
   ]
  },
  {
   "cell_type": "code",
   "execution_count": 87,
   "metadata": {},
   "outputs": [
    {
     "data": {
      "text/plain": [
       "(92.79827880859375, 116.54463958740234)"
      ]
     },
     "execution_count": 87,
     "metadata": {},
     "output_type": "execute_result"
    }
   ],
   "source": [
    "vehicle.get_location().x, vehicle.get_location().y"
   ]
  },
  {
   "cell_type": "code",
   "execution_count": 32,
   "metadata": {},
   "outputs": [],
   "source": [
    "def get_matrix(transform):\n",
    "    \"\"\"\n",
    "    Creates matrix from carla transform.\n",
    "    \"\"\"\n",
    "\n",
    "    rotation = transform.rotation\n",
    "    location = transform.location\n",
    "    c_y = np.cos(np.radians(rotation.yaw))\n",
    "    s_y = np.sin(np.radians(rotation.yaw))\n",
    "    c_r = np.cos(np.radians(rotation.roll))\n",
    "    s_r = np.sin(np.radians(rotation.roll))\n",
    "    c_p = np.cos(np.radians(rotation.pitch))\n",
    "    s_p = np.sin(np.radians(rotation.pitch))\n",
    "    matrix = np.matrix(np.identity(4))\n",
    "    matrix[0, 3] = location.x\n",
    "    matrix[1, 3] = location.y\n",
    "    matrix[2, 3] = location.z\n",
    "    matrix[0, 0] = c_p * c_y\n",
    "    matrix[0, 1] = c_y * s_p * s_r - s_y * c_r\n",
    "    matrix[0, 2] = -c_y * s_p * c_r - s_y * s_r\n",
    "    matrix[1, 0] = s_y * c_p\n",
    "    matrix[1, 1] = s_y * s_p * s_r + c_y * c_r\n",
    "    matrix[1, 2] = -s_y * s_p * c_r + c_y * s_r\n",
    "    matrix[2, 0] = s_p\n",
    "    matrix[2, 1] = -c_p * s_r\n",
    "    matrix[2, 2] = c_p * c_r\n",
    "    return matrix\n",
    "\n",
    "\n",
    "\n",
    "def create_bb_points(vehicle):\n",
    "    \"\"\"\n",
    "    Returns 3D bounding box for a vehicle.\n",
    "    \"\"\"\n",
    "\n",
    "    cords = np.zeros((8, 4))\n",
    "    extent = vehicle.bounding_box.extent\n",
    "    cords[0, :] = np.array([extent.x, extent.y, -extent.z, 1])\n",
    "    cords[1, :] = np.array([-extent.x, extent.y, -extent.z, 1])\n",
    "    cords[2, :] = np.array([-extent.x, -extent.y, -extent.z, 1])\n",
    "    cords[3, :] = np.array([extent.x, -extent.y, -extent.z, 1])\n",
    "    cords[4, :] = np.array([extent.x, extent.y, extent.z, 1])\n",
    "    cords[5, :] = np.array([-extent.x, extent.y, extent.z, 1])\n",
    "    cords[6, :] = np.array([-extent.x, -extent.y, extent.z, 1])\n",
    "    cords[7, :] = np.array([extent.x, -extent.y, extent.z, 1])\n",
    "    return cords\n",
    "\n",
    "def find_weather_presets():\n",
    "    rgx = re.compile('.+?(?:(?<=[a-z])(?=[A-Z])|(?<=[A-Z])(?=[A-Z][a-z])|$)')\n",
    "    name = lambda x: ' '.join(m.group(0) for m in rgx.finditer(x))\n",
    "    presets = [x for x in dir(carla.WeatherParameters) if re.match('[A-Z].+', x)]\n",
    "    return [(getattr(carla.WeatherParameters, x), name(x)) for x in presets]\n"
   ]
  },
  {
   "cell_type": "code",
   "execution_count": null,
   "metadata": {},
   "outputs": [],
   "source": []
  }
 ],
 "metadata": {
  "kernelspec": {
   "display_name": "Python 3",
   "language": "python",
   "name": "python3"
  },
  "language_info": {
   "codemirror_mode": {
    "name": "ipython",
    "version": 3
   },
   "file_extension": ".py",
   "mimetype": "text/x-python",
   "name": "python",
   "nbconvert_exporter": "python",
   "pygments_lexer": "ipython3",
   "version": "3.6.9"
  }
 },
 "nbformat": 4,
 "nbformat_minor": 4
}
