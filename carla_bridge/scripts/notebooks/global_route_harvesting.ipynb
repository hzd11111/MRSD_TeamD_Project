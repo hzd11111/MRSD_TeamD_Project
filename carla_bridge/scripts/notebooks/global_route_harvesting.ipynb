{
 "cells": [
  {
   "cell_type": "code",
   "execution_count": 1,
   "metadata": {},
   "outputs": [
    {
     "name": "stdout",
     "output_type": "stream",
     "text": [
      "Connection to CARLA server established!\n"
     ]
    }
   ],
   "source": [
    "import random\n",
    "import sys\n",
    "from typing import Optional, List\n",
    "from configparser import ConfigParser\n",
    "import time\n",
    "import numpy as np\n",
    "\n",
    "import carla\n",
    "import agents\n",
    "from agents.navigation.global_route_planner_dao import GlobalRoutePlannerDAO\n",
    "from agents.navigation.global_route_planner import GlobalRoutePlanner\n",
    "\n",
    "\n",
    "def draw_waypoints(\n",
    "    world: carla.libcarla.World,\n",
    "    waypoints: List[carla.libcarla.Waypoint],\n",
    "    life_time: float = 10.0,  # Seconds\n",
    "    color: List[int] = [0, 255, 0],\n",
    ") -> None:\n",
    "    \"\"\"\n",
    "    Draws a list of waypoints in the given CARLA world.\n",
    "    \"\"\"\n",
    "    if waypoints in [[], None]: return\n",
    "    gamma = 1\n",
    "    for waypoint in waypoints:\n",
    "        color = list((np.array(color)*gamma).astype(np.uint16))\n",
    "        gamma = gamma * 0.999\n",
    "        world.debug.draw_string(\n",
    "            waypoint.transform.location,\n",
    "            \"O\",\n",
    "            draw_shadow=False,\n",
    "            color=carla.Color(r=int(color[0]), g=int(color[1]), b=int(color[2])),\n",
    "            life_time=life_time,\n",
    "            persistent_lines=True,\n",
    "        )\n",
    "\n",
    "def get_client() -> carla.libcarla.Client:\n",
    "    \"\"\"\n",
    "    Get a CARLA client object. The client object enables interaction with the CARLA server.\n",
    "    \"\"\"\n",
    "    client = carla.Client(\"localhost\", 2000)\n",
    "    client.set_timeout(10.0)\n",
    "    print(\"Connection to CARLA server established!\")\n",
    "    return client\n",
    "\n",
    "def get_global_planner(\n",
    "    world: carla.libcarla.World, planner_resolution: float\n",
    ") -> agents.navigation.global_route_planner.GlobalRoutePlanner:\n",
    "    \"\"\"\n",
    "    Get a global route planner object. The planner object can be used to retrieve point to point routes and route topologies.\n",
    "    \"\"\"\n",
    "    world_map = world.get_map()\n",
    "    dao = GlobalRoutePlannerDAO(world_map, planner_resolution)\n",
    "    grp = GlobalRoutePlanner(dao)\n",
    "    grp.setup()\n",
    "    return grp\n",
    "\n",
    "def get_nearest_waypoint_location(ego_vehicle):\n",
    "    location = ego_vehicle.get_location()\n",
    "    nearest_waypoint_location = Map.get_waypoint(location, project_to_road=True).transform.location\n",
    "    print(nearest_waypoint_location)\n",
    "    return nearest_waypoint_location\n",
    "\n",
    "client = get_client()\n",
    "world = client.get_world()\n",
    "grp = get_global_planner(world=world, planner_resolution=2.0)\n",
    "Map = world.get_map()"
   ]
  },
  {
   "cell_type": "raw",
   "metadata": {},
   "source": [
    "Run the following steps:\n",
    "1. Run CARLA\n",
    "2. Run manual_control.py only"
   ]
  },
  {
   "cell_type": "code",
   "execution_count": 2,
   "metadata": {},
   "outputs": [],
   "source": [
    "ego_vehicle = world.get_actors().filter(\"vehicle*\")[0]"
   ]
  },
  {
   "cell_type": "code",
   "execution_count": 3,
   "metadata": {},
   "outputs": [
    {
     "name": "stdout",
     "output_type": "stream",
     "text": [
      "Location(x=24.541376, y=176.924805, z=0.000015)\n"
     ]
    }
   ],
   "source": [
    "start_location = get_nearest_waypoint_location(ego_vehicle)"
   ]
  },
  {
   "cell_type": "code",
   "execution_count": 4,
   "metadata": {},
   "outputs": [
    {
     "name": "stdout",
     "output_type": "stream",
     "text": [
      "Location(x=197.206894, y=133.290665, z=0.000000)\n"
     ]
    }
   ],
   "source": [
    "end_location = get_nearest_waypoint_location(ego_vehicle)"
   ]
  },
  {
   "cell_type": "code",
   "execution_count": 5,
   "metadata": {},
   "outputs": [],
   "source": [
    "# Generate the route using the global route planner object.\n",
    "route = grp.trace_route(start_location, end_location)\n",
    "route_waypoints = [route[i][0] for i in range(len(route))]\n",
    "\n",
    "# Draw the generated waypoints on the CARLA world.\n",
    "draw_waypoints(world, route_waypoints)"
   ]
  },
  {
   "cell_type": "code",
   "execution_count": null,
   "metadata": {},
   "outputs": [],
   "source": [
    "# list of start and end location tuples\n",
    "route_start_locations = [(-47.5,-18.8,0.06) ,(-66.5,-91.5,0), \n",
    "                         (-66.5,-91.5,0), (-131.7,-70.3,0), \n",
    "                         (-125.1,-17.9,0), (-47, 52, 0), (-47.5,-13.8,0),\n",
    "                         (96, 37, 0), (29, -130, 0)\n",
    "                        ]\n",
    "\n",
    "route_end_locations = [(-92.1,-91.5,0), (-167.1,-91.6,0), \n",
    "                       (-120.9,-120.970520,0), (-128.6,-18.8,0),\n",
    "                       (-121.2,-69.9,0), (-95,-91.5,0), (34,-124,0),\n",
    "                       (-72, 140, 0), (-128, -49, -0)\n",
    "                      ]\n",
    "\n",
    "\n",
    "'''\n",
    "LF - Lane Follow, RT/LT - Right/Left Turn, LCR/LCL - Lane chane right/left\n",
    "GS - Go straight\n",
    "Description of routes:Lane Following is involved in all of them\n",
    "0. Left turn at an intersection\n",
    "1. Go straight intersection\n",
    "2. Right turn intersection\n",
    "3. Lane change and right turn\n",
    "4. Left Lane Change\n",
    "5. Lane Fol - Go Str - Lane Fol - Left Turn - Lane Follow\n",
    "6. Lane Ch Right - Lane Fol - Right Turn - Left Change Lane - Left Turn\n",
    "7. (Bug free lanes) LF - GS - LCL - LF - LT - RT - LF - RT\n",
    "8. (Bug free lanes) LCR - LF - RT - LF - GS - LCL - LT - LF\n",
    "'''"
   ]
  },
  {
   "cell_type": "code",
   "execution_count": null,
   "metadata": {},
   "outputs": [],
   "source": [
    "# to check if the data has been recorded correctly\n",
    "chosen_route = 7 \n",
    "\n",
    "start_location = carla.Location(*route_start_locations[chosen_route])\n",
    "end_location =   carla.Location(  *route_end_locations[chosent_route])\n",
    "# Generate the route using the global route planner object.\n",
    "route = grp.trace_route(start_location, end_location)\n",
    "route_waypoints = [route[i][0] for i in range(len(route))]\n",
    "# Draw the generated waypoints on the CARLA world.\n",
    "draw_waypoints(world, route_waypoints)"
   ]
  }
 ],
 "metadata": {
  "kernelspec": {
   "display_name": "Python 3.7.9 64-bit ('graspEnv')",
   "language": "python",
   "name": "python37964bitgraspenve3ad3364fe934b61bb4035f33eaf68e5"
  },
  "language_info": {
   "codemirror_mode": {
    "name": "ipython",
    "version": 3
   },
   "file_extension": ".py",
   "mimetype": "text/x-python",
   "name": "python",
   "nbconvert_exporter": "python",
   "pygments_lexer": "ipython3",
   "version": "3.7.9"
  }
 },
 "nbformat": 4,
 "nbformat_minor": 4
}
