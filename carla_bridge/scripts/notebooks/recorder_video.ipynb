{
 "cells": [
  {
   "cell_type": "markdown",
   "metadata": {},
   "source": [
    "### Steps to record a Run"
   ]
  },
  {
   "cell_type": "markdown",
   "metadata": {},
   "source": [
    "1. Run CARLA\n",
    "2. RUN carla_node.py\n",
    "3. Run this script when the system is up and running"
   ]
  },
  {
   "cell_type": "code",
   "execution_count": 1,
   "metadata": {},
   "outputs": [],
   "source": [
    "import random\n",
    "import sys\n",
    "import time\n",
    "import carla\n",
    "from carla import ColorConverter as cc\n",
    "import numpy as np\n",
    "import numpy\n",
    "from PIL import Image\n",
    "import cv2\n",
    "from functools import partial\n",
    "\n",
    "# RUN_NAME = 'LANE_CHANGE_1'  # DEF CHANGE EACH RUN\n",
    "# OUTPUT_PATH = '/home/grasp/Desktop/videos/' + RUN_NAME + '/'\n",
    "HEIGHT = 720 #720p\n",
    "WIDTH = 1280\n",
    "QUALITY = 45\n",
    "EGO_NAME = 'ego'\n",
    "\n",
    "\n",
    "# camera sensor callback function, gets and image and saves it to the folder\n",
    "def to_bgra_array(image):\n",
    "    \"\"\"Convert a CARLA raw image to a BGRA numpy array.\"\"\"\n",
    "    array = numpy.frombuffer(image.raw_data, dtype=numpy.dtype(\"uint8\"))\n",
    "    array = numpy.reshape(array, (image.height, image.width, 4))\n",
    "    return array\n",
    "\n",
    "def to_rgb_array(image):\n",
    "    \"\"\"Convert a CARLA raw image to a RGB numpy array.\"\"\"\n",
    "    array = to_bgra_array(image)\n",
    "    # Convert BGRA to RGB.\n",
    "    array = array[:, :, :3]\n",
    "    array = array[:, :, ::-1]\n",
    "    return array\n",
    "\n",
    "def process_video(writer, image):\n",
    "    '''Process sensor data and save as video'''\n",
    "    image = to_rgb_array(image)\n",
    "    bgr_image = cv2.cvtColor(image, cv2.COLOR_RGB2BGR)\n",
    "    writer.write(bgr_image)"
   ]
  },
  {
   "cell_type": "code",
   "execution_count": 2,
   "metadata": {},
   "outputs": [],
   "source": [
    "fourcc = cv2.VideoWriter_fourcc('M','J','P','G')\n",
    "writer = cv2.VideoWriter('output.avi',fourcc, 20.0, (640,480))\n",
    "process_video_wrapped = partial(process_video, writer)\n",
    "client = carla.Client(\"localhost\", 2000)\n",
    "client.set_timeout(10.0)\n",
    "world = client.get_world()\n",
    "# grp = get_global_planner(world=world, planner_resolution=2.0)\n",
    "Map = world.get_map()"
   ]
  },
  {
   "cell_type": "code",
   "execution_count": 3,
   "metadata": {},
   "outputs": [
    {
     "name": "stdout",
     "output_type": "stream",
     "text": [
      "Actor(id=11713, type=vehicle.tesla.model3)\n",
      "Exit\n"
     ]
    }
   ],
   "source": [
    "fourcc = cv2.VideoWriter_fourcc('M','J','P','G')\n",
    "writer = cv2.VideoWriter('output.avi',fourcc, 20.0, (WIDTH,HEIGHT))\n",
    "process_video_wrapped = partial(process_video, writer)\n",
    "world.wait_for_tick(seconds=60)\n",
    "\n",
    "all_vehicles = world.get_actors().filter('vehicle.*')\n",
    "for vehicle in all_vehicles:\n",
    "    if vehicle.attributes['role_name'] == EGO_NAME:\n",
    "        ego_vehicle = vehicle\n",
    "        break\n",
    "print(ego_vehicle)\n",
    "\n",
    "camera_bp =  world.get_blueprint_library().find('sensor.camera.rgb')\n",
    "camera_bp.set_attribute('image_size_x', str(WIDTH))\n",
    "camera_bp.set_attribute('image_size_y', str(HEIGHT))\n",
    "\n",
    "transform = carla.Transform(carla.Location(x=-15.5, z=12.5), carla.Rotation(pitch=8.0))\n",
    "Attachment = carla.AttachmentType\n",
    "\n",
    "camera = world.spawn_actor(camera_bp, transform, attach_to=ego_vehicle, attachment_type=Attachment.SpringArm)\n",
    "camera.listen(process_video_wrapped)\n",
    "\n",
    "try:\n",
    "    while True:\n",
    "        world.wait_for_tick(seconds=60)\n",
    "        \n",
    "except KeyboardInterrupt:\n",
    "    camera.destroy()\n",
    "    print('Exit')"
   ]
  },
  {
   "cell_type": "code",
   "execution_count": null,
   "metadata": {},
   "outputs": [],
   "source": []
  }
 ],
 "metadata": {
  "kernelspec": {
   "display_name": "Python 3",
   "language": "python",
   "name": "python3"
  },
  "language_info": {
   "codemirror_mode": {
    "name": "ipython",
    "version": 3
   },
   "file_extension": ".py",
   "mimetype": "text/x-python",
   "name": "python",
   "nbconvert_exporter": "python",
   "pygments_lexer": "ipython3",
   "version": "3.7.9"
  }
 },
 "nbformat": 4,
 "nbformat_minor": 4
}
