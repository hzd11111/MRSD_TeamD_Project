{
 "cells": [
  {
   "cell_type": "markdown",
   "metadata": {},
   "source": [
    "### Steps to record a Run"
   ]
  },
  {
   "cell_type": "markdown",
   "metadata": {},
   "source": [
    "1. Run CARLA\n",
    "2. RUN carla_node.py\n",
    "3. Once carla_node is ready, come here and run the cell 1 and 2 below.\n",
    "\n",
    "The saved frames should occupy 1 mb per second of simulated run. So shouldnt take up much space. "
   ]
  },
  {
   "cell_type": "code",
   "execution_count": 1,
   "metadata": {},
   "outputs": [],
   "source": [
    "# CELL 1\n",
    "\n",
    "import random\n",
    "import sys\n",
    "import time\n",
    "import carla\n",
    "from carla import ColorConverter as cc\n",
    "import numpy as np\n",
    "import numpy\n",
    "from PIL import Image\n",
    "\n",
    "client = carla.Client(\"localhost\", 2000)\n",
    "client.set_timeout(10.0)\n",
    "world = client.get_world()\n",
    "# grp = get_global_planner(world=world, planner_resolution=2.0)\n",
    "Map = world.get_map()\n",
    "\n",
    "# camera sensor callback function, gets and image and saves it to the folder\n",
    "def to_bgra_array(image):\n",
    "    \"\"\"Convert a CARLA raw image to a BGRA numpy array.\"\"\"\n",
    "    array = numpy.frombuffer(image.raw_data, dtype=numpy.dtype(\"uint8\"))\n",
    "    array = numpy.reshape(array, (image.height, image.width, 4))\n",
    "    return array\n",
    "\n",
    "def to_rgb_array(image):\n",
    "    \"\"\"Convert a CARLA raw image to a RGB numpy array.\"\"\"\n",
    "    array = to_bgra_array(image)\n",
    "    # Convert BGRA to RGB.\n",
    "    array = array[:, :, :3]\n",
    "    array = array[:, :, ::-1]\n",
    "    return array\n",
    "\n",
    "def process_img(image):\n",
    "    '''Process sensor data and save as jpg'''\n",
    "    PATH = OUTPUT_PATH + ('%08d' % image.frame_number) +'.jpg'\n",
    "    im = to_rgb_array(image)\n",
    "    im = Image.fromarray(im)\n",
    "    im.save(PATH, quality=QUALITY)\n",
    "    \n",
    "def get_camera(ego_vehicle):\n",
    "    camera_bp =  world.get_blueprint_library().find('sensor.camera.rgb')\n",
    "    camera_bp.set_attribute('image_size_x', str(WIDTH))\n",
    "    camera_bp.set_attribute('image_size_y', str(HEIGHT))\n",
    "\n",
    "    transform = carla.Transform(carla.Location(x=-15.5, z=12.5), carla.Rotation(pitch=8.0))\n",
    "    Attachment = carla.AttachmentType\n",
    "\n",
    "    camera = world.spawn_actor(camera_bp, transform, attach_to=ego_vehicle, attachment_type=Attachment.SpringArm)\n",
    "    camera.listen(process_img)\n",
    "    \n",
    "    return camera\n",
    "\n",
    "def get_ego_vehicle():\n",
    "    world.wait_for_tick(seconds=10)\n",
    "    ego_vehicle = None\n",
    "    \n",
    "    while ego_vehicle == None:\n",
    "        all_vehicles = world.get_actors().filter('vehicle.*')\n",
    "        for vehicle in all_vehicles:\n",
    "            if vehicle.attributes['role_name'] == EGO_NAME:\n",
    "                ego_vehicle = vehicle\n",
    "                break\n",
    "                \n",
    "        if ego_vehicle is not None: break\n",
    "            \n",
    "    return ego_vehicle"
   ]
  },
  {
   "cell_type": "markdown",
   "metadata": {},
   "source": [
    "4. Change the parameter of the run_name below and execute the cells, the frames will get recorded in the folder when the simulation steps"
   ]
  },
  {
   "cell_type": "code",
   "execution_count": 5,
   "metadata": {},
   "outputs": [],
   "source": [
    "# CELL 2\n",
    "\n",
    "RUN_NAME = 'LEFT_LANE_CHANGE_1'  # DEF CHANGE EACH RUN\n",
    "OUTPUT_PATH = '/home/grasp/Desktop/videos/' + RUN_NAME + '/' # change save path\n",
    "\n",
    "# should be mostly fine, talk to rohan before changing, \n",
    "HEIGHT = 720 #720p\n",
    "WIDTH = 1280\n",
    "QUALITY = 45\n",
    "EGO_NAME = 'ego'"
   ]
  },
  {
   "cell_type": "markdown",
   "metadata": {},
   "source": [
    "5. Now run fp_node or point_to_point_nav_node run the cell below. The timeout on the cell below is 60s, so make sure the simulation starts moving things within 60s. "
   ]
  },
  {
   "cell_type": "code",
   "execution_count": 4,
   "metadata": {},
   "outputs": [
    {
     "name": "stdout",
     "output_type": "stream",
     "text": [
      "Actor(id=1562, type=vehicle.tesla.model3)\n"
     ]
    }
   ],
   "source": [
    "# waits for 60s for the sim to start running \n",
    "world.wait_for_tick(seconds=60) \n",
    "\n",
    "while True: #loops over multiple runs\n",
    "    ego_vehicle = get_ego_vehicle()\n",
    "    camera = get_camera(ego_vehicle)\n",
    "    \n",
    "    try:\n",
    "        while True:\n",
    "            world.wait_for_tick(seconds=60)\n",
    "            \n",
    "            # ego id may change between runs, so need to reattach camera\n",
    "            if ego_vehicle.get_location().x == 0.000000:\n",
    "                camera.destroy()\n",
    "                ego_vehicle = get_ego_vehicle()\n",
    "                print(ego_vehicle)\n",
    "                camera = get_camera(ego_vehicle)\n",
    "\n",
    "    except KeyboardInterrupt:\n",
    "        camera.destroy()\n",
    "        print('Exit')\n",
    "    finally:\n",
    "        camera.destroy()\n",
    "        break"
   ]
  },
  {
   "cell_type": "markdown",
   "metadata": {},
   "source": [
    "### After running the cell above\n",
    "\n",
    "6. Run fp_node.py or point_to_point based on scenario (if model load takes more then 60 seconds. the above cell will timeout, in which case rerun the cell)\n",
    "7. When you want to stop recording, stop the cell (restart the kernel)."
   ]
  },
  {
   "cell_type": "markdown",
   "metadata": {},
   "source": [
    "## CONVERT RECORDING TO VIDEO"
   ]
  },
  {
   "cell_type": "markdown",
   "metadata": {},
   "source": [
    "1. In terminal, navigate to the folder where you saved the current run\n",
    "2. Run this command:\n",
    "   ffmpeg -r 45 -pattern_type glob -i '*.jpg' -vb 2M -vcodec libx265 video.mp4 \n",
    "   \n",
    "   Arguments (mostly recommended, but feel free to experiment):\n",
    "   -r: frames per second (since our sim works at 20fps, 45 fps in video is 2.25x fast)\n",
    "   -pattern_type: just finds all .jpg images in a folder\n",
    "   -vb: video bitrate, basically video quality/compression control, \n",
    "   -vcodec: x265 is the latest, smallest file size\n",
    "   \n",
    "3. Rename the file\n",
    "   -filename is video.mp4, rename it to the following format\n",
    "   \n",
    "   SCENARIO_TRAFFICDENSITY_DIFFICULTY_RUNNUMBER.MP4\n",
    "       SCENARIO: \"RIGHTTURN\", \"LEFTTURN\", \"LANECHANGERIGHT\", \"GOSTRAIGHT\", \"P2PROUTE8\", \"P2PROUTE2\", etc\n",
    "       TRAFFICDENSITY: \"HIGH\" for 200, \"MED\" for 150, \"LOW\" for 100\n",
    "       DIFFICULTY: Describe the scenario out of the following tags: EASY, HARD, MEDIUM. hard scenariou would include some good negotiation for that scenario. \n",
    "   \n",
    "   example: RIGHTTURN_HIGH_HARD_01.mp4, P2PROUTE5_LOW_EASY_03.mp4\n",
    "   \n",
    "4. Upload the file: upload the videos to the SVD_VIDEOS folder in SHARED DRIVE. "
   ]
  }
 ],
 "metadata": {
  "kernelspec": {
   "display_name": "Python 3",
   "language": "python",
   "name": "python3"
  },
  "language_info": {
   "codemirror_mode": {
    "name": "ipython",
    "version": 3
   },
   "file_extension": ".py",
   "mimetype": "text/x-python",
   "name": "python",
   "nbconvert_exporter": "python",
   "pygments_lexer": "ipython3",
   "version": "3.7.9"
  }
 },
 "nbformat": 4,
 "nbformat_minor": 4
}
