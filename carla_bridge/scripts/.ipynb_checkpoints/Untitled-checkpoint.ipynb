{
 "cells": [
  {
   "cell_type": "code",
   "execution_count": 18,
   "metadata": {},
   "outputs": [],
   "source": [
    "import carla\n",
    "import numpy as np\n",
    "client = carla.Client('localhost', 2000)\n",
    "client.set_timeout(2.0)"
   ]
  },
  {
   "cell_type": "code",
   "execution_count": 19,
   "metadata": {},
   "outputs": [],
   "source": [
    "client.set_timeout(30)"
   ]
  },
  {
   "cell_type": "code",
   "execution_count": 20,
   "metadata": {},
   "outputs": [
    {
     "data": {
      "text/plain": [
       "<carla.libcarla.World at 0x7f22740805d0>"
      ]
     },
     "execution_count": 20,
     "metadata": {},
     "output_type": "execute_result"
    }
   ],
   "source": [
    "client.load_world(\"Town01\")"
   ]
  },
  {
   "cell_type": "code",
   "execution_count": 34,
   "metadata": {},
   "outputs": [],
   "source": [
    "import random, re\n",
    "world_map = client.get_world().get_map()\n",
    "client.get_world().set_weather(find_weather_presets()[2][0])\n",
    "blueprint_library = client.get_world().get_blueprint_library()\n",
    "spawn_pts = world_map.get_spawn_points()\n",
    "spawn_point = random.choice(spawn_pts)"
   ]
  },
  {
   "cell_type": "code",
   "execution_count": 30,
   "metadata": {},
   "outputs": [],
   "source": [
    "vehicle_blueprint = blueprint_library.filter(\"model3\")[0]"
   ]
  },
  {
   "cell_type": "code",
   "execution_count": 31,
   "metadata": {},
   "outputs": [],
   "source": [
    "vehicle = client.get_world().spawn_actor(vehicle_blueprint, spawn_point)"
   ]
  },
  {
   "cell_type": "code",
   "execution_count": 35,
   "metadata": {},
   "outputs": [],
   "source": [
    "transform = vehicle.get_transform()"
   ]
  },
  {
   "cell_type": "code",
   "execution_count": 37,
   "metadata": {},
   "outputs": [
    {
     "data": {
      "text/plain": [
       "matrix([[-9.99997181e-01, -4.92467783e-06,  2.37452788e-03,\n",
       "          1.57188889e+02],\n",
       "        [ 5.05999181e-06, -9.99999998e-01,  5.69796281e-05,\n",
       "          1.29752579e+02],\n",
       "        [ 2.37452759e-03,  5.69914826e-05,  9.99997179e-01,\n",
       "         -5.45665715e-03],\n",
       "        [ 0.00000000e+00,  0.00000000e+00,  0.00000000e+00,\n",
       "          1.00000000e+00]])"
      ]
     },
     "execution_count": 37,
     "metadata": {},
     "output_type": "execute_result"
    }
   ],
   "source": [
    "get_matrix(transform)"
   ]
  },
  {
   "cell_type": "code",
   "execution_count": 38,
   "metadata": {},
   "outputs": [
    {
     "data": {
      "text/plain": [
       "array([[ 2.40441084,  1.08475292, -0.76159108,  1.        ],\n",
       "       [-2.40441084,  1.08475292, -0.76159108,  1.        ],\n",
       "       [-2.40441084, -1.08475292, -0.76159108,  1.        ],\n",
       "       [ 2.40441084, -1.08475292, -0.76159108,  1.        ],\n",
       "       [ 2.40441084,  1.08475292,  0.76159108,  1.        ],\n",
       "       [-2.40441084,  1.08475292,  0.76159108,  1.        ],\n",
       "       [-2.40441084, -1.08475292,  0.76159108,  1.        ],\n",
       "       [ 2.40441084, -1.08475292,  0.76159108,  1.        ]])"
      ]
     },
     "execution_count": 38,
     "metadata": {},
     "output_type": "execute_result"
    }
   ],
   "source": [
    "create_bb_points(vehicle)"
   ]
  },
  {
   "cell_type": "code",
   "execution_count": 44,
   "metadata": {},
   "outputs": [
    {
     "data": {
      "text/plain": [
       "matrix([[154.78267073, 128.66779459,  -0.76127442,   1.        ],\n",
       "        [159.59147885, 128.66777026,  -0.7726931 ,   1.        ],\n",
       "        [159.59148953, 130.83727609,  -0.77281675,   1.        ],\n",
       "        [154.78268141, 130.83730042,  -0.76139807,   1.        ],\n",
       "        [154.78628757, 128.66788138,   0.76190343,   1.        ],\n",
       "        [159.59509569, 128.66785705,   0.75048475,   1.        ],\n",
       "        [159.59510637, 130.83736288,   0.75036111,   1.        ],\n",
       "        [154.78629825, 130.83738721,   0.76177979,   1.        ]])"
      ]
     },
     "execution_count": 44,
     "metadata": {},
     "output_type": "execute_result"
    }
   ],
   "source": [
    "np.matmul(get_matrix(transform), create_bb_points(vehicle).T).T"
   ]
  },
  {
   "cell_type": "code",
   "execution_count": 45,
   "metadata": {
    "scrolled": true
   },
   "outputs": [
    {
     "data": {
      "text/plain": [
       "129.75257873535156"
      ]
     },
     "execution_count": 45,
     "metadata": {},
     "output_type": "execute_result"
    }
   ],
   "source": [
    "vehicle.get_location().y"
   ]
  },
  {
   "cell_type": "code",
   "execution_count": null,
   "metadata": {},
   "outputs": [],
   "source": [
    "client.get_world().debug.draw_string(future_loc, '0', draw_shadow=False,\n",
    "                            color=carla.Color(r=0, g=0, b=255), life_time=5,\n",
    "                            persistent_lines=False)"
   ]
  },
  {
   "cell_type": "code",
   "execution_count": 32,
   "metadata": {},
   "outputs": [],
   "source": [
    "def get_matrix(transform):\n",
    "    \"\"\"\n",
    "    Creates matrix from carla transform.\n",
    "    \"\"\"\n",
    "\n",
    "    rotation = transform.rotation\n",
    "    location = transform.location\n",
    "    c_y = np.cos(np.radians(rotation.yaw))\n",
    "    s_y = np.sin(np.radians(rotation.yaw))\n",
    "    c_r = np.cos(np.radians(rotation.roll))\n",
    "    s_r = np.sin(np.radians(rotation.roll))\n",
    "    c_p = np.cos(np.radians(rotation.pitch))\n",
    "    s_p = np.sin(np.radians(rotation.pitch))\n",
    "    matrix = np.matrix(np.identity(4))\n",
    "    matrix[0, 3] = location.x\n",
    "    matrix[1, 3] = location.y\n",
    "    matrix[2, 3] = location.z\n",
    "    matrix[0, 0] = c_p * c_y\n",
    "    matrix[0, 1] = c_y * s_p * s_r - s_y * c_r\n",
    "    matrix[0, 2] = -c_y * s_p * c_r - s_y * s_r\n",
    "    matrix[1, 0] = s_y * c_p\n",
    "    matrix[1, 1] = s_y * s_p * s_r + c_y * c_r\n",
    "    matrix[1, 2] = -s_y * s_p * c_r + c_y * s_r\n",
    "    matrix[2, 0] = s_p\n",
    "    matrix[2, 1] = -c_p * s_r\n",
    "    matrix[2, 2] = c_p * c_r\n",
    "    return matrix\n",
    "\n",
    "\n",
    "\n",
    "def create_bb_points(vehicle):\n",
    "    \"\"\"\n",
    "    Returns 3D bounding box for a vehicle.\n",
    "    \"\"\"\n",
    "\n",
    "    cords = np.zeros((8, 4))\n",
    "    extent = vehicle.bounding_box.extent\n",
    "    cords[0, :] = np.array([extent.x, extent.y, -extent.z, 1])\n",
    "    cords[1, :] = np.array([-extent.x, extent.y, -extent.z, 1])\n",
    "    cords[2, :] = np.array([-extent.x, -extent.y, -extent.z, 1])\n",
    "    cords[3, :] = np.array([extent.x, -extent.y, -extent.z, 1])\n",
    "    cords[4, :] = np.array([extent.x, extent.y, extent.z, 1])\n",
    "    cords[5, :] = np.array([-extent.x, extent.y, extent.z, 1])\n",
    "    cords[6, :] = np.array([-extent.x, -extent.y, extent.z, 1])\n",
    "    cords[7, :] = np.array([extent.x, -extent.y, extent.z, 1])\n",
    "    return cords\n",
    "\n",
    "def find_weather_presets():\n",
    "    rgx = re.compile('.+?(?:(?<=[a-z])(?=[A-Z])|(?<=[A-Z])(?=[A-Z][a-z])|$)')\n",
    "    name = lambda x: ' '.join(m.group(0) for m in rgx.finditer(x))\n",
    "    presets = [x for x in dir(carla.WeatherParameters) if re.match('[A-Z].+', x)]\n",
    "    return [(getattr(carla.WeatherParameters, x), name(x)) for x in presets]\n"
   ]
  },
  {
   "cell_type": "code",
   "execution_count": null,
   "metadata": {},
   "outputs": [],
   "source": []
  }
 ],
 "metadata": {
  "kernelspec": {
   "display_name": "Python 3",
   "language": "python",
   "name": "python3"
  },
  "language_info": {
   "codemirror_mode": {
    "name": "ipython",
    "version": 3
   },
   "file_extension": ".py",
   "mimetype": "text/x-python",
   "name": "python",
   "nbconvert_exporter": "python",
   "pygments_lexer": "ipython3",
   "version": "3.6.9"
  }
 },
 "nbformat": 4,
 "nbformat_minor": 4
}
